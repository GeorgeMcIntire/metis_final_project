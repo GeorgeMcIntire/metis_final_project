{
 "cells": [
  {
   "cell_type": "code",
   "execution_count": 1,
   "metadata": {
    "collapsed": false
   },
   "outputs": [
    {
     "name": "stderr",
     "output_type": "stream",
     "text": [
      "/Users/georgemcintire/anaconda/lib/python2.7/site-packages/matplotlib/font_manager.py:273: UserWarning: Matplotlib is building the font cache using fc-list. This may take a moment.\n",
      "  warnings.warn('Matplotlib is building the font cache using fc-list. This may take a moment.')\n",
      "/Users/georgemcintire/anaconda/lib/python2.7/site-packages/matplotlib/__init__.py:872: UserWarning: axes.color_cycle is deprecated and replaced with axes.prop_cycle; please use the latter.\n",
      "  warnings.warn(self.msg_depr % (key, alt_key))\n"
     ]
    },
    {
     "data": {
      "text/html": [
       "<style>body {\n",
       "    margin: 0;\n",
       "    font-family: Helvetica;\n",
       "}\n",
       "table.dataframe {\n",
       "    border-collapse: collapse;\n",
       "    border: none;\n",
       "}\n",
       "table.dataframe tr {\n",
       "    border: none;\n",
       "}\n",
       "table.dataframe td, table.dataframe th {\n",
       "    margin: 0;\n",
       "    border: 1px solid white;\n",
       "    padding-left: 0.25em;\n",
       "    padding-right: 0.25em;\n",
       "}\n",
       "table.dataframe th:not(:empty) {\n",
       "    background-color: #fec;\n",
       "    text-align: left;\n",
       "    font-weight: normal;\n",
       "}\n",
       "table.dataframe tr:nth-child(2) th:empty {\n",
       "    border-left: none;\n",
       "    border-right: 1px dashed #888;\n",
       "}\n",
       "table.dataframe td {\n",
       "    border: 2px solid #ccf;\n",
       "    background-color: #f4f4ff;\n",
       "}\n",
       "h3 {\n",
       "    color: white;\n",
       "    background-color: black;\n",
       "    padding: 0.5em;\n",
       "}\n",
       "</style>"
      ],
      "text/plain": [
       "<IPython.core.display.HTML object>"
      ]
     },
     "execution_count": 1,
     "metadata": {},
     "output_type": "execute_result"
    }
   ],
   "source": [
    "import pandas as pd\n",
    "import numpy as np\n",
    "import matplotlib.pyplot as plt\n",
    "%matplotlib inline\n",
    "import seaborn as sns\n",
    "import pickle\n",
    "plt.style.use(\"fivethirtyeight\")\n",
    "from IPython.core.display import HTML\n",
    "css = open('/Users/georgemcintire/Data Science:Python/pycon-pandas-tutorial/style-table.css').read() + open('/Users/georgemcintire/Data Science:Python/pycon-pandas-tutorial/style-notebook.css').read()\n",
    "HTML('<style>{}</style>'.format(css))"
   ]
  },
  {
   "cell_type": "markdown",
   "metadata": {},
   "source": [
    "Load in database of police violence victims from Fatal Encounters https://numeracy.co/projects/1rZPfKbUtxa"
   ]
  },
  {
   "cell_type": "code",
   "execution_count": 2,
   "metadata": {
    "collapsed": true
   },
   "outputs": [],
   "source": [
    "fe = pd.read_csv(\"fatal_encounters_form_responses.csv\")"
   ]
  },
  {
   "cell_type": "code",
   "execution_count": 3,
   "metadata": {
    "collapsed": false
   },
   "outputs": [],
   "source": [
    "fe[\"county_state\"] = fe[\"Location of death (county)\"] + \", \" + fe[\"Location of death (state)\"]"
   ]
  },
  {
   "cell_type": "code",
   "execution_count": 8,
   "metadata": {
    "collapsed": false
   },
   "outputs": [],
   "source": [
    "\n",
    "fe[\"year\"] = pd.to_datetime(fe[\"Date of injury resulting in death (month/day/year)\"])\n",
    "fe[\"year\"] = fe[\"year\"].dt.year"
   ]
  },
  {
   "cell_type": "code",
   "execution_count": 9,
   "metadata": {
    "collapsed": false
   },
   "outputs": [],
   "source": [
    "df = fe[(fe[\"year\"]>=2013) & (fe[\"year\"] <2016)]"
   ]
  },
  {
   "cell_type": "code",
   "execution_count": 58,
   "metadata": {
    "collapsed": false
   },
   "outputs": [
    {
     "data": {
      "text/html": [
       "<div>\n",
       "<table border=\"1\" class=\"dataframe\">\n",
       "  <thead>\n",
       "    <tr style=\"text-align: right;\">\n",
       "      <th></th>\n",
       "      <th>Location of death (zip code)</th>\n",
       "      <th>Location of death (county)</th>\n",
       "      <th>Agency responsible for death</th>\n",
       "      <th>Cause of death</th>\n",
       "      <th>A brief description of the circumstances surrounding the death</th>\n",
       "      <th>Official disposition of death (justified or other)</th>\n",
       "      <th>Link to news article or photo of official document</th>\n",
       "      <th>Symptoms of mental illness?</th>\n",
       "      <th>Unique identifier/submitted by</th>\n",
       "      <th>Email address</th>\n",
       "      <th>Date&amp;Description</th>\n",
       "      <th>11883</th>\n",
       "      <th>Unique identifier</th>\n",
       "      <th>Unnamed: 23</th>\n",
       "      <th>Unnamed: 24</th>\n",
       "    </tr>\n",
       "  </thead>\n",
       "  <tbody>\n",
       "    <tr>\n",
       "      <th>0</th>\n",
       "      <td>60466.0</td>\n",
       "      <td>Cook</td>\n",
       "      <td>Park Forest Police Department</td>\n",
       "      <td>Gunshot</td>\n",
       "      <td>Park Forest Police were investigating a break-...</td>\n",
       "      <td>Pending investigation</td>\n",
       "      <td>http://chicago.cbslocal.com/2016/03/19/suspect...</td>\n",
       "      <td>No</td>\n",
       "      <td>NaN</td>\n",
       "      <td>NaN</td>\n",
       "      <td>3/19/2016: Park Forest Police were investigati...</td>\n",
       "      <td>11883</td>\n",
       "      <td>11883</td>\n",
       "      <td>NaN</td>\n",
       "      <td>NaN</td>\n",
       "    </tr>\n",
       "    <tr>\n",
       "      <th>1</th>\n",
       "      <td>42442.0</td>\n",
       "      <td>Hopkins</td>\n",
       "      <td>Kentucky State Police</td>\n",
       "      <td>Gunshot</td>\n",
       "      <td>Kentucky State Police says a trooper was invol...</td>\n",
       "      <td>Pending investigation</td>\n",
       "      <td>http://www.wbko.com/content/news/KSP-Trooper-i...</td>\n",
       "      <td>No</td>\n",
       "      <td>NaN</td>\n",
       "      <td>NaN</td>\n",
       "      <td>3/19/2016: Kentucky State Police says a troope...</td>\n",
       "      <td>11882</td>\n",
       "      <td>11882</td>\n",
       "      <td>NaN</td>\n",
       "      <td>NaN</td>\n",
       "    </tr>\n",
       "    <tr>\n",
       "      <th>2</th>\n",
       "      <td>23518.0</td>\n",
       "      <td>Norfolk City</td>\n",
       "      <td>Norfolk Police Department</td>\n",
       "      <td>Gunshot</td>\n",
       "      <td>Police said Beaty threatened a man with a repl...</td>\n",
       "      <td>Pending investigation</td>\n",
       "      <td>http://wtkr.com/2016/03/19/woman-killed-in-off...</td>\n",
       "      <td>No</td>\n",
       "      <td>NaN</td>\n",
       "      <td>NaN</td>\n",
       "      <td>3/19/2016: Police said Beaty threatened a man ...</td>\n",
       "      <td>NaN</td>\n",
       "      <td>11881</td>\n",
       "      <td>NaN</td>\n",
       "      <td>NaN</td>\n",
       "    </tr>\n",
       "    <tr>\n",
       "      <th>3</th>\n",
       "      <td>94514.0</td>\n",
       "      <td>Contra Costa</td>\n",
       "      <td>Contra Costa County Sheriff’s Office</td>\n",
       "      <td>Gunshot</td>\n",
       "      <td>Police went to arrest a man for child molestat...</td>\n",
       "      <td>Pending investigation</td>\n",
       "      <td>http://www.sfgate.com/crime/article/Police-sho...</td>\n",
       "      <td>No</td>\n",
       "      <td>NaN</td>\n",
       "      <td>NaN</td>\n",
       "      <td>3/18/2016: Police went to arrest a man for chi...</td>\n",
       "      <td>NaN</td>\n",
       "      <td>11880</td>\n",
       "      <td>NaN</td>\n",
       "      <td>NaN</td>\n",
       "    </tr>\n",
       "    <tr>\n",
       "      <th>4</th>\n",
       "      <td>29607.0</td>\n",
       "      <td>Greenville</td>\n",
       "      <td>Greenville Police Department</td>\n",
       "      <td>Gunshot</td>\n",
       "      <td>Officer Allen Jacobs and his partner were on p...</td>\n",
       "      <td>Pending investigation</td>\n",
       "      <td>http://www.greenvilleonline.com/story/news/cri...</td>\n",
       "      <td>No</td>\n",
       "      <td>NaN</td>\n",
       "      <td>NaN</td>\n",
       "      <td>3/18/2016: Officer Allen Jacobs and his partne...</td>\n",
       "      <td>NaN</td>\n",
       "      <td>11879</td>\n",
       "      <td>NaN</td>\n",
       "      <td>NaN</td>\n",
       "    </tr>\n",
       "    <tr>\n",
       "      <th>5</th>\n",
       "      <td>33611.0</td>\n",
       "      <td>Hillsborough</td>\n",
       "      <td>Tampa Police Department</td>\n",
       "      <td>Gunshot</td>\n",
       "      <td>Police say officers responded to a domestic di...</td>\n",
       "      <td>Pending investigation</td>\n",
       "      <td>http://www.baynews9.com/content/news/baynews9/...</td>\n",
       "      <td>No</td>\n",
       "      <td>NaN</td>\n",
       "      <td>NaN</td>\n",
       "      <td>3/17/2016: Police say officers responded to a ...</td>\n",
       "      <td>NaN</td>\n",
       "      <td>11878</td>\n",
       "      <td>NaN</td>\n",
       "      <td>NaN</td>\n",
       "    </tr>\n",
       "    <tr>\n",
       "      <th>6</th>\n",
       "      <td>55337.0</td>\n",
       "      <td>Dakota</td>\n",
       "      <td>Burnsville Police Department</td>\n",
       "      <td>Gunshot</td>\n",
       "      <td>Officers responded to a call about a man actin...</td>\n",
       "      <td>Pending investigation</td>\n",
       "      <td>http://www.startribune.com/five-officers-named...</td>\n",
       "      <td>No</td>\n",
       "      <td>NaN</td>\n",
       "      <td>NaN</td>\n",
       "      <td>3/17/2016: Officers responded to a call about ...</td>\n",
       "      <td>NaN</td>\n",
       "      <td>11877</td>\n",
       "      <td>NaN</td>\n",
       "      <td>NaN</td>\n",
       "    </tr>\n",
       "    <tr>\n",
       "      <th>7</th>\n",
       "      <td>15059.0</td>\n",
       "      <td>Beaver</td>\n",
       "      <td>Midland Police Department, Ohioville Police De...</td>\n",
       "      <td>Gunshot</td>\n",
       "      <td>Authorities said Shorak, who had been drinking...</td>\n",
       "      <td>Pending investigation</td>\n",
       "      <td>http://www.wpxi.com/news/news/local/shots-fire...</td>\n",
       "      <td>Drug or alcohol use</td>\n",
       "      <td>NaN</td>\n",
       "      <td>NaN</td>\n",
       "      <td>3/17/2016: Authorities said Shorak, who had be...</td>\n",
       "      <td>NaN</td>\n",
       "      <td>11876</td>\n",
       "      <td>NaN</td>\n",
       "      <td>NaN</td>\n",
       "    </tr>\n",
       "    <tr>\n",
       "      <th>8</th>\n",
       "      <td>29588.0</td>\n",
       "      <td>Horry</td>\n",
       "      <td>Horry County Police Department</td>\n",
       "      <td>Gunshot</td>\n",
       "      <td>Police responded to a suicidal call. After a f...</td>\n",
       "      <td>Suicide</td>\n",
       "      <td>http://www.myrtlebeachonline.com/news/local/ar...</td>\n",
       "      <td>Yes</td>\n",
       "      <td>NaN</td>\n",
       "      <td>NaN</td>\n",
       "      <td>3/17/2016: Police responded to a suicidal call...</td>\n",
       "      <td>NaN</td>\n",
       "      <td>11875</td>\n",
       "      <td>NaN</td>\n",
       "      <td>NaN</td>\n",
       "    </tr>\n",
       "    <tr>\n",
       "      <th>9</th>\n",
       "      <td>77037.0</td>\n",
       "      <td>Harris</td>\n",
       "      <td>Houston Police Department</td>\n",
       "      <td>Gunshot</td>\n",
       "      <td>Police were surveiling five suspects who attem...</td>\n",
       "      <td>Pending investigation</td>\n",
       "      <td>http://www.brownsvilleherald.com/news/texas/ar...</td>\n",
       "      <td>No</td>\n",
       "      <td>NaN</td>\n",
       "      <td>NaN</td>\n",
       "      <td>3/17/2016: Police were surveiling five suspect...</td>\n",
       "      <td>NaN</td>\n",
       "      <td>11874</td>\n",
       "      <td>NaN</td>\n",
       "      <td>NaN</td>\n",
       "    </tr>\n",
       "    <tr>\n",
       "      <th>10</th>\n",
       "      <td>77037.0</td>\n",
       "      <td>Harris</td>\n",
       "      <td>Houston Police Department</td>\n",
       "      <td>Gunshot</td>\n",
       "      <td>Police were surveiling five suspects who attem...</td>\n",
       "      <td>Pending investigation</td>\n",
       "      <td>http://www.brownsvilleherald.com/news/texas/ar...</td>\n",
       "      <td>No</td>\n",
       "      <td>NaN</td>\n",
       "      <td>NaN</td>\n",
       "      <td>3/17/2016: Police were surveiling five suspect...</td>\n",
       "      <td>NaN</td>\n",
       "      <td>11873</td>\n",
       "      <td>NaN</td>\n",
       "      <td>NaN</td>\n",
       "    </tr>\n",
       "    <tr>\n",
       "      <th>11</th>\n",
       "      <td>90001.0</td>\n",
       "      <td>Los Angeles</td>\n",
       "      <td>Los Angeles County Sheriff's Office</td>\n",
       "      <td>Gunshot</td>\n",
       "      <td>Deputies responded to a false robbery report a...</td>\n",
       "      <td>Pending investigation</td>\n",
       "      <td>http://homicide.latimes.com/post/cristian-rene...</td>\n",
       "      <td>No</td>\n",
       "      <td>NaN</td>\n",
       "      <td>NaN</td>\n",
       "      <td>3/16/2016: Deputies responded to a false robbe...</td>\n",
       "      <td>NaN</td>\n",
       "      <td>11872</td>\n",
       "      <td>NaN</td>\n",
       "      <td>NaN</td>\n",
       "    </tr>\n",
       "    <tr>\n",
       "      <th>12</th>\n",
       "      <td>28379.0</td>\n",
       "      <td>Anson</td>\n",
       "      <td>Anson County Sheriff’s Office</td>\n",
       "      <td>Gunshot</td>\n",
       "      <td>Deputies were called to check the welfare of a...</td>\n",
       "      <td>Pending investigation</td>\n",
       "      <td>http://ansonrecord.com/top-stories/2255/anson-...</td>\n",
       "      <td>No</td>\n",
       "      <td>NaN</td>\n",
       "      <td>NaN</td>\n",
       "      <td>3/16/2016: Deputies were called to check the w...</td>\n",
       "      <td>NaN</td>\n",
       "      <td>11871</td>\n",
       "      <td>NaN</td>\n",
       "      <td>NaN</td>\n",
       "    </tr>\n",
       "    <tr>\n",
       "      <th>13</th>\n",
       "      <td>78214.0</td>\n",
       "      <td>Bexar</td>\n",
       "      <td>San Antonio Police Department</td>\n",
       "      <td>Gunshot</td>\n",
       "      <td>Hernandez got into an altercation with neighbo...</td>\n",
       "      <td>Pending investigation</td>\n",
       "      <td>http://www.ksat.com/news/sapd-responds-to-shoo...</td>\n",
       "      <td>No</td>\n",
       "      <td>NaN</td>\n",
       "      <td>NaN</td>\n",
       "      <td>3/16/2016: Hernandez got into an altercation w...</td>\n",
       "      <td>NaN</td>\n",
       "      <td>11870</td>\n",
       "      <td>NaN</td>\n",
       "      <td>NaN</td>\n",
       "    </tr>\n",
       "    <tr>\n",
       "      <th>14</th>\n",
       "      <td>47715.0</td>\n",
       "      <td>Vanderburgh</td>\n",
       "      <td>Evansville Police Department</td>\n",
       "      <td>Gunshot</td>\n",
       "      <td>Evansville officers fatally shot a man after a...</td>\n",
       "      <td>Pending investigation</td>\n",
       "      <td>http://www.courierpress.com/news/crime/coroner...</td>\n",
       "      <td>No</td>\n",
       "      <td>NaN</td>\n",
       "      <td>NaN</td>\n",
       "      <td>3/15/2016: Evansville officers fatally shot a ...</td>\n",
       "      <td>NaN</td>\n",
       "      <td>11869</td>\n",
       "      <td>NaN</td>\n",
       "      <td>NaN</td>\n",
       "    </tr>\n",
       "    <tr>\n",
       "      <th>15</th>\n",
       "      <td>42276</td>\n",
       "      <td>Logan</td>\n",
       "      <td>Russellville Police Department</td>\n",
       "      <td>Gunshot</td>\n",
       "      <td>Harris apparently shot his girlfriend and then...</td>\n",
       "      <td>Pending investigation</td>\n",
       "      <td>http://www.wsmv.com/story/31475336/1-killed-3-...</td>\n",
       "      <td>No</td>\n",
       "      <td>NaN</td>\n",
       "      <td>NaN</td>\n",
       "      <td>3/15/2016: Harris apparently shot his girlfrie...</td>\n",
       "      <td>NaN</td>\n",
       "      <td>11841</td>\n",
       "      <td>NaN</td>\n",
       "      <td>NaN</td>\n",
       "    </tr>\n",
       "    <tr>\n",
       "      <th>16</th>\n",
       "      <td>76108</td>\n",
       "      <td>Tarrant</td>\n",
       "      <td>Fort Worth Police Department</td>\n",
       "      <td>Gunshot</td>\n",
       "      <td>Fort Worth police officers attempted a felony ...</td>\n",
       "      <td>Pending investigation</td>\n",
       "      <td>http://dfw.cbslocal.com/2016/03/15/deceased-su...</td>\n",
       "      <td>No</td>\n",
       "      <td>NaN</td>\n",
       "      <td>NaN</td>\n",
       "      <td>3/15/2016: Fort Worth police officers attempte...</td>\n",
       "      <td>NaN</td>\n",
       "      <td>11840</td>\n",
       "      <td>NaN</td>\n",
       "      <td>NaN</td>\n",
       "    </tr>\n",
       "    <tr>\n",
       "      <th>17</th>\n",
       "      <td>60624</td>\n",
       "      <td>Cook</td>\n",
       "      <td>Chicago Police Department</td>\n",
       "      <td>Gunshot</td>\n",
       "      <td>Officers were investigating \"possible narcotic...</td>\n",
       "      <td>Pending investigation</td>\n",
       "      <td>http://www.chicagotribune.com/news/local/break...</td>\n",
       "      <td>No</td>\n",
       "      <td>NaN</td>\n",
       "      <td>NaN</td>\n",
       "      <td>3/14/2016: Officers were investigating \"possib...</td>\n",
       "      <td>NaN</td>\n",
       "      <td>11839</td>\n",
       "      <td>NaN</td>\n",
       "      <td>NaN</td>\n",
       "    </tr>\n",
       "    <tr>\n",
       "      <th>18</th>\n",
       "      <td>91205.0</td>\n",
       "      <td>Los Angeles</td>\n",
       "      <td>West Covina Police Department</td>\n",
       "      <td>Gunshot</td>\n",
       "      <td>Alachadzhyan stole a West Covina police car an...</td>\n",
       "      <td>Pending investigation</td>\n",
       "      <td>http://www.nbclosangeles.com/news/local/police...</td>\n",
       "      <td>Yes</td>\n",
       "      <td>NaN</td>\n",
       "      <td>NaN</td>\n",
       "      <td>3/13/2016: Alachadzhyan stole a West Covina po...</td>\n",
       "      <td>NaN</td>\n",
       "      <td>11868</td>\n",
       "      <td>NaN</td>\n",
       "      <td>NaN</td>\n",
       "    </tr>\n",
       "    <tr>\n",
       "      <th>19</th>\n",
       "      <td>98662.0</td>\n",
       "      <td>Clark</td>\n",
       "      <td>Clark County Sheriff’s Office</td>\n",
       "      <td>Gunshot</td>\n",
       "      <td>A woman driving erratically crashed her car, t...</td>\n",
       "      <td>Pending investigation</td>\n",
       "      <td>http://www.columbian.com/news/2016/mar/13/woma...</td>\n",
       "      <td>Yes</td>\n",
       "      <td>NaN</td>\n",
       "      <td>NaN</td>\n",
       "      <td>3/13/2016: A woman driving erratically crashed...</td>\n",
       "      <td>NaN</td>\n",
       "      <td>11867</td>\n",
       "      <td>NaN</td>\n",
       "      <td>NaN</td>\n",
       "    </tr>\n",
       "    <tr>\n",
       "      <th>20</th>\n",
       "      <td>37771</td>\n",
       "      <td>Loudon</td>\n",
       "      <td>Lenoir City Police Department</td>\n",
       "      <td>Gunshot</td>\n",
       "      <td>Police responded to a call from the Ruby Tuesd...</td>\n",
       "      <td>Pending investigation</td>\n",
       "      <td>http://wate.com/2016/03/13/deadly-officer-invo...</td>\n",
       "      <td>Drug or alcohol use</td>\n",
       "      <td>NaN</td>\n",
       "      <td>NaN</td>\n",
       "      <td>3/13/2016: Police responded to a call from the...</td>\n",
       "      <td>NaN</td>\n",
       "      <td>11838</td>\n",
       "      <td>NaN</td>\n",
       "      <td>NaN</td>\n",
       "    </tr>\n",
       "    <tr>\n",
       "      <th>21</th>\n",
       "      <td>36272</td>\n",
       "      <td>Etowah</td>\n",
       "      <td>Piedmont Police Department</td>\n",
       "      <td>Gunshot</td>\n",
       "      <td>Police say Deerman fired on them after he ran ...</td>\n",
       "      <td>Pending investigation</td>\n",
       "      <td>http://www.wbrc.com/story/31460532/man-dead-fo...</td>\n",
       "      <td>No</td>\n",
       "      <td>NaN</td>\n",
       "      <td>NaN</td>\n",
       "      <td>3/13/2016: Police say Deerman fired on them af...</td>\n",
       "      <td>NaN</td>\n",
       "      <td>11837</td>\n",
       "      <td>NaN</td>\n",
       "      <td>NaN</td>\n",
       "    </tr>\n",
       "    <tr>\n",
       "      <th>22</th>\n",
       "      <td>75001</td>\n",
       "      <td>Dallas</td>\n",
       "      <td>Farmers Branch Police Department</td>\n",
       "      <td>Gunshot</td>\n",
       "      <td>Off-duty Officer Ken Johnson saw a burglary an...</td>\n",
       "      <td>Pending investigation</td>\n",
       "      <td>http://www.wfaa.com/news/crime/2-shot-in-offic...</td>\n",
       "      <td>No</td>\n",
       "      <td>NaN</td>\n",
       "      <td>NaN</td>\n",
       "      <td>3/13/2016: Off-duty Officer Ken Johnson saw a ...</td>\n",
       "      <td>NaN</td>\n",
       "      <td>11831</td>\n",
       "      <td>NaN</td>\n",
       "      <td>NaN</td>\n",
       "    </tr>\n",
       "    <tr>\n",
       "      <th>23</th>\n",
       "      <td>19013</td>\n",
       "      <td>Delaware</td>\n",
       "      <td>Chester Police Department</td>\n",
       "      <td>Gunshot</td>\n",
       "      <td>Police say the incident started as a suspected...</td>\n",
       "      <td>Pending investigation</td>\n",
       "      <td>http://6abc.com/1246670/</td>\n",
       "      <td>No</td>\n",
       "      <td>NaN</td>\n",
       "      <td>NaN</td>\n",
       "      <td>3/12/2016: Police say the incident started as ...</td>\n",
       "      <td>NaN</td>\n",
       "      <td>11836</td>\n",
       "      <td>NaN</td>\n",
       "      <td>NaN</td>\n",
       "    </tr>\n",
       "    <tr>\n",
       "      <th>24</th>\n",
       "      <td>77020</td>\n",
       "      <td>Harris</td>\n",
       "      <td>Houston Police Department</td>\n",
       "      <td>Gunshot</td>\n",
       "      <td>Police said the man was along the feeder road ...</td>\n",
       "      <td>Pending investigation</td>\n",
       "      <td>http://www.chron.com/news/houston-texas/articl...</td>\n",
       "      <td>Yes</td>\n",
       "      <td>NaN</td>\n",
       "      <td>NaN</td>\n",
       "      <td>3/12/2016: Police said the man was along the f...</td>\n",
       "      <td>NaN</td>\n",
       "      <td>11835</td>\n",
       "      <td>NaN</td>\n",
       "      <td>NaN</td>\n",
       "    </tr>\n",
       "    <tr>\n",
       "      <th>25</th>\n",
       "      <td>27408</td>\n",
       "      <td>Guilford</td>\n",
       "      <td>Greensboro Police Department</td>\n",
       "      <td>Gunshot</td>\n",
       "      <td>Police went to a house and resolved a domestic...</td>\n",
       "      <td>Pending investigation</td>\n",
       "      <td>http://www.wfmynews2.com/news/crime/greensboro...</td>\n",
       "      <td>No</td>\n",
       "      <td>NaN</td>\n",
       "      <td>NaN</td>\n",
       "      <td>3/12/2016: Police went to a house and resolved...</td>\n",
       "      <td>NaN</td>\n",
       "      <td>11834</td>\n",
       "      <td>NaN</td>\n",
       "      <td>NaN</td>\n",
       "    </tr>\n",
       "    <tr>\n",
       "      <th>26</th>\n",
       "      <td>77068</td>\n",
       "      <td>Harris</td>\n",
       "      <td>Harris County Sheriff's Office</td>\n",
       "      <td>Gunshot</td>\n",
       "      <td>A deputy interceded during an apparent carjack...</td>\n",
       "      <td>Pending investigation</td>\n",
       "      <td>http://www.chron.com/news/houston-texas/articl...</td>\n",
       "      <td>No</td>\n",
       "      <td>NaN</td>\n",
       "      <td>NaN</td>\n",
       "      <td>3/12/2016: A deputy interceded during an appar...</td>\n",
       "      <td>NaN</td>\n",
       "      <td>11833</td>\n",
       "      <td>NaN</td>\n",
       "      <td>NaN</td>\n",
       "    </tr>\n",
       "    <tr>\n",
       "      <th>27</th>\n",
       "      <td>85210.0</td>\n",
       "      <td>Maricopa</td>\n",
       "      <td>Chandler Police Department</td>\n",
       "      <td>Gunshot</td>\n",
       "      <td>A man robbed a bank and when police caught up ...</td>\n",
       "      <td>Suicide</td>\n",
       "      <td>http://www.azcentral.com/story/news/local/chan...</td>\n",
       "      <td>No</td>\n",
       "      <td>NaN</td>\n",
       "      <td>NaN</td>\n",
       "      <td>3/11/2016: A man robbed a bank and when police...</td>\n",
       "      <td>NaN</td>\n",
       "      <td>11866</td>\n",
       "      <td>NaN</td>\n",
       "      <td>NaN</td>\n",
       "    </tr>\n",
       "    <tr>\n",
       "      <th>28</th>\n",
       "      <td>94560.0</td>\n",
       "      <td>Alameda</td>\n",
       "      <td>Newark Police Department</td>\n",
       "      <td>Gunshot</td>\n",
       "      <td>Officers responded to a call of a male gunman ...</td>\n",
       "      <td>Pending investigation</td>\n",
       "      <td>http://www.insidebayarea.com/breaking-news/ci_...</td>\n",
       "      <td>No</td>\n",
       "      <td>NaN</td>\n",
       "      <td>NaN</td>\n",
       "      <td>3/11/2016: Officers responded to a call of a m...</td>\n",
       "      <td>NaN</td>\n",
       "      <td>11865</td>\n",
       "      <td>NaN</td>\n",
       "      <td>NaN</td>\n",
       "    </tr>\n",
       "    <tr>\n",
       "      <th>29</th>\n",
       "      <td>67132</td>\n",
       "      <td>Butler</td>\n",
       "      <td>Butler County Sheriff's Office</td>\n",
       "      <td>Gunshot</td>\n",
       "      <td>A man was sitting in his truck with a gun poin...</td>\n",
       "      <td>Pending investigation</td>\n",
       "      <td>http://www.kake.com/home/headlines/Shooting-in...</td>\n",
       "      <td>No</td>\n",
       "      <td>NaN</td>\n",
       "      <td>NaN</td>\n",
       "      <td>3/11/2016: A man was sitting in his truck with...</td>\n",
       "      <td>NaN</td>\n",
       "      <td>11832</td>\n",
       "      <td>NaN</td>\n",
       "      <td>NaN</td>\n",
       "    </tr>\n",
       "    <tr>\n",
       "      <th>...</th>\n",
       "      <td>...</td>\n",
       "      <td>...</td>\n",
       "      <td>...</td>\n",
       "      <td>...</td>\n",
       "      <td>...</td>\n",
       "      <td>...</td>\n",
       "      <td>...</td>\n",
       "      <td>...</td>\n",
       "      <td>...</td>\n",
       "      <td>...</td>\n",
       "      <td>...</td>\n",
       "      <td>...</td>\n",
       "      <td>...</td>\n",
       "      <td>...</td>\n",
       "      <td>...</td>\n",
       "    </tr>\n",
       "    <tr>\n",
       "      <th>11854</th>\n",
       "      <td>33062</td>\n",
       "      <td>Broward</td>\n",
       "      <td>Broward County Sheriff's Department</td>\n",
       "      <td>Gunshot</td>\n",
       "      <td>Hardy held a 63-year-old woman hostage at knif...</td>\n",
       "      <td>Unreported</td>\n",
       "      <td>http://articles.sun-sentinel.com/2000-02-02/ne...</td>\n",
       "      <td>No</td>\n",
       "      <td>Walt Lockley</td>\n",
       "      <td>NaN</td>\n",
       "      <td>1/31/2000: Hardy held a 63-year-old woman host...</td>\n",
       "      <td>NaN</td>\n",
       "      <td>29</td>\n",
       "      <td>NaN</td>\n",
       "      <td>NaN</td>\n",
       "    </tr>\n",
       "    <tr>\n",
       "      <th>11855</th>\n",
       "      <td>90802</td>\n",
       "      <td>Los Angeles</td>\n",
       "      <td>Long Beach Police Department</td>\n",
       "      <td>Gunshot</td>\n",
       "      <td>As reported by the Los Angeles Times: Alan Tho...</td>\n",
       "      <td>Unreported</td>\n",
       "      <td>http://homicide.latimes.com/officer_involved/t...</td>\n",
       "      <td>Unknown</td>\n",
       "      <td>Robin/ Los Angeles TImes, The Homicide Report</td>\n",
       "      <td>NaN</td>\n",
       "      <td>1/31/2000: As reported by the Los Angeles Time...</td>\n",
       "      <td>NaN</td>\n",
       "      <td>28</td>\n",
       "      <td>NaN</td>\n",
       "      <td>NaN</td>\n",
       "    </tr>\n",
       "    <tr>\n",
       "      <th>11856</th>\n",
       "      <td>91950</td>\n",
       "      <td>San Diego</td>\n",
       "      <td>San Diego County Sheriff's Office</td>\n",
       "      <td>Vehicle</td>\n",
       "      <td>Leonila Hernandez Guerrero was killed when her...</td>\n",
       "      <td>Unknown</td>\n",
       "      <td>http://www.fearnotlaw.com/wsnkb/articles/p_v_l...</td>\n",
       "      <td>No</td>\n",
       "      <td>NaN</td>\n",
       "      <td>NaN</td>\n",
       "      <td>1/30/2000: Leonila Hernandez Guerrero was kill...</td>\n",
       "      <td>NaN</td>\n",
       "      <td>27</td>\n",
       "      <td>NaN</td>\n",
       "      <td>NaN</td>\n",
       "    </tr>\n",
       "    <tr>\n",
       "      <th>11857</th>\n",
       "      <td>85033</td>\n",
       "      <td>Maricopa</td>\n",
       "      <td>Phoenix Police Department</td>\n",
       "      <td>Gunshot</td>\n",
       "      <td>Police said two off-duty officers noticed a ma...</td>\n",
       "      <td>Unreported</td>\n",
       "      <td>https://docs.google.com/document/d/1RxJaTYaksz...</td>\n",
       "      <td>Yes</td>\n",
       "      <td>NaN</td>\n",
       "      <td>NaN</td>\n",
       "      <td>1/29/2000: Police said two off-duty officers n...</td>\n",
       "      <td>NaN</td>\n",
       "      <td>26</td>\n",
       "      <td>NaN</td>\n",
       "      <td>NaN</td>\n",
       "    </tr>\n",
       "    <tr>\n",
       "      <th>11858</th>\n",
       "      <td>92114</td>\n",
       "      <td>San Diego</td>\n",
       "      <td>San Diego Police Department</td>\n",
       "      <td>Gunshot</td>\n",
       "      <td>Police shot and killed Christopher George Heim...</td>\n",
       "      <td>Justified</td>\n",
       "      <td>https://drive.google.com/file/d/0B62PuBu1vKRLa...</td>\n",
       "      <td>Yes</td>\n",
       "      <td>NaN</td>\n",
       "      <td>NaN</td>\n",
       "      <td>1/29/2000: Police shot and killed Christopher ...</td>\n",
       "      <td>NaN</td>\n",
       "      <td>25</td>\n",
       "      <td>NaN</td>\n",
       "      <td>NaN</td>\n",
       "    </tr>\n",
       "    <tr>\n",
       "      <th>11859</th>\n",
       "      <td>94621</td>\n",
       "      <td>Alameda</td>\n",
       "      <td>Oakland Police Department</td>\n",
       "      <td>Gunshot</td>\n",
       "      <td>Officers Marcell Patterson and William A. Papp...</td>\n",
       "      <td>Unknown</td>\n",
       "      <td>http://oaklandpolicebeat.com/ois-record/sh00109/</td>\n",
       "      <td>Unknown</td>\n",
       "      <td>NaN</td>\n",
       "      <td>NaN</td>\n",
       "      <td>1/28/2000: Officers Marcell Patterson and Will...</td>\n",
       "      <td>NaN</td>\n",
       "      <td>24</td>\n",
       "      <td>NaN</td>\n",
       "      <td>NaN</td>\n",
       "    </tr>\n",
       "    <tr>\n",
       "      <th>11860</th>\n",
       "      <td>07305</td>\n",
       "      <td>Hudson</td>\n",
       "      <td>Jersey City Police South District</td>\n",
       "      <td>Gunshot</td>\n",
       "      <td>A stolen van in which he was riding crashed af...</td>\n",
       "      <td>Accidental</td>\n",
       "      <td>http://www.hudsonreporter.com/view/full_story/...</td>\n",
       "      <td>No</td>\n",
       "      <td>Alyssa C</td>\n",
       "      <td>NaN</td>\n",
       "      <td>1/28/2000: A stolen van in which he was riding...</td>\n",
       "      <td>NaN</td>\n",
       "      <td>23</td>\n",
       "      <td>NaN</td>\n",
       "      <td>NaN</td>\n",
       "    </tr>\n",
       "    <tr>\n",
       "      <th>11861</th>\n",
       "      <td>02909</td>\n",
       "      <td>Providence</td>\n",
       "      <td>Providence Police Department</td>\n",
       "      <td>Gunshot</td>\n",
       "      <td>Young was an off-duty, out-of-uniform black of...</td>\n",
       "      <td>Unreported</td>\n",
       "      <td>https://groups.google.com/forum/#!topic/alt.tr...</td>\n",
       "      <td>No</td>\n",
       "      <td>Walt Lockley</td>\n",
       "      <td>NaN</td>\n",
       "      <td>1/28/2000: Young was an off-duty, out-of-unifo...</td>\n",
       "      <td>NaN</td>\n",
       "      <td>22</td>\n",
       "      <td>NaN</td>\n",
       "      <td>NaN</td>\n",
       "    </tr>\n",
       "    <tr>\n",
       "      <th>11862</th>\n",
       "      <td>85023</td>\n",
       "      <td>Maricopa</td>\n",
       "      <td>Phoenix Police Department</td>\n",
       "      <td>Gunshot</td>\n",
       "      <td>Hedges ate almost an ounce of cocaine before p...</td>\n",
       "      <td>Unreported</td>\n",
       "      <td>https://news.google.com/newspapers?nid=894&amp;dat...</td>\n",
       "      <td>No</td>\n",
       "      <td>0/@CRDeCeros/</td>\n",
       "      <td>NaN</td>\n",
       "      <td>1/22/2000: Hedges ate almost an ounce of cocai...</td>\n",
       "      <td>NaN</td>\n",
       "      <td>21</td>\n",
       "      <td>NaN</td>\n",
       "      <td>NaN</td>\n",
       "    </tr>\n",
       "    <tr>\n",
       "      <th>11863</th>\n",
       "      <td>04292</td>\n",
       "      <td>Oxford</td>\n",
       "      <td>Oxford County Sheriff's Office</td>\n",
       "      <td>Gunshot</td>\n",
       "      <td>Officers tried to talk Bennett out of the hous...</td>\n",
       "      <td>Justified</td>\n",
       "      <td>http://www.aele.org/law/2009all02/2009-02MLJ10...</td>\n",
       "      <td>Yes</td>\n",
       "      <td>Portland Press Herald/ Maine Sunday Telegram</td>\n",
       "      <td>NaN</td>\n",
       "      <td>1/21/2000: Officers tried to talk Bennett out ...</td>\n",
       "      <td>NaN</td>\n",
       "      <td>20</td>\n",
       "      <td>NaN</td>\n",
       "      <td>NaN</td>\n",
       "    </tr>\n",
       "    <tr>\n",
       "      <th>11864</th>\n",
       "      <td>85032</td>\n",
       "      <td>Maricopa</td>\n",
       "      <td>Arizona Department of Public Safety, Phoenix P...</td>\n",
       "      <td>Gunshot</td>\n",
       "      <td>Williams, a bank robbery suspect, led police o...</td>\n",
       "      <td>Unreported</td>\n",
       "      <td>http://tucsoncitizen.com/morgue2/2000/01/21/11...</td>\n",
       "      <td>No</td>\n",
       "      <td>0/@CRDeCeros/</td>\n",
       "      <td>NaN</td>\n",
       "      <td>1/20/2000: Williams, a bank robbery suspect, l...</td>\n",
       "      <td>NaN</td>\n",
       "      <td>19</td>\n",
       "      <td>NaN</td>\n",
       "      <td>NaN</td>\n",
       "    </tr>\n",
       "    <tr>\n",
       "      <th>11865</th>\n",
       "      <td>30354</td>\n",
       "      <td>Fulton</td>\n",
       "      <td>Atlanta Police Department</td>\n",
       "      <td>Gunshot</td>\n",
       "      <td>Two Atlanta police officers began pursuing Mit...</td>\n",
       "      <td>Justified</td>\n",
       "      <td>http://clatl.com/atlanta/police-privilege/Cont...</td>\n",
       "      <td>No</td>\n",
       "      <td>Lisa J/Riley</td>\n",
       "      <td>NaN</td>\n",
       "      <td>1/19/2000: Two Atlanta police officers began p...</td>\n",
       "      <td>NaN</td>\n",
       "      <td>18</td>\n",
       "      <td>NaN</td>\n",
       "      <td>NaN</td>\n",
       "    </tr>\n",
       "    <tr>\n",
       "      <th>11866</th>\n",
       "      <td>11102</td>\n",
       "      <td>Queens</td>\n",
       "      <td>City of New York Police Department, 114th Prec...</td>\n",
       "      <td>Gunshot</td>\n",
       "      <td>A mentally ill Queens man who had slashed his ...</td>\n",
       "      <td>Justified</td>\n",
       "      <td>http://www.nydailynews.com/archives/news/polic...</td>\n",
       "      <td>Yes</td>\n",
       "      <td>jccnoble</td>\n",
       "      <td>NaN</td>\n",
       "      <td>1/17/2000: A mentally ill Queens man who had s...</td>\n",
       "      <td>NaN</td>\n",
       "      <td>17</td>\n",
       "      <td>NaN</td>\n",
       "      <td>NaN</td>\n",
       "    </tr>\n",
       "    <tr>\n",
       "      <th>11867</th>\n",
       "      <td>89501</td>\n",
       "      <td>Washoe</td>\n",
       "      <td>Reno Police Department</td>\n",
       "      <td>Gunshot</td>\n",
       "      <td>While being chased by Reno Police, Lopez appar...</td>\n",
       "      <td>Unknown</td>\n",
       "      <td>https://drive.google.com/file/d/0B-l9Ys3cd80fY...</td>\n",
       "      <td>Yes</td>\n",
       "      <td>City of Reno/Burghart</td>\n",
       "      <td>NaN</td>\n",
       "      <td>1/17/2000: While being chased by Reno Police, ...</td>\n",
       "      <td>NaN</td>\n",
       "      <td>16</td>\n",
       "      <td>NaN</td>\n",
       "      <td>NaN</td>\n",
       "    </tr>\n",
       "    <tr>\n",
       "      <th>11868</th>\n",
       "      <td>92705</td>\n",
       "      <td>Orange</td>\n",
       "      <td>California Highway Patrol, Los Angeles Police ...</td>\n",
       "      <td>Gunshot</td>\n",
       "      <td>CHP officers shot Jose Daniel Gonzalez when he...</td>\n",
       "      <td>Unknown</td>\n",
       "      <td>http://articles.latimes.com/2000/jan/17/local/...</td>\n",
       "      <td>Unknown</td>\n",
       "      <td>NaN</td>\n",
       "      <td>NaN</td>\n",
       "      <td>1/15/2000: CHP officers shot Jose Daniel Gonza...</td>\n",
       "      <td>NaN</td>\n",
       "      <td>15</td>\n",
       "      <td>NaN</td>\n",
       "      <td>NaN</td>\n",
       "    </tr>\n",
       "    <tr>\n",
       "      <th>11869</th>\n",
       "      <td>95350</td>\n",
       "      <td>Stanislaus</td>\n",
       "      <td>Modesto Police Department</td>\n",
       "      <td>Gunshot</td>\n",
       "      <td>Officers killed 41-year-old Miguel Peralta Tor...</td>\n",
       "      <td>Unknown</td>\n",
       "      <td>http://www.findlaci2003.us/bertalotto-police.html</td>\n",
       "      <td>Unknown</td>\n",
       "      <td>NaN</td>\n",
       "      <td>NaN</td>\n",
       "      <td>1/14/2000: Officers killed 41-year-old Miguel ...</td>\n",
       "      <td>NaN</td>\n",
       "      <td>14</td>\n",
       "      <td>NaN</td>\n",
       "      <td>NaN</td>\n",
       "    </tr>\n",
       "    <tr>\n",
       "      <th>11870</th>\n",
       "      <td>85009</td>\n",
       "      <td>Maricopa</td>\n",
       "      <td>Federal Bureau of Investigation</td>\n",
       "      <td>Gunshot</td>\n",
       "      <td>Wanted for murder, and described as a member o...</td>\n",
       "      <td>Justified</td>\n",
       "      <td>https://drive.google.com/file/d/0B-l9Ys3cd80fT...</td>\n",
       "      <td>No</td>\n",
       "      <td>Walt Lockley</td>\n",
       "      <td>NaN</td>\n",
       "      <td>1/13/2000: Wanted for murder, and described as...</td>\n",
       "      <td>NaN</td>\n",
       "      <td>13</td>\n",
       "      <td>NaN</td>\n",
       "      <td>NaN</td>\n",
       "    </tr>\n",
       "    <tr>\n",
       "      <th>11871</th>\n",
       "      <td>39211</td>\n",
       "      <td>Hinds</td>\n",
       "      <td>Jackson Police Department</td>\n",
       "      <td>Vehicle</td>\n",
       "      <td>Jamie Fowler Boyll died when a vehicle involve...</td>\n",
       "      <td>Acquitted</td>\n",
       "      <td>http://courts.ms.gov/images/opinions/co6722.pdf</td>\n",
       "      <td>No</td>\n",
       "      <td>@CRDeCeros</td>\n",
       "      <td>NaN</td>\n",
       "      <td>1/13/2000: Jamie Fowler Boyll died when a vehi...</td>\n",
       "      <td>NaN</td>\n",
       "      <td>12</td>\n",
       "      <td>NaN</td>\n",
       "      <td>NaN</td>\n",
       "    </tr>\n",
       "    <tr>\n",
       "      <th>11872</th>\n",
       "      <td>75042</td>\n",
       "      <td>Dallas</td>\n",
       "      <td>Garland Police Department</td>\n",
       "      <td>Gunshot</td>\n",
       "      <td>Montelongo made a hang up call to 911. Officer...</td>\n",
       "      <td>Unreported</td>\n",
       "      <td>http://amarillo.com/stories/112800/tex_garland...</td>\n",
       "      <td>Unknown</td>\n",
       "      <td>Cox</td>\n",
       "      <td>NaN</td>\n",
       "      <td>1/12/2000: Montelongo made a hang up call to 9...</td>\n",
       "      <td>NaN</td>\n",
       "      <td>11</td>\n",
       "      <td>NaN</td>\n",
       "      <td>NaN</td>\n",
       "    </tr>\n",
       "    <tr>\n",
       "      <th>11873</th>\n",
       "      <td>33617</td>\n",
       "      <td>Hillsborough</td>\n",
       "      <td>Hillsborough County Sheriff's Office</td>\n",
       "      <td>Gunshot</td>\n",
       "      <td>Jean was the suspect in the armed robbery of a...</td>\n",
       "      <td>Unreported</td>\n",
       "      <td>http://www.sptimes.com/News/040700/news_pf/Hil...</td>\n",
       "      <td>No</td>\n",
       "      <td>CRDeCeros/Walt Lockley</td>\n",
       "      <td>NaN</td>\n",
       "      <td>1/11/2000: Jean was the suspect in the armed r...</td>\n",
       "      <td>NaN</td>\n",
       "      <td>10</td>\n",
       "      <td>NaN</td>\n",
       "      <td>NaN</td>\n",
       "    </tr>\n",
       "    <tr>\n",
       "      <th>11874</th>\n",
       "      <td>19131</td>\n",
       "      <td>Philadelphia</td>\n",
       "      <td>Lower Merion Township Police Department</td>\n",
       "      <td>Gunshot</td>\n",
       "      <td>An Army veteran and West Chester University st...</td>\n",
       "      <td>Justified</td>\n",
       "      <td>http://articles.philly.com/2000-06-30/news/256...</td>\n",
       "      <td>No</td>\n",
       "      <td>New/EBNPhilly</td>\n",
       "      <td>NaN</td>\n",
       "      <td>1/10/2000: An Army veteran and West Chester Un...</td>\n",
       "      <td>NaN</td>\n",
       "      <td>9</td>\n",
       "      <td>NaN</td>\n",
       "      <td>NaN</td>\n",
       "    </tr>\n",
       "    <tr>\n",
       "      <th>11875</th>\n",
       "      <td>92553</td>\n",
       "      <td>Riverside</td>\n",
       "      <td>Riverside County Sheriff's Office</td>\n",
       "      <td>Gunshot</td>\n",
       "      <td>Deputies shot and killed Sonny Daniel Diaz whe...</td>\n",
       "      <td>Unknown</td>\n",
       "      <td>https://drive.google.com/file/d/0B62PuBu1vKRLc...</td>\n",
       "      <td>Unknown</td>\n",
       "      <td>NaN</td>\n",
       "      <td>NaN</td>\n",
       "      <td>1/9/2000: Deputies shot and killed Sonny Danie...</td>\n",
       "      <td>NaN</td>\n",
       "      <td>8</td>\n",
       "      <td>NaN</td>\n",
       "      <td>NaN</td>\n",
       "    </tr>\n",
       "    <tr>\n",
       "      <th>11876</th>\n",
       "      <td>84105</td>\n",
       "      <td>Salt Lake</td>\n",
       "      <td>Salt Lake City Police Department</td>\n",
       "      <td>Vehicle</td>\n",
       "      <td>The Honda Prelude driven by Olds at about 1 a....</td>\n",
       "      <td>Unreported</td>\n",
       "      <td>http://www.deseretnews.com/article/737686/DUIs...</td>\n",
       "      <td>No</td>\n",
       "      <td>Walt Lockley</td>\n",
       "      <td>NaN</td>\n",
       "      <td>1/9/2000: The Honda Prelude driven by Olds at ...</td>\n",
       "      <td>NaN</td>\n",
       "      <td>7</td>\n",
       "      <td>NaN</td>\n",
       "      <td>NaN</td>\n",
       "    </tr>\n",
       "    <tr>\n",
       "      <th>11877</th>\n",
       "      <td>90242</td>\n",
       "      <td>Los Angeles</td>\n",
       "      <td>Downey Police Department</td>\n",
       "      <td>Beaten</td>\n",
       "      <td>Joseph Gumpert stopped breathing after a scuff...</td>\n",
       "      <td>Unknown</td>\n",
       "      <td>http://articles.latimes.com/2000/jan/10/local/...</td>\n",
       "      <td>Unknown</td>\n",
       "      <td>NaN</td>\n",
       "      <td>NaN</td>\n",
       "      <td>1/7/2000: Joseph Gumpert stopped breathing aft...</td>\n",
       "      <td>NaN</td>\n",
       "      <td>6</td>\n",
       "      <td>NaN</td>\n",
       "      <td>NaN</td>\n",
       "    </tr>\n",
       "    <tr>\n",
       "      <th>11878</th>\n",
       "      <td>92407</td>\n",
       "      <td>San Bernardino</td>\n",
       "      <td>San Bernardino Police Department, San Bernardi...</td>\n",
       "      <td>Gunshot</td>\n",
       "      <td>SWAT officers shot and killed Adrian Dolby sho...</td>\n",
       "      <td>Unknown</td>\n",
       "      <td>https://docs.google.com/document/d/1DgZgZi6c4t...</td>\n",
       "      <td>Unknown</td>\n",
       "      <td>NaN</td>\n",
       "      <td>NaN</td>\n",
       "      <td>1/6/2000: SWAT officers shot and killed Adrian...</td>\n",
       "      <td>NaN</td>\n",
       "      <td>5</td>\n",
       "      <td>NaN</td>\n",
       "      <td>NaN</td>\n",
       "    </tr>\n",
       "    <tr>\n",
       "      <th>11879</th>\n",
       "      <td>28208</td>\n",
       "      <td>Mecklenburg</td>\n",
       "      <td>North Carolina State Highway Patrol, Charlotte...</td>\n",
       "      <td>Gunshot</td>\n",
       "      <td>State troopers and county deputies had tracked...</td>\n",
       "      <td>Unreported</td>\n",
       "      <td>https://groups.google.com/forum/#!topic/alt.tr...</td>\n",
       "      <td>No</td>\n",
       "      <td>CRDeCeros/Walt Lockley</td>\n",
       "      <td>NaN</td>\n",
       "      <td>1/6/2000: State troopers and county deputies h...</td>\n",
       "      <td>NaN</td>\n",
       "      <td>4</td>\n",
       "      <td>NaN</td>\n",
       "      <td>NaN</td>\n",
       "    </tr>\n",
       "    <tr>\n",
       "      <th>11880</th>\n",
       "      <td>30303</td>\n",
       "      <td>Fulton</td>\n",
       "      <td>Atlanta Police Department</td>\n",
       "      <td>Bludgeoned with instrument</td>\n",
       "      <td>On Jan. 5 around midnight, 20-year-old John Fr...</td>\n",
       "      <td>Accidental</td>\n",
       "      <td>http://www.wsbtv.com/news/news/fatal-cop-beati...</td>\n",
       "      <td>Drug or alcohol use</td>\n",
       "      <td>johndoe20/ Lauren</td>\n",
       "      <td>NaN</td>\n",
       "      <td>1/5/2000: On Jan. 5 around midnight, 20-year-o...</td>\n",
       "      <td>NaN</td>\n",
       "      <td>3</td>\n",
       "      <td>NaN</td>\n",
       "      <td>NaN</td>\n",
       "    </tr>\n",
       "    <tr>\n",
       "      <th>11881</th>\n",
       "      <td>NaN</td>\n",
       "      <td>Houston</td>\n",
       "      <td>Dothan Police Department</td>\n",
       "      <td>Gunshot</td>\n",
       "      <td>John Edward Pittman was shot and killed by off...</td>\n",
       "      <td>Justified</td>\n",
       "      <td>https://news.google.com/newspapers?nid=1817&amp;da...</td>\n",
       "      <td>Unknown</td>\n",
       "      <td>0@CRDeCeros/</td>\n",
       "      <td>NaN</td>\n",
       "      <td>1/5/2000: John Edward Pittman was shot and kil...</td>\n",
       "      <td>NaN</td>\n",
       "      <td>2</td>\n",
       "      <td>NaN</td>\n",
       "      <td>NaN</td>\n",
       "    </tr>\n",
       "    <tr>\n",
       "      <th>11882</th>\n",
       "      <td>95823</td>\n",
       "      <td>Sacramento</td>\n",
       "      <td>Sacramento Police Department</td>\n",
       "      <td>Vehicle</td>\n",
       "      <td>LaTanya Janelle McCoy's car was struck from be...</td>\n",
       "      <td>Unknown</td>\n",
       "      <td>http://www.recordnet.com/article/20000110/A_NE...</td>\n",
       "      <td>No</td>\n",
       "      <td>NaN</td>\n",
       "      <td>NaN</td>\n",
       "      <td>1/2/2000: LaTanya Janelle McCoy's car was stru...</td>\n",
       "      <td>NaN</td>\n",
       "      <td>1</td>\n",
       "      <td>NaN</td>\n",
       "      <td>NaN</td>\n",
       "    </tr>\n",
       "    <tr>\n",
       "      <th>11883</th>\n",
       "      <td>NaN</td>\n",
       "      <td>NaN</td>\n",
       "      <td>NaN</td>\n",
       "      <td>NaN</td>\n",
       "      <td>NaN</td>\n",
       "      <td>NaN</td>\n",
       "      <td>http://www.realcrimes.com/Robinson/Robinson.htm</td>\n",
       "      <td>NaN</td>\n",
       "      <td>Bill jones</td>\n",
       "      <td>NaN</td>\n",
       "      <td>NaN</td>\n",
       "      <td>NaN</td>\n",
       "      <td>NaN</td>\n",
       "      <td>NaN</td>\n",
       "      <td>NaN</td>\n",
       "    </tr>\n",
       "  </tbody>\n",
       "</table>\n",
       "<p>11884 rows × 15 columns</p>\n",
       "</div>"
      ],
      "text/plain": [
       "      Location of death (zip code) Location of death (county)  \\\n",
       "0                          60466.0                       Cook   \n",
       "1                          42442.0                    Hopkins   \n",
       "2                          23518.0               Norfolk City   \n",
       "3                          94514.0               Contra Costa   \n",
       "4                          29607.0                 Greenville   \n",
       "5                          33611.0               Hillsborough   \n",
       "6                          55337.0                     Dakota   \n",
       "7                          15059.0                     Beaver   \n",
       "8                          29588.0                      Horry   \n",
       "9                          77037.0                     Harris   \n",
       "10                         77037.0                     Harris   \n",
       "11                         90001.0                Los Angeles   \n",
       "12                         28379.0                      Anson   \n",
       "13                         78214.0                      Bexar   \n",
       "14                         47715.0                Vanderburgh   \n",
       "15                           42276                      Logan   \n",
       "16                           76108                    Tarrant   \n",
       "17                           60624                       Cook   \n",
       "18                         91205.0                Los Angeles   \n",
       "19                         98662.0                      Clark   \n",
       "20                           37771                     Loudon   \n",
       "21                           36272                     Etowah   \n",
       "22                           75001                     Dallas   \n",
       "23                           19013                   Delaware   \n",
       "24                           77020                     Harris   \n",
       "25                           27408                   Guilford   \n",
       "26                           77068                     Harris   \n",
       "27                         85210.0                   Maricopa   \n",
       "28                         94560.0                    Alameda   \n",
       "29                           67132                     Butler   \n",
       "...                            ...                        ...   \n",
       "11854                        33062                    Broward   \n",
       "11855                        90802                Los Angeles   \n",
       "11856                        91950                  San Diego   \n",
       "11857                        85033                   Maricopa   \n",
       "11858                        92114                  San Diego   \n",
       "11859                        94621                    Alameda   \n",
       "11860                        07305                     Hudson   \n",
       "11861                        02909                 Providence   \n",
       "11862                        85023                   Maricopa   \n",
       "11863                        04292                     Oxford   \n",
       "11864                        85032                   Maricopa   \n",
       "11865                        30354                     Fulton   \n",
       "11866                        11102                     Queens   \n",
       "11867                        89501                     Washoe   \n",
       "11868                        92705                     Orange   \n",
       "11869                        95350                 Stanislaus   \n",
       "11870                        85009                   Maricopa   \n",
       "11871                        39211                      Hinds   \n",
       "11872                        75042                     Dallas   \n",
       "11873                        33617               Hillsborough   \n",
       "11874                        19131               Philadelphia   \n",
       "11875                        92553                  Riverside   \n",
       "11876                        84105                  Salt Lake   \n",
       "11877                        90242                Los Angeles   \n",
       "11878                        92407             San Bernardino   \n",
       "11879                        28208                Mecklenburg   \n",
       "11880                        30303                     Fulton   \n",
       "11881                          NaN                    Houston   \n",
       "11882                        95823                 Sacramento   \n",
       "11883                          NaN                        NaN   \n",
       "\n",
       "                            Agency responsible for death  \\\n",
       "0                          Park Forest Police Department   \n",
       "1                                  Kentucky State Police   \n",
       "2                              Norfolk Police Department   \n",
       "3                   Contra Costa County Sheriff’s Office   \n",
       "4                           Greenville Police Department   \n",
       "5                                Tampa Police Department   \n",
       "6                           Burnsville Police Department   \n",
       "7      Midland Police Department, Ohioville Police De...   \n",
       "8                         Horry County Police Department   \n",
       "9                              Houston Police Department   \n",
       "10                             Houston Police Department   \n",
       "11                   Los Angeles County Sheriff's Office   \n",
       "12                         Anson County Sheriff’s Office   \n",
       "13                         San Antonio Police Department   \n",
       "14                          Evansville Police Department   \n",
       "15                        Russellville Police Department   \n",
       "16                          Fort Worth Police Department   \n",
       "17                             Chicago Police Department   \n",
       "18                         West Covina Police Department   \n",
       "19                         Clark County Sheriff’s Office   \n",
       "20                         Lenoir City Police Department   \n",
       "21                            Piedmont Police Department   \n",
       "22                      Farmers Branch Police Department   \n",
       "23                             Chester Police Department   \n",
       "24                             Houston Police Department   \n",
       "25                          Greensboro Police Department   \n",
       "26                        Harris County Sheriff's Office   \n",
       "27                            Chandler Police Department   \n",
       "28                              Newark Police Department   \n",
       "29                        Butler County Sheriff's Office   \n",
       "...                                                  ...   \n",
       "11854                Broward County Sheriff's Department   \n",
       "11855                       Long Beach Police Department   \n",
       "11856                  San Diego County Sheriff's Office   \n",
       "11857                          Phoenix Police Department   \n",
       "11858                        San Diego Police Department   \n",
       "11859                          Oakland Police Department   \n",
       "11860                  Jersey City Police South District   \n",
       "11861                       Providence Police Department   \n",
       "11862                          Phoenix Police Department   \n",
       "11863                     Oxford County Sheriff's Office   \n",
       "11864  Arizona Department of Public Safety, Phoenix P...   \n",
       "11865                          Atlanta Police Department   \n",
       "11866  City of New York Police Department, 114th Prec...   \n",
       "11867                             Reno Police Department   \n",
       "11868  California Highway Patrol, Los Angeles Police ...   \n",
       "11869                          Modesto Police Department   \n",
       "11870                    Federal Bureau of Investigation   \n",
       "11871                          Jackson Police Department   \n",
       "11872                          Garland Police Department   \n",
       "11873               Hillsborough County Sheriff's Office   \n",
       "11874            Lower Merion Township Police Department   \n",
       "11875                  Riverside County Sheriff's Office   \n",
       "11876                   Salt Lake City Police Department   \n",
       "11877                           Downey Police Department   \n",
       "11878  San Bernardino Police Department, San Bernardi...   \n",
       "11879  North Carolina State Highway Patrol, Charlotte...   \n",
       "11880                          Atlanta Police Department   \n",
       "11881                           Dothan Police Department   \n",
       "11882                       Sacramento Police Department   \n",
       "11883                                                NaN   \n",
       "\n",
       "                   Cause of death  \\\n",
       "0                         Gunshot   \n",
       "1                         Gunshot   \n",
       "2                         Gunshot   \n",
       "3                         Gunshot   \n",
       "4                         Gunshot   \n",
       "5                         Gunshot   \n",
       "6                         Gunshot   \n",
       "7                         Gunshot   \n",
       "8                         Gunshot   \n",
       "9                         Gunshot   \n",
       "10                        Gunshot   \n",
       "11                        Gunshot   \n",
       "12                        Gunshot   \n",
       "13                        Gunshot   \n",
       "14                        Gunshot   \n",
       "15                        Gunshot   \n",
       "16                        Gunshot   \n",
       "17                        Gunshot   \n",
       "18                        Gunshot   \n",
       "19                        Gunshot   \n",
       "20                        Gunshot   \n",
       "21                        Gunshot   \n",
       "22                        Gunshot   \n",
       "23                        Gunshot   \n",
       "24                        Gunshot   \n",
       "25                        Gunshot   \n",
       "26                        Gunshot   \n",
       "27                        Gunshot   \n",
       "28                        Gunshot   \n",
       "29                        Gunshot   \n",
       "...                           ...   \n",
       "11854                     Gunshot   \n",
       "11855                     Gunshot   \n",
       "11856                     Vehicle   \n",
       "11857                     Gunshot   \n",
       "11858                     Gunshot   \n",
       "11859                     Gunshot   \n",
       "11860                     Gunshot   \n",
       "11861                     Gunshot   \n",
       "11862                     Gunshot   \n",
       "11863                     Gunshot   \n",
       "11864                     Gunshot   \n",
       "11865                     Gunshot   \n",
       "11866                     Gunshot   \n",
       "11867                     Gunshot   \n",
       "11868                     Gunshot   \n",
       "11869                     Gunshot   \n",
       "11870                     Gunshot   \n",
       "11871                     Vehicle   \n",
       "11872                     Gunshot   \n",
       "11873                     Gunshot   \n",
       "11874                     Gunshot   \n",
       "11875                     Gunshot   \n",
       "11876                     Vehicle   \n",
       "11877                      Beaten   \n",
       "11878                     Gunshot   \n",
       "11879                     Gunshot   \n",
       "11880  Bludgeoned with instrument   \n",
       "11881                     Gunshot   \n",
       "11882                     Vehicle   \n",
       "11883                         NaN   \n",
       "\n",
       "      A brief description of the circumstances surrounding the death  \\\n",
       "0      Park Forest Police were investigating a break-...               \n",
       "1      Kentucky State Police says a trooper was invol...               \n",
       "2      Police said Beaty threatened a man with a repl...               \n",
       "3      Police went to arrest a man for child molestat...               \n",
       "4      Officer Allen Jacobs and his partner were on p...               \n",
       "5      Police say officers responded to a domestic di...               \n",
       "6      Officers responded to a call about a man actin...               \n",
       "7      Authorities said Shorak, who had been drinking...               \n",
       "8      Police responded to a suicidal call. After a f...               \n",
       "9      Police were surveiling five suspects who attem...               \n",
       "10     Police were surveiling five suspects who attem...               \n",
       "11     Deputies responded to a false robbery report a...               \n",
       "12     Deputies were called to check the welfare of a...               \n",
       "13     Hernandez got into an altercation with neighbo...               \n",
       "14     Evansville officers fatally shot a man after a...               \n",
       "15     Harris apparently shot his girlfriend and then...               \n",
       "16     Fort Worth police officers attempted a felony ...               \n",
       "17     Officers were investigating \"possible narcotic...               \n",
       "18     Alachadzhyan stole a West Covina police car an...               \n",
       "19     A woman driving erratically crashed her car, t...               \n",
       "20     Police responded to a call from the Ruby Tuesd...               \n",
       "21     Police say Deerman fired on them after he ran ...               \n",
       "22     Off-duty Officer Ken Johnson saw a burglary an...               \n",
       "23     Police say the incident started as a suspected...               \n",
       "24     Police said the man was along the feeder road ...               \n",
       "25     Police went to a house and resolved a domestic...               \n",
       "26     A deputy interceded during an apparent carjack...               \n",
       "27     A man robbed a bank and when police caught up ...               \n",
       "28     Officers responded to a call of a male gunman ...               \n",
       "29     A man was sitting in his truck with a gun poin...               \n",
       "...                                                  ...               \n",
       "11854  Hardy held a 63-year-old woman hostage at knif...               \n",
       "11855  As reported by the Los Angeles Times: Alan Tho...               \n",
       "11856  Leonila Hernandez Guerrero was killed when her...               \n",
       "11857  Police said two off-duty officers noticed a ma...               \n",
       "11858  Police shot and killed Christopher George Heim...               \n",
       "11859  Officers Marcell Patterson and William A. Papp...               \n",
       "11860  A stolen van in which he was riding crashed af...               \n",
       "11861  Young was an off-duty, out-of-uniform black of...               \n",
       "11862  Hedges ate almost an ounce of cocaine before p...               \n",
       "11863  Officers tried to talk Bennett out of the hous...               \n",
       "11864  Williams, a bank robbery suspect, led police o...               \n",
       "11865  Two Atlanta police officers began pursuing Mit...               \n",
       "11866  A mentally ill Queens man who had slashed his ...               \n",
       "11867  While being chased by Reno Police, Lopez appar...               \n",
       "11868  CHP officers shot Jose Daniel Gonzalez when he...               \n",
       "11869  Officers killed 41-year-old Miguel Peralta Tor...               \n",
       "11870  Wanted for murder, and described as a member o...               \n",
       "11871  Jamie Fowler Boyll died when a vehicle involve...               \n",
       "11872  Montelongo made a hang up call to 911. Officer...               \n",
       "11873  Jean was the suspect in the armed robbery of a...               \n",
       "11874  An Army veteran and West Chester University st...               \n",
       "11875  Deputies shot and killed Sonny Daniel Diaz whe...               \n",
       "11876  The Honda Prelude driven by Olds at about 1 a....               \n",
       "11877  Joseph Gumpert stopped breathing after a scuff...               \n",
       "11878  SWAT officers shot and killed Adrian Dolby sho...               \n",
       "11879  State troopers and county deputies had tracked...               \n",
       "11880  On Jan. 5 around midnight, 20-year-old John Fr...               \n",
       "11881  John Edward Pittman was shot and killed by off...               \n",
       "11882  LaTanya Janelle McCoy's car was struck from be...               \n",
       "11883                                                NaN               \n",
       "\n",
       "      Official disposition of death (justified or other)  \\\n",
       "0                                  Pending investigation   \n",
       "1                                  Pending investigation   \n",
       "2                                  Pending investigation   \n",
       "3                                  Pending investigation   \n",
       "4                                  Pending investigation   \n",
       "5                                  Pending investigation   \n",
       "6                                  Pending investigation   \n",
       "7                                  Pending investigation   \n",
       "8                                                Suicide   \n",
       "9                                  Pending investigation   \n",
       "10                                 Pending investigation   \n",
       "11                                 Pending investigation   \n",
       "12                                 Pending investigation   \n",
       "13                                 Pending investigation   \n",
       "14                                 Pending investigation   \n",
       "15                                 Pending investigation   \n",
       "16                                 Pending investigation   \n",
       "17                                 Pending investigation   \n",
       "18                                 Pending investigation   \n",
       "19                                 Pending investigation   \n",
       "20                                 Pending investigation   \n",
       "21                                 Pending investigation   \n",
       "22                                 Pending investigation   \n",
       "23                                 Pending investigation   \n",
       "24                                 Pending investigation   \n",
       "25                                 Pending investigation   \n",
       "26                                 Pending investigation   \n",
       "27                                               Suicide   \n",
       "28                                 Pending investigation   \n",
       "29                                 Pending investigation   \n",
       "...                                                  ...   \n",
       "11854                                         Unreported   \n",
       "11855                                         Unreported   \n",
       "11856                                            Unknown   \n",
       "11857                                         Unreported   \n",
       "11858                                          Justified   \n",
       "11859                                            Unknown   \n",
       "11860                                         Accidental   \n",
       "11861                                         Unreported   \n",
       "11862                                         Unreported   \n",
       "11863                                          Justified   \n",
       "11864                                         Unreported   \n",
       "11865                                          Justified   \n",
       "11866                                          Justified   \n",
       "11867                                            Unknown   \n",
       "11868                                            Unknown   \n",
       "11869                                            Unknown   \n",
       "11870                                          Justified   \n",
       "11871                                          Acquitted   \n",
       "11872                                         Unreported   \n",
       "11873                                         Unreported   \n",
       "11874                                          Justified   \n",
       "11875                                            Unknown   \n",
       "11876                                         Unreported   \n",
       "11877                                            Unknown   \n",
       "11878                                            Unknown   \n",
       "11879                                         Unreported   \n",
       "11880                                         Accidental   \n",
       "11881                                          Justified   \n",
       "11882                                            Unknown   \n",
       "11883                                                NaN   \n",
       "\n",
       "      Link to news article or photo of official document  \\\n",
       "0      http://chicago.cbslocal.com/2016/03/19/suspect...   \n",
       "1      http://www.wbko.com/content/news/KSP-Trooper-i...   \n",
       "2      http://wtkr.com/2016/03/19/woman-killed-in-off...   \n",
       "3      http://www.sfgate.com/crime/article/Police-sho...   \n",
       "4      http://www.greenvilleonline.com/story/news/cri...   \n",
       "5      http://www.baynews9.com/content/news/baynews9/...   \n",
       "6      http://www.startribune.com/five-officers-named...   \n",
       "7      http://www.wpxi.com/news/news/local/shots-fire...   \n",
       "8      http://www.myrtlebeachonline.com/news/local/ar...   \n",
       "9      http://www.brownsvilleherald.com/news/texas/ar...   \n",
       "10     http://www.brownsvilleherald.com/news/texas/ar...   \n",
       "11     http://homicide.latimes.com/post/cristian-rene...   \n",
       "12     http://ansonrecord.com/top-stories/2255/anson-...   \n",
       "13     http://www.ksat.com/news/sapd-responds-to-shoo...   \n",
       "14     http://www.courierpress.com/news/crime/coroner...   \n",
       "15     http://www.wsmv.com/story/31475336/1-killed-3-...   \n",
       "16     http://dfw.cbslocal.com/2016/03/15/deceased-su...   \n",
       "17     http://www.chicagotribune.com/news/local/break...   \n",
       "18     http://www.nbclosangeles.com/news/local/police...   \n",
       "19     http://www.columbian.com/news/2016/mar/13/woma...   \n",
       "20     http://wate.com/2016/03/13/deadly-officer-invo...   \n",
       "21     http://www.wbrc.com/story/31460532/man-dead-fo...   \n",
       "22     http://www.wfaa.com/news/crime/2-shot-in-offic...   \n",
       "23                              http://6abc.com/1246670/   \n",
       "24     http://www.chron.com/news/houston-texas/articl...   \n",
       "25     http://www.wfmynews2.com/news/crime/greensboro...   \n",
       "26     http://www.chron.com/news/houston-texas/articl...   \n",
       "27     http://www.azcentral.com/story/news/local/chan...   \n",
       "28     http://www.insidebayarea.com/breaking-news/ci_...   \n",
       "29     http://www.kake.com/home/headlines/Shooting-in...   \n",
       "...                                                  ...   \n",
       "11854  http://articles.sun-sentinel.com/2000-02-02/ne...   \n",
       "11855  http://homicide.latimes.com/officer_involved/t...   \n",
       "11856  http://www.fearnotlaw.com/wsnkb/articles/p_v_l...   \n",
       "11857  https://docs.google.com/document/d/1RxJaTYaksz...   \n",
       "11858  https://drive.google.com/file/d/0B62PuBu1vKRLa...   \n",
       "11859   http://oaklandpolicebeat.com/ois-record/sh00109/   \n",
       "11860  http://www.hudsonreporter.com/view/full_story/...   \n",
       "11861  https://groups.google.com/forum/#!topic/alt.tr...   \n",
       "11862  https://news.google.com/newspapers?nid=894&dat...   \n",
       "11863  http://www.aele.org/law/2009all02/2009-02MLJ10...   \n",
       "11864  http://tucsoncitizen.com/morgue2/2000/01/21/11...   \n",
       "11865  http://clatl.com/atlanta/police-privilege/Cont...   \n",
       "11866  http://www.nydailynews.com/archives/news/polic...   \n",
       "11867  https://drive.google.com/file/d/0B-l9Ys3cd80fY...   \n",
       "11868  http://articles.latimes.com/2000/jan/17/local/...   \n",
       "11869  http://www.findlaci2003.us/bertalotto-police.html   \n",
       "11870  https://drive.google.com/file/d/0B-l9Ys3cd80fT...   \n",
       "11871    http://courts.ms.gov/images/opinions/co6722.pdf   \n",
       "11872  http://amarillo.com/stories/112800/tex_garland...   \n",
       "11873  http://www.sptimes.com/News/040700/news_pf/Hil...   \n",
       "11874  http://articles.philly.com/2000-06-30/news/256...   \n",
       "11875  https://drive.google.com/file/d/0B62PuBu1vKRLc...   \n",
       "11876  http://www.deseretnews.com/article/737686/DUIs...   \n",
       "11877  http://articles.latimes.com/2000/jan/10/local/...   \n",
       "11878  https://docs.google.com/document/d/1DgZgZi6c4t...   \n",
       "11879  https://groups.google.com/forum/#!topic/alt.tr...   \n",
       "11880  http://www.wsbtv.com/news/news/fatal-cop-beati...   \n",
       "11881  https://news.google.com/newspapers?nid=1817&da...   \n",
       "11882  http://www.recordnet.com/article/20000110/A_NE...   \n",
       "11883    http://www.realcrimes.com/Robinson/Robinson.htm   \n",
       "\n",
       "      Symptoms of mental illness?  \\\n",
       "0                              No   \n",
       "1                              No   \n",
       "2                              No   \n",
       "3                              No   \n",
       "4                              No   \n",
       "5                              No   \n",
       "6                              No   \n",
       "7             Drug or alcohol use   \n",
       "8                             Yes   \n",
       "9                              No   \n",
       "10                             No   \n",
       "11                             No   \n",
       "12                             No   \n",
       "13                             No   \n",
       "14                             No   \n",
       "15                             No   \n",
       "16                             No   \n",
       "17                             No   \n",
       "18                            Yes   \n",
       "19                            Yes   \n",
       "20            Drug or alcohol use   \n",
       "21                             No   \n",
       "22                             No   \n",
       "23                             No   \n",
       "24                            Yes   \n",
       "25                             No   \n",
       "26                             No   \n",
       "27                             No   \n",
       "28                             No   \n",
       "29                             No   \n",
       "...                           ...   \n",
       "11854                          No   \n",
       "11855                     Unknown   \n",
       "11856                          No   \n",
       "11857                         Yes   \n",
       "11858                         Yes   \n",
       "11859                     Unknown   \n",
       "11860                          No   \n",
       "11861                          No   \n",
       "11862                          No   \n",
       "11863                         Yes   \n",
       "11864                          No   \n",
       "11865                          No   \n",
       "11866                         Yes   \n",
       "11867                         Yes   \n",
       "11868                     Unknown   \n",
       "11869                     Unknown   \n",
       "11870                          No   \n",
       "11871                          No   \n",
       "11872                     Unknown   \n",
       "11873                          No   \n",
       "11874                          No   \n",
       "11875                     Unknown   \n",
       "11876                          No   \n",
       "11877                     Unknown   \n",
       "11878                     Unknown   \n",
       "11879                          No   \n",
       "11880         Drug or alcohol use   \n",
       "11881                     Unknown   \n",
       "11882                          No   \n",
       "11883                         NaN   \n",
       "\n",
       "                      Unique identifier/submitted by Email address  \\\n",
       "0                                                NaN           NaN   \n",
       "1                                                NaN           NaN   \n",
       "2                                                NaN           NaN   \n",
       "3                                                NaN           NaN   \n",
       "4                                                NaN           NaN   \n",
       "5                                                NaN           NaN   \n",
       "6                                                NaN           NaN   \n",
       "7                                                NaN           NaN   \n",
       "8                                                NaN           NaN   \n",
       "9                                                NaN           NaN   \n",
       "10                                               NaN           NaN   \n",
       "11                                               NaN           NaN   \n",
       "12                                               NaN           NaN   \n",
       "13                                               NaN           NaN   \n",
       "14                                               NaN           NaN   \n",
       "15                                               NaN           NaN   \n",
       "16                                               NaN           NaN   \n",
       "17                                               NaN           NaN   \n",
       "18                                               NaN           NaN   \n",
       "19                                               NaN           NaN   \n",
       "20                                               NaN           NaN   \n",
       "21                                               NaN           NaN   \n",
       "22                                               NaN           NaN   \n",
       "23                                               NaN           NaN   \n",
       "24                                               NaN           NaN   \n",
       "25                                               NaN           NaN   \n",
       "26                                               NaN           NaN   \n",
       "27                                               NaN           NaN   \n",
       "28                                               NaN           NaN   \n",
       "29                                               NaN           NaN   \n",
       "...                                              ...           ...   \n",
       "11854                                   Walt Lockley           NaN   \n",
       "11855  Robin/ Los Angeles TImes, The Homicide Report           NaN   \n",
       "11856                                            NaN           NaN   \n",
       "11857                                            NaN           NaN   \n",
       "11858                                            NaN           NaN   \n",
       "11859                                            NaN           NaN   \n",
       "11860                                       Alyssa C           NaN   \n",
       "11861                                   Walt Lockley           NaN   \n",
       "11862                                  0/@CRDeCeros/           NaN   \n",
       "11863   Portland Press Herald/ Maine Sunday Telegram           NaN   \n",
       "11864                                  0/@CRDeCeros/           NaN   \n",
       "11865                                   Lisa J/Riley           NaN   \n",
       "11866                                       jccnoble           NaN   \n",
       "11867                          City of Reno/Burghart           NaN   \n",
       "11868                                            NaN           NaN   \n",
       "11869                                            NaN           NaN   \n",
       "11870                                   Walt Lockley           NaN   \n",
       "11871                                     @CRDeCeros           NaN   \n",
       "11872                                            Cox           NaN   \n",
       "11873                         CRDeCeros/Walt Lockley           NaN   \n",
       "11874                                  New/EBNPhilly           NaN   \n",
       "11875                                            NaN           NaN   \n",
       "11876                                   Walt Lockley           NaN   \n",
       "11877                                            NaN           NaN   \n",
       "11878                                            NaN           NaN   \n",
       "11879                         CRDeCeros/Walt Lockley           NaN   \n",
       "11880                              johndoe20/ Lauren           NaN   \n",
       "11881                                   0@CRDeCeros/           NaN   \n",
       "11882                                            NaN           NaN   \n",
       "11883                                     Bill jones           NaN   \n",
       "\n",
       "                                        Date&Description  11883  \\\n",
       "0      3/19/2016: Park Forest Police were investigati...  11883   \n",
       "1      3/19/2016: Kentucky State Police says a troope...  11882   \n",
       "2      3/19/2016: Police said Beaty threatened a man ...    NaN   \n",
       "3      3/18/2016: Police went to arrest a man for chi...    NaN   \n",
       "4      3/18/2016: Officer Allen Jacobs and his partne...    NaN   \n",
       "5      3/17/2016: Police say officers responded to a ...    NaN   \n",
       "6      3/17/2016: Officers responded to a call about ...    NaN   \n",
       "7      3/17/2016: Authorities said Shorak, who had be...    NaN   \n",
       "8      3/17/2016: Police responded to a suicidal call...    NaN   \n",
       "9      3/17/2016: Police were surveiling five suspect...    NaN   \n",
       "10     3/17/2016: Police were surveiling five suspect...    NaN   \n",
       "11     3/16/2016: Deputies responded to a false robbe...    NaN   \n",
       "12     3/16/2016: Deputies were called to check the w...    NaN   \n",
       "13     3/16/2016: Hernandez got into an altercation w...    NaN   \n",
       "14     3/15/2016: Evansville officers fatally shot a ...    NaN   \n",
       "15     3/15/2016: Harris apparently shot his girlfrie...    NaN   \n",
       "16     3/15/2016: Fort Worth police officers attempte...    NaN   \n",
       "17     3/14/2016: Officers were investigating \"possib...    NaN   \n",
       "18     3/13/2016: Alachadzhyan stole a West Covina po...    NaN   \n",
       "19     3/13/2016: A woman driving erratically crashed...    NaN   \n",
       "20     3/13/2016: Police responded to a call from the...    NaN   \n",
       "21     3/13/2016: Police say Deerman fired on them af...    NaN   \n",
       "22     3/13/2016: Off-duty Officer Ken Johnson saw a ...    NaN   \n",
       "23     3/12/2016: Police say the incident started as ...    NaN   \n",
       "24     3/12/2016: Police said the man was along the f...    NaN   \n",
       "25     3/12/2016: Police went to a house and resolved...    NaN   \n",
       "26     3/12/2016: A deputy interceded during an appar...    NaN   \n",
       "27     3/11/2016: A man robbed a bank and when police...    NaN   \n",
       "28     3/11/2016: Officers responded to a call of a m...    NaN   \n",
       "29     3/11/2016: A man was sitting in his truck with...    NaN   \n",
       "...                                                  ...    ...   \n",
       "11854  1/31/2000: Hardy held a 63-year-old woman host...    NaN   \n",
       "11855  1/31/2000: As reported by the Los Angeles Time...    NaN   \n",
       "11856  1/30/2000: Leonila Hernandez Guerrero was kill...    NaN   \n",
       "11857  1/29/2000: Police said two off-duty officers n...    NaN   \n",
       "11858  1/29/2000: Police shot and killed Christopher ...    NaN   \n",
       "11859  1/28/2000: Officers Marcell Patterson and Will...    NaN   \n",
       "11860  1/28/2000: A stolen van in which he was riding...    NaN   \n",
       "11861  1/28/2000: Young was an off-duty, out-of-unifo...    NaN   \n",
       "11862  1/22/2000: Hedges ate almost an ounce of cocai...    NaN   \n",
       "11863  1/21/2000: Officers tried to talk Bennett out ...    NaN   \n",
       "11864  1/20/2000: Williams, a bank robbery suspect, l...    NaN   \n",
       "11865  1/19/2000: Two Atlanta police officers began p...    NaN   \n",
       "11866  1/17/2000: A mentally ill Queens man who had s...    NaN   \n",
       "11867  1/17/2000: While being chased by Reno Police, ...    NaN   \n",
       "11868  1/15/2000: CHP officers shot Jose Daniel Gonza...    NaN   \n",
       "11869  1/14/2000: Officers killed 41-year-old Miguel ...    NaN   \n",
       "11870  1/13/2000: Wanted for murder, and described as...    NaN   \n",
       "11871  1/13/2000: Jamie Fowler Boyll died when a vehi...    NaN   \n",
       "11872  1/12/2000: Montelongo made a hang up call to 9...    NaN   \n",
       "11873  1/11/2000: Jean was the suspect in the armed r...    NaN   \n",
       "11874  1/10/2000: An Army veteran and West Chester Un...    NaN   \n",
       "11875  1/9/2000: Deputies shot and killed Sonny Danie...    NaN   \n",
       "11876  1/9/2000: The Honda Prelude driven by Olds at ...    NaN   \n",
       "11877  1/7/2000: Joseph Gumpert stopped breathing aft...    NaN   \n",
       "11878  1/6/2000: SWAT officers shot and killed Adrian...    NaN   \n",
       "11879  1/6/2000: State troopers and county deputies h...    NaN   \n",
       "11880  1/5/2000: On Jan. 5 around midnight, 20-year-o...    NaN   \n",
       "11881  1/5/2000: John Edward Pittman was shot and kil...    NaN   \n",
       "11882  1/2/2000: LaTanya Janelle McCoy's car was stru...    NaN   \n",
       "11883                                                NaN    NaN   \n",
       "\n",
       "       Unique identifier  Unnamed: 23  Unnamed: 24  \n",
       "0                  11883          NaN          NaN  \n",
       "1                  11882          NaN          NaN  \n",
       "2                  11881          NaN          NaN  \n",
       "3                  11880          NaN          NaN  \n",
       "4                  11879          NaN          NaN  \n",
       "5                  11878          NaN          NaN  \n",
       "6                  11877          NaN          NaN  \n",
       "7                  11876          NaN          NaN  \n",
       "8                  11875          NaN          NaN  \n",
       "9                  11874          NaN          NaN  \n",
       "10                 11873          NaN          NaN  \n",
       "11                 11872          NaN          NaN  \n",
       "12                 11871          NaN          NaN  \n",
       "13                 11870          NaN          NaN  \n",
       "14                 11869          NaN          NaN  \n",
       "15                 11841          NaN          NaN  \n",
       "16                 11840          NaN          NaN  \n",
       "17                 11839          NaN          NaN  \n",
       "18                 11868          NaN          NaN  \n",
       "19                 11867          NaN          NaN  \n",
       "20                 11838          NaN          NaN  \n",
       "21                 11837          NaN          NaN  \n",
       "22                 11831          NaN          NaN  \n",
       "23                 11836          NaN          NaN  \n",
       "24                 11835          NaN          NaN  \n",
       "25                 11834          NaN          NaN  \n",
       "26                 11833          NaN          NaN  \n",
       "27                 11866          NaN          NaN  \n",
       "28                 11865          NaN          NaN  \n",
       "29                 11832          NaN          NaN  \n",
       "...                  ...          ...          ...  \n",
       "11854                 29          NaN          NaN  \n",
       "11855                 28          NaN          NaN  \n",
       "11856                 27          NaN          NaN  \n",
       "11857                 26          NaN          NaN  \n",
       "11858                 25          NaN          NaN  \n",
       "11859                 24          NaN          NaN  \n",
       "11860                 23          NaN          NaN  \n",
       "11861                 22          NaN          NaN  \n",
       "11862                 21          NaN          NaN  \n",
       "11863                 20          NaN          NaN  \n",
       "11864                 19          NaN          NaN  \n",
       "11865                 18          NaN          NaN  \n",
       "11866                 17          NaN          NaN  \n",
       "11867                 16          NaN          NaN  \n",
       "11868                 15          NaN          NaN  \n",
       "11869                 14          NaN          NaN  \n",
       "11870                 13          NaN          NaN  \n",
       "11871                 12          NaN          NaN  \n",
       "11872                 11          NaN          NaN  \n",
       "11873                 10          NaN          NaN  \n",
       "11874                  9          NaN          NaN  \n",
       "11875                  8          NaN          NaN  \n",
       "11876                  7          NaN          NaN  \n",
       "11877                  6          NaN          NaN  \n",
       "11878                  5          NaN          NaN  \n",
       "11879                  4          NaN          NaN  \n",
       "11880                  3          NaN          NaN  \n",
       "11881                  2          NaN          NaN  \n",
       "11882                  1          NaN          NaN  \n",
       "11883                NaN          NaN          NaN  \n",
       "\n",
       "[11884 rows x 15 columns]"
      ]
     },
     "execution_count": 58,
     "metadata": {},
     "output_type": "execute_result"
    }
   ],
   "source": [
    "fe.iloc[:,10:25]"
   ]
  },
  {
   "cell_type": "markdown",
   "metadata": {},
   "source": [
    "Load in table of every zip code and their information in America and clean table."
   ]
  },
  {
   "cell_type": "code",
   "execution_count": 10,
   "metadata": {
    "collapsed": true
   },
   "outputs": [],
   "source": [
    "zipcodes = pd.read_csv(\"~/Downloads/us_postal_codes.csv\", dtype=\"str\")"
   ]
  },
  {
   "cell_type": "code",
   "execution_count": 11,
   "metadata": {
    "collapsed": false
   },
   "outputs": [],
   "source": [
    "del zipcodes[\"Unnamed: 7\"]"
   ]
  },
  {
   "cell_type": "code",
   "execution_count": 12,
   "metadata": {
    "collapsed": false
   },
   "outputs": [],
   "source": [
    "def add_zeroes(x):\n",
    "    if len(x) == 3:\n",
    "        return \"00\" + str(x)\n",
    "    elif len(x) == 4:\n",
    "        return \"0\" + str(x)\n",
    "    else:\n",
    "        return str(x)"
   ]
  },
  {
   "cell_type": "code",
   "execution_count": 13,
   "metadata": {
    "collapsed": false
   },
   "outputs": [],
   "source": [
    "zipcodes[\"zip_codes\"] = zipcodes[\"Postal Code\"].astype(str)"
   ]
  },
  {
   "cell_type": "code",
   "execution_count": 14,
   "metadata": {
    "collapsed": false
   },
   "outputs": [],
   "source": [
    "zipcodes[\"zip_codes\"] = zipcodes.zip_codes.apply(add_zeroes)"
   ]
  },
  {
   "cell_type": "code",
   "execution_count": 15,
   "metadata": {
    "collapsed": false
   },
   "outputs": [],
   "source": [
    "zc = zipcodes.iloc[:43582, :].copy()"
   ]
  },
  {
   "cell_type": "code",
   "execution_count": 16,
   "metadata": {
    "collapsed": false
   },
   "outputs": [
    {
     "data": {
      "text/plain": [
       "Postal Code           object\n",
       "Place Name            object\n",
       "State                 object\n",
       "State Abbreviation    object\n",
       "County                object\n",
       "Latitude              object\n",
       "Longitude             object\n",
       "zip_codes             object\n",
       "dtype: object"
      ]
     },
     "execution_count": 16,
     "metadata": {},
     "output_type": "execute_result"
    }
   ],
   "source": [
    "zc.dtypes"
   ]
  },
  {
   "cell_type": "code",
   "execution_count": 17,
   "metadata": {
    "collapsed": true
   },
   "outputs": [],
   "source": [
    "def add_zero_2(x):\n",
    "    if x<1000:\n",
    "        return \"00\" + str(x)\n",
    "    elif x>=1000 and 10000> x:\n",
    "        return \"0\" + str(x)\n",
    "    else:\n",
    "        return str(x)"
   ]
  },
  {
   "cell_type": "code",
   "execution_count": 18,
   "metadata": {
    "collapsed": false
   },
   "outputs": [],
   "source": [
    "zc[\"code\"] = zc[\"Postal Code\"].apply(add_zero_2)"
   ]
  },
  {
   "cell_type": "code",
   "execution_count": 19,
   "metadata": {
    "collapsed": false
   },
   "outputs": [],
   "source": [
    "# zc\n",
    "del zc[\"Postal Code\"]\n",
    "del zc[\"zip_codes\"]"
   ]
  },
  {
   "cell_type": "code",
   "execution_count": 20,
   "metadata": {
    "collapsed": false
   },
   "outputs": [
    {
     "data": {
      "text/html": [
       "<div>\n",
       "<table border=\"1\" class=\"dataframe\">\n",
       "  <thead>\n",
       "    <tr style=\"text-align: right;\">\n",
       "      <th></th>\n",
       "      <th>Place Name</th>\n",
       "      <th>State</th>\n",
       "      <th>State Abbreviation</th>\n",
       "      <th>County</th>\n",
       "      <th>Latitude</th>\n",
       "      <th>Longitude</th>\n",
       "      <th>code</th>\n",
       "    </tr>\n",
       "  </thead>\n",
       "  <tbody>\n",
       "    <tr>\n",
       "      <th>0</th>\n",
       "      <td>Portsmouth</td>\n",
       "      <td>New Hampshire</td>\n",
       "      <td>NH</td>\n",
       "      <td>Rockingham</td>\n",
       "      <td>43.0059</td>\n",
       "      <td>-71.0132</td>\n",
       "      <td>00210</td>\n",
       "    </tr>\n",
       "    <tr>\n",
       "      <th>1</th>\n",
       "      <td>Portsmouth</td>\n",
       "      <td>New Hampshire</td>\n",
       "      <td>NH</td>\n",
       "      <td>Rockingham</td>\n",
       "      <td>43.0059</td>\n",
       "      <td>-71.0132</td>\n",
       "      <td>00211</td>\n",
       "    </tr>\n",
       "    <tr>\n",
       "      <th>2</th>\n",
       "      <td>Portsmouth</td>\n",
       "      <td>New Hampshire</td>\n",
       "      <td>NH</td>\n",
       "      <td>Rockingham</td>\n",
       "      <td>43.0059</td>\n",
       "      <td>-71.0132</td>\n",
       "      <td>00212</td>\n",
       "    </tr>\n",
       "    <tr>\n",
       "      <th>3</th>\n",
       "      <td>Portsmouth</td>\n",
       "      <td>New Hampshire</td>\n",
       "      <td>NH</td>\n",
       "      <td>Rockingham</td>\n",
       "      <td>43.0059</td>\n",
       "      <td>-71.0132</td>\n",
       "      <td>00213</td>\n",
       "    </tr>\n",
       "    <tr>\n",
       "      <th>4</th>\n",
       "      <td>Portsmouth</td>\n",
       "      <td>New Hampshire</td>\n",
       "      <td>NH</td>\n",
       "      <td>Rockingham</td>\n",
       "      <td>43.0059</td>\n",
       "      <td>-71.0132</td>\n",
       "      <td>00214</td>\n",
       "    </tr>\n",
       "  </tbody>\n",
       "</table>\n",
       "</div>"
      ],
      "text/plain": [
       "   Place Name          State State Abbreviation      County Latitude  \\\n",
       "0  Portsmouth  New Hampshire                 NH  Rockingham  43.0059   \n",
       "1  Portsmouth  New Hampshire                 NH  Rockingham  43.0059   \n",
       "2  Portsmouth  New Hampshire                 NH  Rockingham  43.0059   \n",
       "3  Portsmouth  New Hampshire                 NH  Rockingham  43.0059   \n",
       "4  Portsmouth  New Hampshire                 NH  Rockingham  43.0059   \n",
       "\n",
       "  Longitude   code  \n",
       "0  -71.0132  00210  \n",
       "1  -71.0132  00211  \n",
       "2  -71.0132  00212  \n",
       "3  -71.0132  00213  \n",
       "4  -71.0132  00214  "
      ]
     },
     "execution_count": 20,
     "metadata": {},
     "output_type": "execute_result"
    }
   ],
   "source": [
    "zc.head()"
   ]
  },
  {
   "cell_type": "markdown",
   "metadata": {},
   "source": [
    "This is where I made a table of unique zip codes from my Fatal Encounters database. Then I assigned each zip code a \"1\" which indicates that zip code has experienced at least one police office involved death. All other zip codes will be assigned a \"0\" when I join this table with my census data. This will be my target variable in logistic regression."
   ]
  },
  {
   "cell_type": "code",
   "execution_count": 21,
   "metadata": {
    "collapsed": true
   },
   "outputs": [],
   "source": [
    "counts = pd.DataFrame(df[\"Location of death (zip code)\"].unique(), columns=[\"code\"])"
   ]
  },
  {
   "cell_type": "code",
   "execution_count": 22,
   "metadata": {
    "collapsed": false
   },
   "outputs": [],
   "source": [
    "counts[\"target\"] =1"
   ]
  },
  {
   "cell_type": "code",
   "execution_count": 23,
   "metadata": {
    "collapsed": false
   },
   "outputs": [
    {
     "data": {
      "text/html": [
       "<div>\n",
       "<table border=\"1\" class=\"dataframe\">\n",
       "  <thead>\n",
       "    <tr style=\"text-align: right;\">\n",
       "      <th></th>\n",
       "      <th>code</th>\n",
       "      <th>target</th>\n",
       "    </tr>\n",
       "  </thead>\n",
       "  <tbody>\n",
       "    <tr>\n",
       "      <th>0</th>\n",
       "      <td>89117</td>\n",
       "      <td>1</td>\n",
       "    </tr>\n",
       "    <tr>\n",
       "      <th>1</th>\n",
       "      <td>93701</td>\n",
       "      <td>1</td>\n",
       "    </tr>\n",
       "    <tr>\n",
       "      <th>2</th>\n",
       "      <td>82301</td>\n",
       "      <td>1</td>\n",
       "    </tr>\n",
       "    <tr>\n",
       "      <th>3</th>\n",
       "      <td>95322</td>\n",
       "      <td>1</td>\n",
       "    </tr>\n",
       "    <tr>\n",
       "      <th>4</th>\n",
       "      <td>91770</td>\n",
       "      <td>1</td>\n",
       "    </tr>\n",
       "  </tbody>\n",
       "</table>\n",
       "</div>"
      ],
      "text/plain": [
       "    code  target\n",
       "0  89117       1\n",
       "1  93701       1\n",
       "2  82301       1\n",
       "3  95322       1\n",
       "4  91770       1"
      ]
     },
     "execution_count": 23,
     "metadata": {},
     "output_type": "execute_result"
    }
   ],
   "source": [
    "counts.head()"
   ]
  },
  {
   "cell_type": "code",
   "execution_count": 25,
   "metadata": {
    "collapsed": false
   },
   "outputs": [
    {
     "data": {
      "text/html": [
       "<div>\n",
       "<table border=\"1\" class=\"dataframe\">\n",
       "  <thead>\n",
       "    <tr style=\"text-align: right;\">\n",
       "      <th></th>\n",
       "      <th>code</th>\n",
       "      <th>target</th>\n",
       "      <th>Place Name</th>\n",
       "      <th>State</th>\n",
       "      <th>State Abbreviation</th>\n",
       "      <th>County</th>\n",
       "      <th>Latitude</th>\n",
       "      <th>Longitude</th>\n",
       "    </tr>\n",
       "  </thead>\n",
       "  <tbody>\n",
       "    <tr>\n",
       "      <th>0</th>\n",
       "      <td>89117</td>\n",
       "      <td>1</td>\n",
       "      <td>Las Vegas</td>\n",
       "      <td>Nevada</td>\n",
       "      <td>NV</td>\n",
       "      <td>Clark</td>\n",
       "      <td>36.1302</td>\n",
       "      <td>-115.2755</td>\n",
       "    </tr>\n",
       "    <tr>\n",
       "      <th>1</th>\n",
       "      <td>93701</td>\n",
       "      <td>1</td>\n",
       "      <td>Fresno</td>\n",
       "      <td>California</td>\n",
       "      <td>CA</td>\n",
       "      <td>Fresno</td>\n",
       "      <td>36.7487</td>\n",
       "      <td>-119.7867</td>\n",
       "    </tr>\n",
       "    <tr>\n",
       "      <th>2</th>\n",
       "      <td>82301</td>\n",
       "      <td>1</td>\n",
       "      <td>Rawlins</td>\n",
       "      <td>Wyoming</td>\n",
       "      <td>WY</td>\n",
       "      <td>Carbon</td>\n",
       "      <td>41.7951</td>\n",
       "      <td>-107.2349</td>\n",
       "    </tr>\n",
       "    <tr>\n",
       "      <th>3</th>\n",
       "      <td>95322</td>\n",
       "      <td>1</td>\n",
       "      <td>Gustine</td>\n",
       "      <td>California</td>\n",
       "      <td>CA</td>\n",
       "      <td>Merced</td>\n",
       "      <td>37.2001</td>\n",
       "      <td>-121.0047</td>\n",
       "    </tr>\n",
       "    <tr>\n",
       "      <th>4</th>\n",
       "      <td>91770</td>\n",
       "      <td>1</td>\n",
       "      <td>Rosemead</td>\n",
       "      <td>California</td>\n",
       "      <td>CA</td>\n",
       "      <td>Los Angeles</td>\n",
       "      <td>34.0658</td>\n",
       "      <td>-118.0853</td>\n",
       "    </tr>\n",
       "  </tbody>\n",
       "</table>\n",
       "</div>"
      ],
      "text/plain": [
       "    code  target Place Name       State State Abbreviation       County  \\\n",
       "0  89117       1  Las Vegas      Nevada                 NV        Clark   \n",
       "1  93701       1     Fresno  California                 CA       Fresno   \n",
       "2  82301       1    Rawlins     Wyoming                 WY       Carbon   \n",
       "3  95322       1    Gustine  California                 CA       Merced   \n",
       "4  91770       1   Rosemead  California                 CA  Los Angeles   \n",
       "\n",
       "  Latitude  Longitude  \n",
       "0  36.1302  -115.2755  \n",
       "1  36.7487  -119.7867  \n",
       "2  41.7951  -107.2349  \n",
       "3  37.2001  -121.0047  \n",
       "4  34.0658  -118.0853  "
      ]
     },
     "execution_count": 25,
     "metadata": {},
     "output_type": "execute_result"
    }
   ],
   "source": [
    "pd.merge(counts,zc, on=\"code\").head()"
   ]
  },
  {
   "cell_type": "code",
   "execution_count": 26,
   "metadata": {
    "collapsed": false
   },
   "outputs": [
    {
     "data": {
      "text/plain": [
       "0        00210\n",
       "1        00211\n",
       "2        00212\n",
       "3        00213\n",
       "4        00214\n",
       "5        00215\n",
       "6        00401\n",
       "7        00501\n",
       "8        00544\n",
       "9        01001\n",
       "10       01002\n",
       "11       01003\n",
       "12       01004\n",
       "13       01005\n",
       "14       01007\n",
       "15       01008\n",
       "16       01009\n",
       "17       01010\n",
       "18       01011\n",
       "19       01012\n",
       "20       01013\n",
       "21       01014\n",
       "22       01020\n",
       "23       01021\n",
       "24       01022\n",
       "25       01026\n",
       "26       01027\n",
       "27       01028\n",
       "28       01029\n",
       "29       01030\n",
       "         ...  \n",
       "43552    99811\n",
       "43553    99812\n",
       "43554    99820\n",
       "43555    99821\n",
       "43556    99824\n",
       "43557    99825\n",
       "43558    99826\n",
       "43559    99827\n",
       "43560    99829\n",
       "43561    99830\n",
       "43562    99832\n",
       "43563    99833\n",
       "43564    99835\n",
       "43565    99836\n",
       "43566    99840\n",
       "43567    99841\n",
       "43568    99850\n",
       "43569    99901\n",
       "43570    99903\n",
       "43571    99918\n",
       "43572    99919\n",
       "43573    99921\n",
       "43574    99922\n",
       "43575    99923\n",
       "43576    99925\n",
       "43577    99926\n",
       "43578    99927\n",
       "43579    99928\n",
       "43580    99929\n",
       "43581    99950\n",
       "Name: code, dtype: object"
      ]
     },
     "execution_count": 26,
     "metadata": {},
     "output_type": "execute_result"
    }
   ],
   "source": [
    "zc.code.replace(\".0\", \"\")"
   ]
  },
  {
   "cell_type": "code",
   "execution_count": 28,
   "metadata": {
    "collapsed": false
   },
   "outputs": [],
   "source": [
    "zipcodes.rename(columns={\"Postal Code\": \"code\"}, inplace= True)\n"
   ]
  },
  {
   "cell_type": "code",
   "execution_count": 29,
   "metadata": {
    "collapsed": true
   },
   "outputs": [],
   "source": [
    "zc = zipcodes.copy()"
   ]
  },
  {
   "cell_type": "code",
   "execution_count": 30,
   "metadata": {
    "collapsed": false
   },
   "outputs": [],
   "source": [
    "zc = zc.iloc[:43582, :].copy()"
   ]
  },
  {
   "cell_type": "code",
   "execution_count": 31,
   "metadata": {
    "collapsed": true
   },
   "outputs": [],
   "source": [
    "df = pd.merge(counts,zc, on=\"code\", how=\"outer\")"
   ]
  },
  {
   "cell_type": "code",
   "execution_count": 32,
   "metadata": {
    "collapsed": true
   },
   "outputs": [],
   "source": [
    "df[\"target\"]=df.target.fillna(0)"
   ]
  },
  {
   "cell_type": "code",
   "execution_count": 33,
   "metadata": {
    "collapsed": false
   },
   "outputs": [
    {
     "data": {
      "text/plain": [
       "0    40677\n",
       "1     2910\n",
       "Name: target, dtype: int64"
      ]
     },
     "execution_count": 33,
     "metadata": {},
     "output_type": "execute_result"
    }
   ],
   "source": [
    "df.target.value_counts()"
   ]
  },
  {
   "cell_type": "code",
   "execution_count": 34,
   "metadata": {
    "collapsed": false
   },
   "outputs": [],
   "source": [
    "df = df.dropna()"
   ]
  },
  {
   "cell_type": "code",
   "execution_count": 35,
   "metadata": {
    "collapsed": false
   },
   "outputs": [
    {
     "data": {
      "text/plain": [
       "0    39268\n",
       "1     2883\n",
       "Name: target, dtype: int64"
      ]
     },
     "execution_count": 35,
     "metadata": {},
     "output_type": "execute_result"
    }
   ],
   "source": [
    "df.target.value_counts()"
   ]
  },
  {
   "cell_type": "code",
   "execution_count": 36,
   "metadata": {
    "collapsed": true
   },
   "outputs": [],
   "source": [
    "from sklearn import datasets"
   ]
  },
  {
   "cell_type": "markdown",
   "metadata": {},
   "source": [
    "This is where I load in and clean up census data at a zip code level. I use this data to make one big table of the demographic features I plan to use to predict the probability of a police officer involved death."
   ]
  },
  {
   "cell_type": "code",
   "execution_count": 37,
   "metadata": {
    "collapsed": false
   },
   "outputs": [],
   "source": [
    "\"\"\"Zip code gini coeffecients\"\"\"\n",
    "gini = pd.read_csv(\"/Users/georgemcintire/Downloads/aff_download (1)/ACS_14_5YR_B19083_with_ann.csv\", dtype=\"object\")"
   ]
  },
  {
   "cell_type": "code",
   "execution_count": 38,
   "metadata": {
    "collapsed": false
   },
   "outputs": [
    {
     "data": {
      "text/plain": [
       "(33121, 5)"
      ]
     },
     "execution_count": 38,
     "metadata": {},
     "output_type": "execute_result"
    }
   ],
   "source": [
    "gini.shape"
   ]
  },
  {
   "cell_type": "code",
   "execution_count": 39,
   "metadata": {
    "collapsed": true
   },
   "outputs": [],
   "source": [
    "\"\"\"Zip code acial demographics \"\"\"\n",
    "race_populations = pd.read_csv(\"/Users/georgemcintire/Downloads/aff_download (1)/ACS_14_5YR_B02001_with_ann.csv\", dtype=\"object\")"
   ]
  },
  {
   "cell_type": "code",
   "execution_count": 40,
   "metadata": {
    "collapsed": false
   },
   "outputs": [
    {
     "data": {
      "text/plain": [
       "(33121, 23)"
      ]
     },
     "execution_count": 40,
     "metadata": {},
     "output_type": "execute_result"
    }
   ],
   "source": [
    "race_populations.shape"
   ]
  },
  {
   "cell_type": "code",
   "execution_count": 41,
   "metadata": {
    "collapsed": false
   },
   "outputs": [],
   "source": [
    "# race_populations"
   ]
  },
  {
   "cell_type": "code",
   "execution_count": 42,
   "metadata": {
    "collapsed": true
   },
   "outputs": [],
   "source": [
    "\"\"\"Zip code education information\"\"\"\n",
    "education = pd.read_csv(\"/Users/georgemcintire/Downloads/aff_download (1)/ACS_14_5YR_B15003_with_ann.csv\", dtype=\"object\")"
   ]
  },
  {
   "cell_type": "code",
   "execution_count": 43,
   "metadata": {
    "collapsed": false
   },
   "outputs": [
    {
     "data": {
      "text/plain": [
       "(33121, 53)"
      ]
     },
     "execution_count": 43,
     "metadata": {},
     "output_type": "execute_result"
    }
   ],
   "source": [
    "education.shape"
   ]
  },
  {
   "cell_type": "code",
   "execution_count": 44,
   "metadata": {
    "collapsed": false
   },
   "outputs": [
    {
     "data": {
      "text/html": [
       "<div>\n",
       "<table border=\"1\" class=\"dataframe\">\n",
       "  <thead>\n",
       "    <tr style=\"text-align: right;\">\n",
       "      <th></th>\n",
       "      <th>HD01_VD15</th>\n",
       "      <th>HD02_VD15</th>\n",
       "      <th>HD01_VD16</th>\n",
       "      <th>HD02_VD16</th>\n",
       "      <th>HD01_VD17</th>\n",
       "      <th>HD02_VD17</th>\n",
       "      <th>HD01_VD18</th>\n",
       "      <th>HD02_VD18</th>\n",
       "      <th>HD01_VD19</th>\n",
       "      <th>HD02_VD19</th>\n",
       "      <th>...</th>\n",
       "      <th>HD01_VD21</th>\n",
       "      <th>HD02_VD21</th>\n",
       "      <th>HD01_VD22</th>\n",
       "      <th>HD02_VD22</th>\n",
       "      <th>HD01_VD23</th>\n",
       "      <th>HD02_VD23</th>\n",
       "      <th>HD01_VD24</th>\n",
       "      <th>HD02_VD24</th>\n",
       "      <th>HD01_VD25</th>\n",
       "      <th>HD02_VD25</th>\n",
       "    </tr>\n",
       "  </thead>\n",
       "  <tbody>\n",
       "    <tr>\n",
       "      <th>0</th>\n",
       "      <td>Estimate; Total: - 11th grade</td>\n",
       "      <td>Margin of Error; Total: - 11th grade</td>\n",
       "      <td>Estimate; Total: - 12th grade, no diploma</td>\n",
       "      <td>Margin of Error; Total: - 12th grade, no diploma</td>\n",
       "      <td>Estimate; Total: - Regular high school diploma</td>\n",
       "      <td>Margin of Error; Total: - Regular high school ...</td>\n",
       "      <td>Estimate; Total: - GED or alternative credential</td>\n",
       "      <td>Margin of Error; Total: - GED or alternative c...</td>\n",
       "      <td>Estimate; Total: - Some college, less than 1 year</td>\n",
       "      <td>Margin of Error; Total: - Some college, less t...</td>\n",
       "      <td>...</td>\n",
       "      <td>Estimate; Total: - Associate's degree</td>\n",
       "      <td>Margin of Error; Total: - Associate's degree</td>\n",
       "      <td>Estimate; Total: - Bachelor's degree</td>\n",
       "      <td>Margin of Error; Total: - Bachelor's degree</td>\n",
       "      <td>Estimate; Total: - Master's degree</td>\n",
       "      <td>Margin of Error; Total: - Master's degree</td>\n",
       "      <td>Estimate; Total: - Professional school degree</td>\n",
       "      <td>Margin of Error; Total: - Professional school ...</td>\n",
       "      <td>Estimate; Total: - Doctorate degree</td>\n",
       "      <td>Margin of Error; Total: - Doctorate degree</td>\n",
       "    </tr>\n",
       "    <tr>\n",
       "      <th>1</th>\n",
       "      <td>420</td>\n",
       "      <td>115</td>\n",
       "      <td>225</td>\n",
       "      <td>100</td>\n",
       "      <td>2913</td>\n",
       "      <td>336</td>\n",
       "      <td>108</td>\n",
       "      <td>63</td>\n",
       "      <td>84</td>\n",
       "      <td>59</td>\n",
       "      <td>...</td>\n",
       "      <td>672</td>\n",
       "      <td>159</td>\n",
       "      <td>1617</td>\n",
       "      <td>253</td>\n",
       "      <td>233</td>\n",
       "      <td>82</td>\n",
       "      <td>58</td>\n",
       "      <td>49</td>\n",
       "      <td>70</td>\n",
       "      <td>55</td>\n",
       "    </tr>\n",
       "    <tr>\n",
       "      <th>2</th>\n",
       "      <td>677</td>\n",
       "      <td>179</td>\n",
       "      <td>128</td>\n",
       "      <td>81</td>\n",
       "      <td>4497</td>\n",
       "      <td>433</td>\n",
       "      <td>891</td>\n",
       "      <td>201</td>\n",
       "      <td>191</td>\n",
       "      <td>81</td>\n",
       "      <td>...</td>\n",
       "      <td>3927</td>\n",
       "      <td>476</td>\n",
       "      <td>4440</td>\n",
       "      <td>545</td>\n",
       "      <td>1110</td>\n",
       "      <td>213</td>\n",
       "      <td>197</td>\n",
       "      <td>146</td>\n",
       "      <td>217</td>\n",
       "      <td>141</td>\n",
       "    </tr>\n",
       "    <tr>\n",
       "      <th>3</th>\n",
       "      <td>883</td>\n",
       "      <td>204</td>\n",
       "      <td>308</td>\n",
       "      <td>110</td>\n",
       "      <td>8390</td>\n",
       "      <td>548</td>\n",
       "      <td>1537</td>\n",
       "      <td>264</td>\n",
       "      <td>398</td>\n",
       "      <td>139</td>\n",
       "      <td>...</td>\n",
       "      <td>3180</td>\n",
       "      <td>400</td>\n",
       "      <td>5407</td>\n",
       "      <td>534</td>\n",
       "      <td>1599</td>\n",
       "      <td>302</td>\n",
       "      <td>254</td>\n",
       "      <td>110</td>\n",
       "      <td>319</td>\n",
       "      <td>120</td>\n",
       "    </tr>\n",
       "    <tr>\n",
       "      <th>4</th>\n",
       "      <td>70</td>\n",
       "      <td>46</td>\n",
       "      <td>40</td>\n",
       "      <td>41</td>\n",
       "      <td>1558</td>\n",
       "      <td>302</td>\n",
       "      <td>42</td>\n",
       "      <td>38</td>\n",
       "      <td>51</td>\n",
       "      <td>46</td>\n",
       "      <td>...</td>\n",
       "      <td>79</td>\n",
       "      <td>44</td>\n",
       "      <td>419</td>\n",
       "      <td>134</td>\n",
       "      <td>28</td>\n",
       "      <td>28</td>\n",
       "      <td>17</td>\n",
       "      <td>26</td>\n",
       "      <td>33</td>\n",
       "      <td>34</td>\n",
       "    </tr>\n",
       "  </tbody>\n",
       "</table>\n",
       "<p>5 rows × 22 columns</p>\n",
       "</div>"
      ],
      "text/plain": [
       "                       HD01_VD15                             HD02_VD15  \\\n",
       "0  Estimate; Total: - 11th grade  Margin of Error; Total: - 11th grade   \n",
       "1                            420                                   115   \n",
       "2                            677                                   179   \n",
       "3                            883                                   204   \n",
       "4                             70                                    46   \n",
       "\n",
       "                                   HD01_VD16  \\\n",
       "0  Estimate; Total: - 12th grade, no diploma   \n",
       "1                                        225   \n",
       "2                                        128   \n",
       "3                                        308   \n",
       "4                                         40   \n",
       "\n",
       "                                          HD02_VD16  \\\n",
       "0  Margin of Error; Total: - 12th grade, no diploma   \n",
       "1                                               100   \n",
       "2                                                81   \n",
       "3                                               110   \n",
       "4                                                41   \n",
       "\n",
       "                                        HD01_VD17  \\\n",
       "0  Estimate; Total: - Regular high school diploma   \n",
       "1                                            2913   \n",
       "2                                            4497   \n",
       "3                                            8390   \n",
       "4                                            1558   \n",
       "\n",
       "                                           HD02_VD17  \\\n",
       "0  Margin of Error; Total: - Regular high school ...   \n",
       "1                                                336   \n",
       "2                                                433   \n",
       "3                                                548   \n",
       "4                                                302   \n",
       "\n",
       "                                          HD01_VD18  \\\n",
       "0  Estimate; Total: - GED or alternative credential   \n",
       "1                                               108   \n",
       "2                                               891   \n",
       "3                                              1537   \n",
       "4                                                42   \n",
       "\n",
       "                                           HD02_VD18  \\\n",
       "0  Margin of Error; Total: - GED or alternative c...   \n",
       "1                                                 63   \n",
       "2                                                201   \n",
       "3                                                264   \n",
       "4                                                 38   \n",
       "\n",
       "                                           HD01_VD19  \\\n",
       "0  Estimate; Total: - Some college, less than 1 year   \n",
       "1                                                 84   \n",
       "2                                                191   \n",
       "3                                                398   \n",
       "4                                                 51   \n",
       "\n",
       "                                           HD02_VD19  \\\n",
       "0  Margin of Error; Total: - Some college, less t...   \n",
       "1                                                 59   \n",
       "2                                                 81   \n",
       "3                                                139   \n",
       "4                                                 46   \n",
       "\n",
       "                      ...                      \\\n",
       "0                     ...                       \n",
       "1                     ...                       \n",
       "2                     ...                       \n",
       "3                     ...                       \n",
       "4                     ...                       \n",
       "\n",
       "                               HD01_VD21  \\\n",
       "0  Estimate; Total: - Associate's degree   \n",
       "1                                    672   \n",
       "2                                   3927   \n",
       "3                                   3180   \n",
       "4                                     79   \n",
       "\n",
       "                                      HD02_VD21  \\\n",
       "0  Margin of Error; Total: - Associate's degree   \n",
       "1                                           159   \n",
       "2                                           476   \n",
       "3                                           400   \n",
       "4                                            44   \n",
       "\n",
       "                              HD01_VD22  \\\n",
       "0  Estimate; Total: - Bachelor's degree   \n",
       "1                                  1617   \n",
       "2                                  4440   \n",
       "3                                  5407   \n",
       "4                                   419   \n",
       "\n",
       "                                     HD02_VD22  \\\n",
       "0  Margin of Error; Total: - Bachelor's degree   \n",
       "1                                          253   \n",
       "2                                          545   \n",
       "3                                          534   \n",
       "4                                          134   \n",
       "\n",
       "                            HD01_VD23  \\\n",
       "0  Estimate; Total: - Master's degree   \n",
       "1                                 233   \n",
       "2                                1110   \n",
       "3                                1599   \n",
       "4                                  28   \n",
       "\n",
       "                                   HD02_VD23  \\\n",
       "0  Margin of Error; Total: - Master's degree   \n",
       "1                                         82   \n",
       "2                                        213   \n",
       "3                                        302   \n",
       "4                                         28   \n",
       "\n",
       "                                       HD01_VD24  \\\n",
       "0  Estimate; Total: - Professional school degree   \n",
       "1                                             58   \n",
       "2                                            197   \n",
       "3                                            254   \n",
       "4                                             17   \n",
       "\n",
       "                                           HD02_VD24  \\\n",
       "0  Margin of Error; Total: - Professional school ...   \n",
       "1                                                 49   \n",
       "2                                                146   \n",
       "3                                                110   \n",
       "4                                                 26   \n",
       "\n",
       "                             HD01_VD25  \\\n",
       "0  Estimate; Total: - Doctorate degree   \n",
       "1                                   70   \n",
       "2                                  217   \n",
       "3                                  319   \n",
       "4                                   33   \n",
       "\n",
       "                                    HD02_VD25  \n",
       "0  Margin of Error; Total: - Doctorate degree  \n",
       "1                                          55  \n",
       "2                                         141  \n",
       "3                                         120  \n",
       "4                                          34  \n",
       "\n",
       "[5 rows x 22 columns]"
      ]
     },
     "execution_count": 44,
     "metadata": {},
     "output_type": "execute_result"
    }
   ],
   "source": [
    "education.iloc[:5,31:]"
   ]
  },
  {
   "cell_type": "code",
   "execution_count": 45,
   "metadata": {
    "collapsed": false
   },
   "outputs": [
    {
     "data": {
      "text/plain": [
       "Index([u'GEO.id', u'GEO.id2', u'GEO.display-label', u'HD01_VD01', u'HD02_VD01',\n",
       "       u'HD01_VD02', u'HD02_VD02', u'HD01_VD03', u'HD02_VD03', u'HD01_VD04',\n",
       "       u'HD02_VD04', u'HD01_VD05', u'HD02_VD05', u'HD01_VD06', u'HD02_VD06',\n",
       "       u'HD01_VD07', u'HD02_VD07', u'HD01_VD08', u'HD02_VD08', u'HD01_VD09',\n",
       "       u'HD02_VD09', u'HD01_VD10', u'HD02_VD10', u'HD01_VD11', u'HD02_VD11',\n",
       "       u'HD01_VD12', u'HD02_VD12', u'HD01_VD13', u'HD02_VD13', u'HD01_VD14',\n",
       "       u'HD02_VD14', u'HD01_VD15', u'HD02_VD15', u'HD01_VD16', u'HD02_VD16',\n",
       "       u'HD01_VD17', u'HD02_VD17', u'HD01_VD18', u'HD02_VD18', u'HD01_VD19',\n",
       "       u'HD02_VD19', u'HD01_VD20', u'HD02_VD20', u'HD01_VD21', u'HD02_VD21',\n",
       "       u'HD01_VD22', u'HD02_VD22', u'HD01_VD23', u'HD02_VD23', u'HD01_VD24',\n",
       "       u'HD02_VD24', u'HD01_VD25', u'HD02_VD25'],\n",
       "      dtype='object')"
      ]
     },
     "execution_count": 45,
     "metadata": {},
     "output_type": "execute_result"
    }
   ],
   "source": [
    "education.columns"
   ]
  },
  {
   "cell_type": "code",
   "execution_count": 46,
   "metadata": {
    "collapsed": false
   },
   "outputs": [
    {
     "data": {
      "text/html": [
       "<div>\n",
       "<table border=\"1\" class=\"dataframe\">\n",
       "  <thead>\n",
       "    <tr style=\"text-align: right;\">\n",
       "      <th></th>\n",
       "      <th>GEO.id</th>\n",
       "      <th>GEO.id2</th>\n",
       "      <th>GEO.display-label</th>\n",
       "      <th>HD01_VD01</th>\n",
       "      <th>HD02_VD01</th>\n",
       "      <th>HD01_VD02</th>\n",
       "      <th>HD02_VD02</th>\n",
       "      <th>HD01_VD03</th>\n",
       "      <th>HD02_VD03</th>\n",
       "      <th>HD01_VD04</th>\n",
       "      <th>...</th>\n",
       "      <th>HD01_VD21</th>\n",
       "      <th>HD02_VD21</th>\n",
       "      <th>HD01_VD22</th>\n",
       "      <th>HD02_VD22</th>\n",
       "      <th>HD01_VD23</th>\n",
       "      <th>HD02_VD23</th>\n",
       "      <th>HD01_VD24</th>\n",
       "      <th>HD02_VD24</th>\n",
       "      <th>HD01_VD25</th>\n",
       "      <th>HD02_VD25</th>\n",
       "    </tr>\n",
       "  </thead>\n",
       "  <tbody>\n",
       "    <tr>\n",
       "      <th>0</th>\n",
       "      <td>Id</td>\n",
       "      <td>Id2</td>\n",
       "      <td>Geography</td>\n",
       "      <td>Estimate; Total:</td>\n",
       "      <td>Margin of Error; Total:</td>\n",
       "      <td>Estimate; Total: - No schooling completed</td>\n",
       "      <td>Margin of Error; Total: - No schooling completed</td>\n",
       "      <td>Estimate; Total: - Nursery school</td>\n",
       "      <td>Margin of Error; Total: - Nursery school</td>\n",
       "      <td>Estimate; Total: - Kindergarten</td>\n",
       "      <td>...</td>\n",
       "      <td>Estimate; Total: - Associate's degree</td>\n",
       "      <td>Margin of Error; Total: - Associate's degree</td>\n",
       "      <td>Estimate; Total: - Bachelor's degree</td>\n",
       "      <td>Margin of Error; Total: - Bachelor's degree</td>\n",
       "      <td>Estimate; Total: - Master's degree</td>\n",
       "      <td>Margin of Error; Total: - Master's degree</td>\n",
       "      <td>Estimate; Total: - Professional school degree</td>\n",
       "      <td>Margin of Error; Total: - Professional school ...</td>\n",
       "      <td>Estimate; Total: - Doctorate degree</td>\n",
       "      <td>Margin of Error; Total: - Doctorate degree</td>\n",
       "    </tr>\n",
       "    <tr>\n",
       "      <th>1</th>\n",
       "      <td>8600000US00601</td>\n",
       "      <td>00601</td>\n",
       "      <td>ZCTA5 00601</td>\n",
       "      <td>11877</td>\n",
       "      <td>188</td>\n",
       "      <td>409</td>\n",
       "      <td>95</td>\n",
       "      <td>0</td>\n",
       "      <td>20</td>\n",
       "      <td>0</td>\n",
       "      <td>...</td>\n",
       "      <td>672</td>\n",
       "      <td>159</td>\n",
       "      <td>1617</td>\n",
       "      <td>253</td>\n",
       "      <td>233</td>\n",
       "      <td>82</td>\n",
       "      <td>58</td>\n",
       "      <td>49</td>\n",
       "      <td>70</td>\n",
       "      <td>55</td>\n",
       "    </tr>\n",
       "  </tbody>\n",
       "</table>\n",
       "<p>2 rows × 53 columns</p>\n",
       "</div>"
      ],
      "text/plain": [
       "           GEO.id GEO.id2 GEO.display-label         HD01_VD01  \\\n",
       "0              Id     Id2         Geography  Estimate; Total:   \n",
       "1  8600000US00601   00601       ZCTA5 00601             11877   \n",
       "\n",
       "                 HD02_VD01                                  HD01_VD02  \\\n",
       "0  Margin of Error; Total:  Estimate; Total: - No schooling completed   \n",
       "1                      188                                        409   \n",
       "\n",
       "                                          HD02_VD02  \\\n",
       "0  Margin of Error; Total: - No schooling completed   \n",
       "1                                                95   \n",
       "\n",
       "                           HD01_VD03  \\\n",
       "0  Estimate; Total: - Nursery school   \n",
       "1                                  0   \n",
       "\n",
       "                                  HD02_VD03                        HD01_VD04  \\\n",
       "0  Margin of Error; Total: - Nursery school  Estimate; Total: - Kindergarten   \n",
       "1                                        20                                0   \n",
       "\n",
       "                      ...                      \\\n",
       "0                     ...                       \n",
       "1                     ...                       \n",
       "\n",
       "                               HD01_VD21  \\\n",
       "0  Estimate; Total: - Associate's degree   \n",
       "1                                    672   \n",
       "\n",
       "                                      HD02_VD21  \\\n",
       "0  Margin of Error; Total: - Associate's degree   \n",
       "1                                           159   \n",
       "\n",
       "                              HD01_VD22  \\\n",
       "0  Estimate; Total: - Bachelor's degree   \n",
       "1                                  1617   \n",
       "\n",
       "                                     HD02_VD22  \\\n",
       "0  Margin of Error; Total: - Bachelor's degree   \n",
       "1                                          253   \n",
       "\n",
       "                            HD01_VD23  \\\n",
       "0  Estimate; Total: - Master's degree   \n",
       "1                                 233   \n",
       "\n",
       "                                   HD02_VD23  \\\n",
       "0  Margin of Error; Total: - Master's degree   \n",
       "1                                         82   \n",
       "\n",
       "                                       HD01_VD24  \\\n",
       "0  Estimate; Total: - Professional school degree   \n",
       "1                                             58   \n",
       "\n",
       "                                           HD02_VD24  \\\n",
       "0  Margin of Error; Total: - Professional school ...   \n",
       "1                                                 49   \n",
       "\n",
       "                             HD01_VD25  \\\n",
       "0  Estimate; Total: - Doctorate degree   \n",
       "1                                   70   \n",
       "\n",
       "                                    HD02_VD25  \n",
       "0  Margin of Error; Total: - Doctorate degree  \n",
       "1                                          55  \n",
       "\n",
       "[2 rows x 53 columns]"
      ]
     },
     "execution_count": 46,
     "metadata": {},
     "output_type": "execute_result"
    }
   ],
   "source": [
    "education.iloc[0:2,:]"
   ]
  },
  {
   "cell_type": "code",
   "execution_count": 47,
   "metadata": {
    "collapsed": false
   },
   "outputs": [],
   "source": [
    "gini.rename(columns={\"GEO.id2\":\"code\"}, inplace=True)"
   ]
  },
  {
   "cell_type": "code",
   "execution_count": 48,
   "metadata": {
    "collapsed": false
   },
   "outputs": [
    {
     "data": {
      "text/html": [
       "<div>\n",
       "<table border=\"1\" class=\"dataframe\">\n",
       "  <thead>\n",
       "    <tr style=\"text-align: right;\">\n",
       "      <th></th>\n",
       "      <th>GEO.id</th>\n",
       "      <th>code</th>\n",
       "      <th>GEO.display-label</th>\n",
       "      <th>HD01_VD01</th>\n",
       "      <th>HD02_VD01</th>\n",
       "    </tr>\n",
       "  </thead>\n",
       "  <tbody>\n",
       "    <tr>\n",
       "      <th>0</th>\n",
       "      <td>Id</td>\n",
       "      <td>Id2</td>\n",
       "      <td>Geography</td>\n",
       "      <td>Estimate; Gini Index</td>\n",
       "      <td>Margin of Error; Gini Index</td>\n",
       "    </tr>\n",
       "    <tr>\n",
       "      <th>1</th>\n",
       "      <td>8600000US00601</td>\n",
       "      <td>00601</td>\n",
       "      <td>ZCTA5 00601</td>\n",
       "      <td>0.6001</td>\n",
       "      <td>0.0310</td>\n",
       "    </tr>\n",
       "    <tr>\n",
       "      <th>2</th>\n",
       "      <td>8600000US00602</td>\n",
       "      <td>00602</td>\n",
       "      <td>ZCTA5 00602</td>\n",
       "      <td>0.5136</td>\n",
       "      <td>0.0361</td>\n",
       "    </tr>\n",
       "    <tr>\n",
       "      <th>3</th>\n",
       "      <td>8600000US00603</td>\n",
       "      <td>00603</td>\n",
       "      <td>ZCTA5 00603</td>\n",
       "      <td>0.5498</td>\n",
       "      <td>0.0225</td>\n",
       "    </tr>\n",
       "    <tr>\n",
       "      <th>4</th>\n",
       "      <td>8600000US00606</td>\n",
       "      <td>00606</td>\n",
       "      <td>ZCTA5 00606</td>\n",
       "      <td>0.4844</td>\n",
       "      <td>0.0360</td>\n",
       "    </tr>\n",
       "  </tbody>\n",
       "</table>\n",
       "</div>"
      ],
      "text/plain": [
       "           GEO.id   code GEO.display-label             HD01_VD01  \\\n",
       "0              Id    Id2         Geography  Estimate; Gini Index   \n",
       "1  8600000US00601  00601       ZCTA5 00601                0.6001   \n",
       "2  8600000US00602  00602       ZCTA5 00602                0.5136   \n",
       "3  8600000US00603  00603       ZCTA5 00603                0.5498   \n",
       "4  8600000US00606  00606       ZCTA5 00606                0.4844   \n",
       "\n",
       "                     HD02_VD01  \n",
       "0  Margin of Error; Gini Index  \n",
       "1                       0.0310  \n",
       "2                       0.0361  \n",
       "3                       0.0225  \n",
       "4                       0.0360  "
      ]
     },
     "execution_count": 48,
     "metadata": {},
     "output_type": "execute_result"
    }
   ],
   "source": [
    "gini.head()"
   ]
  },
  {
   "cell_type": "code",
   "execution_count": 49,
   "metadata": {
    "collapsed": false
   },
   "outputs": [
    {
     "data": {
      "text/html": [
       "<div>\n",
       "<table border=\"1\" class=\"dataframe\">\n",
       "  <thead>\n",
       "    <tr style=\"text-align: right;\">\n",
       "      <th></th>\n",
       "      <th>code</th>\n",
       "      <th>target</th>\n",
       "      <th>Place Name</th>\n",
       "      <th>State</th>\n",
       "      <th>State Abbreviation</th>\n",
       "      <th>County</th>\n",
       "      <th>Latitude</th>\n",
       "      <th>Longitude</th>\n",
       "      <th>zip_codes</th>\n",
       "      <th>GEO.id</th>\n",
       "      <th>GEO.display-label</th>\n",
       "      <th>HD01_VD01</th>\n",
       "      <th>HD02_VD01</th>\n",
       "    </tr>\n",
       "  </thead>\n",
       "  <tbody>\n",
       "    <tr>\n",
       "      <th>0</th>\n",
       "      <td>89117</td>\n",
       "      <td>1</td>\n",
       "      <td>Las Vegas</td>\n",
       "      <td>Nevada</td>\n",
       "      <td>NV</td>\n",
       "      <td>Clark</td>\n",
       "      <td>36.1302</td>\n",
       "      <td>-115.2755</td>\n",
       "      <td>89117</td>\n",
       "      <td>8600000US89117</td>\n",
       "      <td>ZCTA5 89117</td>\n",
       "      <td>0.4546</td>\n",
       "      <td>0.0213</td>\n",
       "    </tr>\n",
       "    <tr>\n",
       "      <th>1</th>\n",
       "      <td>93701</td>\n",
       "      <td>1</td>\n",
       "      <td>Fresno</td>\n",
       "      <td>California</td>\n",
       "      <td>CA</td>\n",
       "      <td>Fresno</td>\n",
       "      <td>36.7487</td>\n",
       "      <td>-119.7867</td>\n",
       "      <td>93701</td>\n",
       "      <td>8600000US93701</td>\n",
       "      <td>ZCTA5 93701</td>\n",
       "      <td>0.4636</td>\n",
       "      <td>0.0379</td>\n",
       "    </tr>\n",
       "    <tr>\n",
       "      <th>2</th>\n",
       "      <td>82301</td>\n",
       "      <td>1</td>\n",
       "      <td>Rawlins</td>\n",
       "      <td>Wyoming</td>\n",
       "      <td>WY</td>\n",
       "      <td>Carbon</td>\n",
       "      <td>41.7951</td>\n",
       "      <td>-107.2349</td>\n",
       "      <td>82301</td>\n",
       "      <td>8600000US82301</td>\n",
       "      <td>ZCTA5 82301</td>\n",
       "      <td>0.3744</td>\n",
       "      <td>0.0259</td>\n",
       "    </tr>\n",
       "    <tr>\n",
       "      <th>3</th>\n",
       "      <td>95322</td>\n",
       "      <td>1</td>\n",
       "      <td>Gustine</td>\n",
       "      <td>California</td>\n",
       "      <td>CA</td>\n",
       "      <td>Merced</td>\n",
       "      <td>37.2001</td>\n",
       "      <td>-121.0047</td>\n",
       "      <td>95322</td>\n",
       "      <td>8600000US95322</td>\n",
       "      <td>ZCTA5 95322</td>\n",
       "      <td>0.4844</td>\n",
       "      <td>0.0550</td>\n",
       "    </tr>\n",
       "    <tr>\n",
       "      <th>4</th>\n",
       "      <td>91770</td>\n",
       "      <td>1</td>\n",
       "      <td>Rosemead</td>\n",
       "      <td>California</td>\n",
       "      <td>CA</td>\n",
       "      <td>Los Angeles</td>\n",
       "      <td>34.0658</td>\n",
       "      <td>-118.0853</td>\n",
       "      <td>91770</td>\n",
       "      <td>8600000US91770</td>\n",
       "      <td>ZCTA5 91770</td>\n",
       "      <td>0.4339</td>\n",
       "      <td>0.0120</td>\n",
       "    </tr>\n",
       "  </tbody>\n",
       "</table>\n",
       "</div>"
      ],
      "text/plain": [
       "    code  target Place Name       State State Abbreviation       County  \\\n",
       "0  89117       1  Las Vegas      Nevada                 NV        Clark   \n",
       "1  93701       1     Fresno  California                 CA       Fresno   \n",
       "2  82301       1    Rawlins     Wyoming                 WY       Carbon   \n",
       "3  95322       1    Gustine  California                 CA       Merced   \n",
       "4  91770       1   Rosemead  California                 CA  Los Angeles   \n",
       "\n",
       "  Latitude  Longitude zip_codes          GEO.id GEO.display-label HD01_VD01  \\\n",
       "0  36.1302  -115.2755     89117  8600000US89117       ZCTA5 89117    0.4546   \n",
       "1  36.7487  -119.7867     93701  8600000US93701       ZCTA5 93701    0.4636   \n",
       "2  41.7951  -107.2349     82301  8600000US82301       ZCTA5 82301    0.3744   \n",
       "3  37.2001  -121.0047     95322  8600000US95322       ZCTA5 95322    0.4844   \n",
       "4  34.0658  -118.0853     91770  8600000US91770       ZCTA5 91770    0.4339   \n",
       "\n",
       "  HD02_VD01  \n",
       "0    0.0213  \n",
       "1    0.0379  \n",
       "2    0.0259  \n",
       "3    0.0550  \n",
       "4    0.0120  "
      ]
     },
     "execution_count": 49,
     "metadata": {},
     "output_type": "execute_result"
    }
   ],
   "source": [
    "pd.merge(df, gini, on=\"code\").head()"
   ]
  },
  {
   "cell_type": "code",
   "execution_count": 50,
   "metadata": {
    "collapsed": false
   },
   "outputs": [
    {
     "data": {
      "text/plain": [
       "(33121, 23)"
      ]
     },
     "execution_count": 50,
     "metadata": {},
     "output_type": "execute_result"
    }
   ],
   "source": [
    "race_populations.shape"
   ]
  },
  {
   "cell_type": "code",
   "execution_count": 51,
   "metadata": {
    "collapsed": false
   },
   "outputs": [
    {
     "data": {
      "text/html": [
       "<div>\n",
       "<table border=\"1\" class=\"dataframe\">\n",
       "  <thead>\n",
       "    <tr style=\"text-align: right;\">\n",
       "      <th></th>\n",
       "      <th>GEO.id</th>\n",
       "      <th>GEO.id2</th>\n",
       "      <th>GEO.display-label</th>\n",
       "      <th>HD01_VD01</th>\n",
       "      <th>HD02_VD01</th>\n",
       "      <th>HD01_VD02</th>\n",
       "      <th>HD02_VD02</th>\n",
       "      <th>HD01_VD03</th>\n",
       "      <th>HD02_VD03</th>\n",
       "      <th>HD01_VD04</th>\n",
       "      <th>...</th>\n",
       "      <th>HD01_VD06</th>\n",
       "      <th>HD02_VD06</th>\n",
       "      <th>HD01_VD07</th>\n",
       "      <th>HD02_VD07</th>\n",
       "      <th>HD01_VD08</th>\n",
       "      <th>HD02_VD08</th>\n",
       "      <th>HD01_VD09</th>\n",
       "      <th>HD02_VD09</th>\n",
       "      <th>HD01_VD10</th>\n",
       "      <th>HD02_VD10</th>\n",
       "    </tr>\n",
       "  </thead>\n",
       "  <tbody>\n",
       "    <tr>\n",
       "      <th>0</th>\n",
       "      <td>Id</td>\n",
       "      <td>Id2</td>\n",
       "      <td>Geography</td>\n",
       "      <td>Estimate; Total:</td>\n",
       "      <td>Margin of Error; Total:</td>\n",
       "      <td>Estimate; Total: - White alone</td>\n",
       "      <td>Margin of Error; Total: - White alone</td>\n",
       "      <td>Estimate; Total: - Black or African American a...</td>\n",
       "      <td>Margin of Error; Total: - Black or African Ame...</td>\n",
       "      <td>Estimate; Total: - American Indian and Alaska ...</td>\n",
       "      <td>...</td>\n",
       "      <td>Estimate; Total: - Native Hawaiian and Other P...</td>\n",
       "      <td>Margin of Error; Total: - Native Hawaiian and ...</td>\n",
       "      <td>Estimate; Total: - Some other race alone</td>\n",
       "      <td>Margin of Error; Total: - Some other race alone</td>\n",
       "      <td>Estimate; Total: - Two or more races:</td>\n",
       "      <td>Margin of Error; Total: - Two or more races:</td>\n",
       "      <td>Estimate; Total: - Two or more races: - Two ra...</td>\n",
       "      <td>Margin of Error; Total: - Two or more races: -...</td>\n",
       "      <td>Estimate; Total: - Two or more races: - Two ra...</td>\n",
       "      <td>Margin of Error; Total: - Two or more races: -...</td>\n",
       "    </tr>\n",
       "    <tr>\n",
       "      <th>1</th>\n",
       "      <td>8600000US00601</td>\n",
       "      <td>00601</td>\n",
       "      <td>ZCTA5 00601</td>\n",
       "      <td>18088</td>\n",
       "      <td>295</td>\n",
       "      <td>17408</td>\n",
       "      <td>374</td>\n",
       "      <td>175</td>\n",
       "      <td>105</td>\n",
       "      <td>5</td>\n",
       "      <td>...</td>\n",
       "      <td>0</td>\n",
       "      <td>20</td>\n",
       "      <td>431</td>\n",
       "      <td>248</td>\n",
       "      <td>69</td>\n",
       "      <td>53</td>\n",
       "      <td>24</td>\n",
       "      <td>22</td>\n",
       "      <td>45</td>\n",
       "      <td>43</td>\n",
       "    </tr>\n",
       "  </tbody>\n",
       "</table>\n",
       "<p>2 rows × 23 columns</p>\n",
       "</div>"
      ],
      "text/plain": [
       "           GEO.id GEO.id2 GEO.display-label         HD01_VD01  \\\n",
       "0              Id     Id2         Geography  Estimate; Total:   \n",
       "1  8600000US00601   00601       ZCTA5 00601             18088   \n",
       "\n",
       "                 HD02_VD01                       HD01_VD02  \\\n",
       "0  Margin of Error; Total:  Estimate; Total: - White alone   \n",
       "1                      295                           17408   \n",
       "\n",
       "                               HD02_VD02  \\\n",
       "0  Margin of Error; Total: - White alone   \n",
       "1                                    374   \n",
       "\n",
       "                                           HD01_VD03  \\\n",
       "0  Estimate; Total: - Black or African American a...   \n",
       "1                                                175   \n",
       "\n",
       "                                           HD02_VD03  \\\n",
       "0  Margin of Error; Total: - Black or African Ame...   \n",
       "1                                                105   \n",
       "\n",
       "                                           HD01_VD04  \\\n",
       "0  Estimate; Total: - American Indian and Alaska ...   \n",
       "1                                                  5   \n",
       "\n",
       "                         ...                          \\\n",
       "0                        ...                           \n",
       "1                        ...                           \n",
       "\n",
       "                                           HD01_VD06  \\\n",
       "0  Estimate; Total: - Native Hawaiian and Other P...   \n",
       "1                                                  0   \n",
       "\n",
       "                                           HD02_VD06  \\\n",
       "0  Margin of Error; Total: - Native Hawaiian and ...   \n",
       "1                                                 20   \n",
       "\n",
       "                                  HD01_VD07  \\\n",
       "0  Estimate; Total: - Some other race alone   \n",
       "1                                       431   \n",
       "\n",
       "                                         HD02_VD07  \\\n",
       "0  Margin of Error; Total: - Some other race alone   \n",
       "1                                              248   \n",
       "\n",
       "                               HD01_VD08  \\\n",
       "0  Estimate; Total: - Two or more races:   \n",
       "1                                     69   \n",
       "\n",
       "                                      HD02_VD08  \\\n",
       "0  Margin of Error; Total: - Two or more races:   \n",
       "1                                            53   \n",
       "\n",
       "                                           HD01_VD09  \\\n",
       "0  Estimate; Total: - Two or more races: - Two ra...   \n",
       "1                                                 24   \n",
       "\n",
       "                                           HD02_VD09  \\\n",
       "0  Margin of Error; Total: - Two or more races: -...   \n",
       "1                                                 22   \n",
       "\n",
       "                                           HD01_VD10  \\\n",
       "0  Estimate; Total: - Two or more races: - Two ra...   \n",
       "1                                                 45   \n",
       "\n",
       "                                           HD02_VD10  \n",
       "0  Margin of Error; Total: - Two or more races: -...  \n",
       "1                                                 43  \n",
       "\n",
       "[2 rows x 23 columns]"
      ]
     },
     "execution_count": 51,
     "metadata": {},
     "output_type": "execute_result"
    }
   ],
   "source": [
    "race_populations.iloc[0:2,:]"
   ]
  },
  {
   "cell_type": "code",
   "execution_count": 52,
   "metadata": {
    "collapsed": false
   },
   "outputs": [],
   "source": [
    "race_pop_new_columns = dict(zip(race_populations.columns, race_populations.iloc[0,:]))"
   ]
  },
  {
   "cell_type": "code",
   "execution_count": 53,
   "metadata": {
    "collapsed": true
   },
   "outputs": [],
   "source": [
    "race_populations.rename(columns=race_pop_new_columns, inplace=True)"
   ]
  },
  {
   "cell_type": "code",
   "execution_count": 54,
   "metadata": {
    "collapsed": false
   },
   "outputs": [],
   "source": [
    "race_populations.drop(0, inplace=True)"
   ]
  },
  {
   "cell_type": "code",
   "execution_count": 55,
   "metadata": {
    "collapsed": false
   },
   "outputs": [],
   "source": [
    "race = race_populations.copy()"
   ]
  },
  {
   "cell_type": "code",
   "execution_count": 243,
   "metadata": {
    "collapsed": false
   },
   "outputs": [],
   "source": [
    "# race.head(2)"
   ]
  },
  {
   "cell_type": "code",
   "execution_count": 56,
   "metadata": {
    "collapsed": false
   },
   "outputs": [],
   "source": [
    "# race.columns"
   ]
  },
  {
   "cell_type": "code",
   "execution_count": 57,
   "metadata": {
    "collapsed": false
   },
   "outputs": [],
   "source": [
    "race[\"white_share\"] = race[\"Estimate; Total: - White alone\"].astype(float)/race[\"Estimate; Total:\"].astype(float)"
   ]
  },
  {
   "cell_type": "code",
   "execution_count": 58,
   "metadata": {
    "collapsed": false
   },
   "outputs": [],
   "source": [
    "race[\"black_share\"] = race['Estimate; Total: - Black or African American alone'].astype(float)/race[\"Estimate; Total:\"].astype(float)"
   ]
  },
  {
   "cell_type": "code",
   "execution_count": 61,
   "metadata": {
    "collapsed": false
   },
   "outputs": [
    {
     "data": {
      "text/html": [
       "<div>\n",
       "<table border=\"1\" class=\"dataframe\">\n",
       "  <thead>\n",
       "    <tr style=\"text-align: right;\">\n",
       "      <th></th>\n",
       "      <th>Id</th>\n",
       "      <th>Id2</th>\n",
       "      <th>Geography</th>\n",
       "      <th>Estimate; Total:</th>\n",
       "      <th>Margin of Error; Total:</th>\n",
       "      <th>Estimate; Total: - White alone</th>\n",
       "      <th>Margin of Error; Total: - White alone</th>\n",
       "      <th>Estimate; Total: - Black or African American alone</th>\n",
       "      <th>Margin of Error; Total: - Black or African American alone</th>\n",
       "      <th>Estimate; Total: - American Indian and Alaska Native alone</th>\n",
       "      <th>...</th>\n",
       "      <th>Estimate; Total: - Some other race alone</th>\n",
       "      <th>Margin of Error; Total: - Some other race alone</th>\n",
       "      <th>Estimate; Total: - Two or more races:</th>\n",
       "      <th>Margin of Error; Total: - Two or more races:</th>\n",
       "      <th>Estimate; Total: - Two or more races: - Two races including Some other race</th>\n",
       "      <th>Margin of Error; Total: - Two or more races: - Two races including Some other race</th>\n",
       "      <th>Estimate; Total: - Two or more races: - Two races excluding Some other race, and three or more races</th>\n",
       "      <th>Margin of Error; Total: - Two or more races: - Two races excluding Some other race, and three or more races</th>\n",
       "      <th>white_share</th>\n",
       "      <th>black_share</th>\n",
       "    </tr>\n",
       "  </thead>\n",
       "  <tbody>\n",
       "    <tr>\n",
       "      <th>1</th>\n",
       "      <td>8600000US00601</td>\n",
       "      <td>00601</td>\n",
       "      <td>ZCTA5 00601</td>\n",
       "      <td>18088</td>\n",
       "      <td>295</td>\n",
       "      <td>17408</td>\n",
       "      <td>374</td>\n",
       "      <td>175</td>\n",
       "      <td>105</td>\n",
       "      <td>5</td>\n",
       "      <td>...</td>\n",
       "      <td>431</td>\n",
       "      <td>248</td>\n",
       "      <td>69</td>\n",
       "      <td>53</td>\n",
       "      <td>24</td>\n",
       "      <td>22</td>\n",
       "      <td>45</td>\n",
       "      <td>43</td>\n",
       "      <td>0.962406</td>\n",
       "      <td>0.009675</td>\n",
       "    </tr>\n",
       "    <tr>\n",
       "      <th>2</th>\n",
       "      <td>8600000US00602</td>\n",
       "      <td>00602</td>\n",
       "      <td>ZCTA5 00602</td>\n",
       "      <td>40859</td>\n",
       "      <td>154</td>\n",
       "      <td>23919</td>\n",
       "      <td>1316</td>\n",
       "      <td>1097</td>\n",
       "      <td>365</td>\n",
       "      <td>27</td>\n",
       "      <td>...</td>\n",
       "      <td>1520</td>\n",
       "      <td>543</td>\n",
       "      <td>14221</td>\n",
       "      <td>1345</td>\n",
       "      <td>148</td>\n",
       "      <td>124</td>\n",
       "      <td>14073</td>\n",
       "      <td>1334</td>\n",
       "      <td>0.585403</td>\n",
       "      <td>0.026848</td>\n",
       "    </tr>\n",
       "    <tr>\n",
       "      <th>3</th>\n",
       "      <td>8600000US00603</td>\n",
       "      <td>00603</td>\n",
       "      <td>ZCTA5 00603</td>\n",
       "      <td>53162</td>\n",
       "      <td>657</td>\n",
       "      <td>38809</td>\n",
       "      <td>1406</td>\n",
       "      <td>1913</td>\n",
       "      <td>430</td>\n",
       "      <td>75</td>\n",
       "      <td>...</td>\n",
       "      <td>3567</td>\n",
       "      <td>759</td>\n",
       "      <td>8169</td>\n",
       "      <td>1065</td>\n",
       "      <td>275</td>\n",
       "      <td>218</td>\n",
       "      <td>7894</td>\n",
       "      <td>1024</td>\n",
       "      <td>0.730014</td>\n",
       "      <td>0.035984</td>\n",
       "    </tr>\n",
       "    <tr>\n",
       "      <th>4</th>\n",
       "      <td>8600000US00606</td>\n",
       "      <td>00606</td>\n",
       "      <td>ZCTA5 00606</td>\n",
       "      <td>6415</td>\n",
       "      <td>264</td>\n",
       "      <td>5621</td>\n",
       "      <td>347</td>\n",
       "      <td>154</td>\n",
       "      <td>109</td>\n",
       "      <td>0</td>\n",
       "      <td>...</td>\n",
       "      <td>519</td>\n",
       "      <td>249</td>\n",
       "      <td>121</td>\n",
       "      <td>125</td>\n",
       "      <td>36</td>\n",
       "      <td>57</td>\n",
       "      <td>85</td>\n",
       "      <td>114</td>\n",
       "      <td>0.876228</td>\n",
       "      <td>0.024006</td>\n",
       "    </tr>\n",
       "    <tr>\n",
       "      <th>5</th>\n",
       "      <td>8600000US00610</td>\n",
       "      <td>00610</td>\n",
       "      <td>ZCTA5 00610</td>\n",
       "      <td>28805</td>\n",
       "      <td>163</td>\n",
       "      <td>19336</td>\n",
       "      <td>1130</td>\n",
       "      <td>1002</td>\n",
       "      <td>468</td>\n",
       "      <td>0</td>\n",
       "      <td>...</td>\n",
       "      <td>5568</td>\n",
       "      <td>836</td>\n",
       "      <td>2873</td>\n",
       "      <td>643</td>\n",
       "      <td>87</td>\n",
       "      <td>63</td>\n",
       "      <td>2786</td>\n",
       "      <td>654</td>\n",
       "      <td>0.671272</td>\n",
       "      <td>0.034786</td>\n",
       "    </tr>\n",
       "  </tbody>\n",
       "</table>\n",
       "<p>5 rows × 25 columns</p>\n",
       "</div>"
      ],
      "text/plain": [
       "               Id    Id2    Geography Estimate; Total:  \\\n",
       "1  8600000US00601  00601  ZCTA5 00601            18088   \n",
       "2  8600000US00602  00602  ZCTA5 00602            40859   \n",
       "3  8600000US00603  00603  ZCTA5 00603            53162   \n",
       "4  8600000US00606  00606  ZCTA5 00606             6415   \n",
       "5  8600000US00610  00610  ZCTA5 00610            28805   \n",
       "\n",
       "  Margin of Error; Total: Estimate; Total: - White alone  \\\n",
       "1                     295                          17408   \n",
       "2                     154                          23919   \n",
       "3                     657                          38809   \n",
       "4                     264                           5621   \n",
       "5                     163                          19336   \n",
       "\n",
       "  Margin of Error; Total: - White alone  \\\n",
       "1                                   374   \n",
       "2                                  1316   \n",
       "3                                  1406   \n",
       "4                                   347   \n",
       "5                                  1130   \n",
       "\n",
       "  Estimate; Total: - Black or African American alone  \\\n",
       "1                                                175   \n",
       "2                                               1097   \n",
       "3                                               1913   \n",
       "4                                                154   \n",
       "5                                               1002   \n",
       "\n",
       "  Margin of Error; Total: - Black or African American alone  \\\n",
       "1                                                105          \n",
       "2                                                365          \n",
       "3                                                430          \n",
       "4                                                109          \n",
       "5                                                468          \n",
       "\n",
       "  Estimate; Total: - American Indian and Alaska Native alone     ...      \\\n",
       "1                                                  5             ...       \n",
       "2                                                 27             ...       \n",
       "3                                                 75             ...       \n",
       "4                                                  0             ...       \n",
       "5                                                  0             ...       \n",
       "\n",
       "  Estimate; Total: - Some other race alone  \\\n",
       "1                                      431   \n",
       "2                                     1520   \n",
       "3                                     3567   \n",
       "4                                      519   \n",
       "5                                     5568   \n",
       "\n",
       "  Margin of Error; Total: - Some other race alone  \\\n",
       "1                                             248   \n",
       "2                                             543   \n",
       "3                                             759   \n",
       "4                                             249   \n",
       "5                                             836   \n",
       "\n",
       "  Estimate; Total: - Two or more races:  \\\n",
       "1                                    69   \n",
       "2                                 14221   \n",
       "3                                  8169   \n",
       "4                                   121   \n",
       "5                                  2873   \n",
       "\n",
       "  Margin of Error; Total: - Two or more races:  \\\n",
       "1                                           53   \n",
       "2                                         1345   \n",
       "3                                         1065   \n",
       "4                                          125   \n",
       "5                                          643   \n",
       "\n",
       "  Estimate; Total: - Two or more races: - Two races including Some other race  \\\n",
       "1                                                 24                            \n",
       "2                                                148                            \n",
       "3                                                275                            \n",
       "4                                                 36                            \n",
       "5                                                 87                            \n",
       "\n",
       "  Margin of Error; Total: - Two or more races: - Two races including Some other race  \\\n",
       "1                                                 22                                   \n",
       "2                                                124                                   \n",
       "3                                                218                                   \n",
       "4                                                 57                                   \n",
       "5                                                 63                                   \n",
       "\n",
       "  Estimate; Total: - Two or more races: - Two races excluding Some other race, and three or more races  \\\n",
       "1                                                 45                                                     \n",
       "2                                              14073                                                     \n",
       "3                                               7894                                                     \n",
       "4                                                 85                                                     \n",
       "5                                               2786                                                     \n",
       "\n",
       "  Margin of Error; Total: - Two or more races: - Two races excluding Some other race, and three or more races  \\\n",
       "1                                                 43                                                            \n",
       "2                                               1334                                                            \n",
       "3                                               1024                                                            \n",
       "4                                                114                                                            \n",
       "5                                                654                                                            \n",
       "\n",
       "  white_share black_share  \n",
       "1    0.962406    0.009675  \n",
       "2    0.585403    0.026848  \n",
       "3    0.730014    0.035984  \n",
       "4    0.876228    0.024006  \n",
       "5    0.671272    0.034786  \n",
       "\n",
       "[5 rows x 25 columns]"
      ]
     },
     "execution_count": 61,
     "metadata": {},
     "output_type": "execute_result"
    }
   ],
   "source": [
    "race.head()"
   ]
  },
  {
   "cell_type": "code",
   "execution_count": 63,
   "metadata": {
    "collapsed": false
   },
   "outputs": [],
   "source": [
    "race_df = race[[\"code\",\"Estimate; Total:\", \"white_share\", \"black_share\"]]"
   ]
  },
  {
   "cell_type": "code",
   "execution_count": 62,
   "metadata": {
    "collapsed": false
   },
   "outputs": [],
   "source": [
    "race[\"code\"] = race[\"Id2\"]"
   ]
  },
  {
   "cell_type": "code",
   "execution_count": 64,
   "metadata": {
    "collapsed": false
   },
   "outputs": [
    {
     "data": {
      "text/html": [
       "<div>\n",
       "<table border=\"1\" class=\"dataframe\">\n",
       "  <thead>\n",
       "    <tr style=\"text-align: right;\">\n",
       "      <th></th>\n",
       "      <th>code</th>\n",
       "      <th>Estimate; Total:</th>\n",
       "      <th>white_share</th>\n",
       "      <th>black_share</th>\n",
       "    </tr>\n",
       "  </thead>\n",
       "  <tbody>\n",
       "    <tr>\n",
       "      <th>1</th>\n",
       "      <td>00601</td>\n",
       "      <td>18088</td>\n",
       "      <td>0.962406</td>\n",
       "      <td>0.009675</td>\n",
       "    </tr>\n",
       "    <tr>\n",
       "      <th>2</th>\n",
       "      <td>00602</td>\n",
       "      <td>40859</td>\n",
       "      <td>0.585403</td>\n",
       "      <td>0.026848</td>\n",
       "    </tr>\n",
       "    <tr>\n",
       "      <th>3</th>\n",
       "      <td>00603</td>\n",
       "      <td>53162</td>\n",
       "      <td>0.730014</td>\n",
       "      <td>0.035984</td>\n",
       "    </tr>\n",
       "    <tr>\n",
       "      <th>4</th>\n",
       "      <td>00606</td>\n",
       "      <td>6415</td>\n",
       "      <td>0.876228</td>\n",
       "      <td>0.024006</td>\n",
       "    </tr>\n",
       "    <tr>\n",
       "      <th>5</th>\n",
       "      <td>00610</td>\n",
       "      <td>28805</td>\n",
       "      <td>0.671272</td>\n",
       "      <td>0.034786</td>\n",
       "    </tr>\n",
       "  </tbody>\n",
       "</table>\n",
       "</div>"
      ],
      "text/plain": [
       "    code Estimate; Total:  white_share  black_share\n",
       "1  00601            18088     0.962406     0.009675\n",
       "2  00602            40859     0.585403     0.026848\n",
       "3  00603            53162     0.730014     0.035984\n",
       "4  00606             6415     0.876228     0.024006\n",
       "5  00610            28805     0.671272     0.034786"
      ]
     },
     "execution_count": 64,
     "metadata": {},
     "output_type": "execute_result"
    }
   ],
   "source": [
    "race_df.head()"
   ]
  },
  {
   "cell_type": "code",
   "execution_count": 65,
   "metadata": {
    "collapsed": true
   },
   "outputs": [],
   "source": [
    "gini_new_columns = dict(zip(gini.columns, gini.iloc[0,:]))\n",
    "gini.rename(columns=gini_new_columns, inplace=True)"
   ]
  },
  {
   "cell_type": "code",
   "execution_count": 66,
   "metadata": {
    "collapsed": false
   },
   "outputs": [
    {
     "data": {
      "text/html": [
       "<div>\n",
       "<table border=\"1\" class=\"dataframe\">\n",
       "  <thead>\n",
       "    <tr style=\"text-align: right;\">\n",
       "      <th></th>\n",
       "      <th>Id</th>\n",
       "      <th>code</th>\n",
       "      <th>Geography</th>\n",
       "      <th>Estimate; Gini Index</th>\n",
       "      <th>Margin of Error; Gini Index</th>\n",
       "    </tr>\n",
       "  </thead>\n",
       "  <tbody>\n",
       "    <tr>\n",
       "      <th>1</th>\n",
       "      <td>8600000US00601</td>\n",
       "      <td>00601</td>\n",
       "      <td>ZCTA5 00601</td>\n",
       "      <td>0.6001</td>\n",
       "      <td>0.0310</td>\n",
       "    </tr>\n",
       "    <tr>\n",
       "      <th>2</th>\n",
       "      <td>8600000US00602</td>\n",
       "      <td>00602</td>\n",
       "      <td>ZCTA5 00602</td>\n",
       "      <td>0.5136</td>\n",
       "      <td>0.0361</td>\n",
       "    </tr>\n",
       "    <tr>\n",
       "      <th>3</th>\n",
       "      <td>8600000US00603</td>\n",
       "      <td>00603</td>\n",
       "      <td>ZCTA5 00603</td>\n",
       "      <td>0.5498</td>\n",
       "      <td>0.0225</td>\n",
       "    </tr>\n",
       "    <tr>\n",
       "      <th>4</th>\n",
       "      <td>8600000US00606</td>\n",
       "      <td>00606</td>\n",
       "      <td>ZCTA5 00606</td>\n",
       "      <td>0.4844</td>\n",
       "      <td>0.0360</td>\n",
       "    </tr>\n",
       "    <tr>\n",
       "      <th>5</th>\n",
       "      <td>8600000US00610</td>\n",
       "      <td>00610</td>\n",
       "      <td>ZCTA5 00610</td>\n",
       "      <td>0.4530</td>\n",
       "      <td>0.0207</td>\n",
       "    </tr>\n",
       "  </tbody>\n",
       "</table>\n",
       "</div>"
      ],
      "text/plain": [
       "               Id   code    Geography Estimate; Gini Index  \\\n",
       "1  8600000US00601  00601  ZCTA5 00601               0.6001   \n",
       "2  8600000US00602  00602  ZCTA5 00602               0.5136   \n",
       "3  8600000US00603  00603  ZCTA5 00603               0.5498   \n",
       "4  8600000US00606  00606  ZCTA5 00606               0.4844   \n",
       "5  8600000US00610  00610  ZCTA5 00610               0.4530   \n",
       "\n",
       "  Margin of Error; Gini Index  \n",
       "1                      0.0310  \n",
       "2                      0.0361  \n",
       "3                      0.0225  \n",
       "4                      0.0360  \n",
       "5                      0.0207  "
      ]
     },
     "execution_count": 66,
     "metadata": {},
     "output_type": "execute_result"
    }
   ],
   "source": [
    "gini.drop(0, inplace=True)\n",
    "gini.rename(columns={\"Id2\":\"code\"}, inplace=True)\n",
    "gini.head()"
   ]
  },
  {
   "cell_type": "code",
   "execution_count": 67,
   "metadata": {
    "collapsed": true
   },
   "outputs": [],
   "source": [
    "del gini[\"Id\"]\n",
    "del gini[\"Geography\"]\n",
    "del gini[\"Margin of Error; Gini Index\"]"
   ]
  },
  {
   "cell_type": "code",
   "execution_count": 68,
   "metadata": {
    "collapsed": false
   },
   "outputs": [
    {
     "data": {
      "text/plain": [
       "(33120, 4)"
      ]
     },
     "execution_count": 68,
     "metadata": {},
     "output_type": "execute_result"
    }
   ],
   "source": [
    "race_df.shape"
   ]
  },
  {
   "cell_type": "code",
   "execution_count": 69,
   "metadata": {
    "collapsed": false
   },
   "outputs": [
    {
     "data": {
      "text/plain": [
       "(33120, 2)"
      ]
     },
     "execution_count": 69,
     "metadata": {},
     "output_type": "execute_result"
    }
   ],
   "source": [
    "gini.shape"
   ]
  },
  {
   "cell_type": "code",
   "execution_count": 70,
   "metadata": {
    "collapsed": false
   },
   "outputs": [],
   "source": [
    "table = pd.merge(gini, race_df, on=\"code\")"
   ]
  },
  {
   "cell_type": "code",
   "execution_count": 71,
   "metadata": {
    "collapsed": true
   },
   "outputs": [],
   "source": [
    "from pprint import pprint"
   ]
  },
  {
   "cell_type": "code",
   "execution_count": 72,
   "metadata": {
    "collapsed": false
   },
   "outputs": [],
   "source": [
    "education_new_columns = dict(zip(education.columns, education.iloc[0,:]))\n"
   ]
  },
  {
   "cell_type": "code",
   "execution_count": 73,
   "metadata": {
    "collapsed": false
   },
   "outputs": [],
   "source": [
    "education.rename(columns=education_new_columns, inplace=True)\n"
   ]
  },
  {
   "cell_type": "code",
   "execution_count": 74,
   "metadata": {
    "collapsed": true
   },
   "outputs": [],
   "source": [
    "education.drop(0, inplace=True)"
   ]
  },
  {
   "cell_type": "code",
   "execution_count": 75,
   "metadata": {
    "collapsed": false
   },
   "outputs": [],
   "source": [
    "edu = education[[1,]]"
   ]
  },
  {
   "cell_type": "code",
   "execution_count": 76,
   "metadata": {
    "collapsed": false
   },
   "outputs": [],
   "source": [
    "a = education[\"Estimate; Total: - Doctorate degree\"].astype(float) + education[\"Estimate; Total: - Professional school degree\"].astype(float) + education[\"Estimate; Total: - Master's degree\"].astype(float)\n"
   ]
  },
  {
   "cell_type": "code",
   "execution_count": 77,
   "metadata": {
    "collapsed": true
   },
   "outputs": [],
   "source": [
    "b = a + education[\"Estimate; Total: - Bachelor's degree\"].astype(float) + education[\"Estimate; Total: - Associate's degree\"].astype(float) + education[\"Estimate; Total: - Some college, 1 or more years, no degree\"].astype(float)"
   ]
  },
  {
   "cell_type": "code",
   "execution_count": 87,
   "metadata": {
    "collapsed": true
   },
   "outputs": [],
   "source": [
    "c = b + education[\"Estimate; Total: - Some college, less than 1 year\"].astype(float) + education[\"Estimate; Total: - GED or alternative credential\"].astype(float) + education[\"Estimate; Total: - Regular high school diploma\"].astype(float)"
   ]
  },
  {
   "cell_type": "code",
   "execution_count": 94,
   "metadata": {
    "collapsed": false
   },
   "outputs": [],
   "source": [
    "c = c.astype(float)"
   ]
  },
  {
   "cell_type": "code",
   "execution_count": 95,
   "metadata": {
    "collapsed": false
   },
   "outputs": [],
   "source": [
    "d = education[\"Estimate; Total:\"].astype(float).copy()\n"
   ]
  },
  {
   "cell_type": "code",
   "execution_count": null,
   "metadata": {
    "collapsed": false
   },
   "outputs": [],
   "source": []
  },
  {
   "cell_type": "code",
   "execution_count": 102,
   "metadata": {
    "collapsed": false
   },
   "outputs": [
    {
     "name": "stderr",
     "output_type": "stream",
     "text": [
      "/Users/georgemcintire/anaconda/lib/python2.7/site-packages/ipykernel/__main__.py:1: SettingWithCopyWarning: \n",
      "A value is trying to be set on a copy of a slice from a DataFrame.\n",
      "Try using .loc[row_indexer,col_indexer] = value instead\n",
      "\n",
      "See the caveats in the documentation: http://pandas.pydata.org/pandas-docs/stable/indexing.html#indexing-view-versus-copy\n",
      "  if __name__ == '__main__':\n"
     ]
    }
   ],
   "source": [
    "edu[\"no_hs_degree\"] = d - c.copy()"
   ]
  },
  {
   "cell_type": "code",
   "execution_count": 103,
   "metadata": {
    "collapsed": false
   },
   "outputs": [
    {
     "name": "stderr",
     "output_type": "stream",
     "text": [
      "/Users/georgemcintire/anaconda/lib/python2.7/site-packages/ipykernel/__main__.py:1: SettingWithCopyWarning: \n",
      "A value is trying to be set on a copy of a slice from a DataFrame.\n",
      "Try using .loc[row_indexer,col_indexer] = value instead\n",
      "\n",
      "See the caveats in the documentation: http://pandas.pydata.org/pandas-docs/stable/indexing.html#indexing-view-versus-copy\n",
      "  if __name__ == '__main__':\n"
     ]
    }
   ],
   "source": [
    "edu[\"code\"] = education.Id2"
   ]
  },
  {
   "cell_type": "code",
   "execution_count": 104,
   "metadata": {
    "collapsed": false
   },
   "outputs": [],
   "source": [
    "edu = edu.copy()"
   ]
  },
  {
   "cell_type": "code",
   "execution_count": 105,
   "metadata": {
    "collapsed": false
   },
   "outputs": [
    {
     "data": {
      "text/html": [
       "<div>\n",
       "<table border=\"1\" class=\"dataframe\">\n",
       "  <thead>\n",
       "    <tr style=\"text-align: right;\">\n",
       "      <th></th>\n",
       "      <th>Id2</th>\n",
       "      <th>no_hs_degree</th>\n",
       "      <th>code</th>\n",
       "    </tr>\n",
       "  </thead>\n",
       "  <tbody>\n",
       "    <tr>\n",
       "      <th>1</th>\n",
       "      <td>00601</td>\n",
       "      <td>4848</td>\n",
       "      <td>00601</td>\n",
       "    </tr>\n",
       "    <tr>\n",
       "      <th>2</th>\n",
       "      <td>00602</td>\n",
       "      <td>10406</td>\n",
       "      <td>00602</td>\n",
       "    </tr>\n",
       "    <tr>\n",
       "      <th>3</th>\n",
       "      <td>00603</td>\n",
       "      <td>11712</td>\n",
       "      <td>00603</td>\n",
       "    </tr>\n",
       "    <tr>\n",
       "      <th>4</th>\n",
       "      <td>00606</td>\n",
       "      <td>1869</td>\n",
       "      <td>00606</td>\n",
       "    </tr>\n",
       "    <tr>\n",
       "      <th>5</th>\n",
       "      <td>00610</td>\n",
       "      <td>6857</td>\n",
       "      <td>00610</td>\n",
       "    </tr>\n",
       "  </tbody>\n",
       "</table>\n",
       "</div>"
      ],
      "text/plain": [
       "     Id2  no_hs_degree   code\n",
       "1  00601          4848  00601\n",
       "2  00602         10406  00602\n",
       "3  00603         11712  00603\n",
       "4  00606          1869  00606\n",
       "5  00610          6857  00610"
      ]
     },
     "execution_count": 105,
     "metadata": {},
     "output_type": "execute_result"
    }
   ],
   "source": [
    "edu.head()"
   ]
  },
  {
   "cell_type": "code",
   "execution_count": 106,
   "metadata": {
    "collapsed": true
   },
   "outputs": [],
   "source": [
    "del edu[\"Id2\"]"
   ]
  },
  {
   "cell_type": "code",
   "execution_count": 107,
   "metadata": {
    "collapsed": false
   },
   "outputs": [
    {
     "data": {
      "text/html": [
       "<div>\n",
       "<table border=\"1\" class=\"dataframe\">\n",
       "  <thead>\n",
       "    <tr style=\"text-align: right;\">\n",
       "      <th></th>\n",
       "      <th>no_hs_degree</th>\n",
       "      <th>code</th>\n",
       "    </tr>\n",
       "  </thead>\n",
       "  <tbody>\n",
       "    <tr>\n",
       "      <th>1</th>\n",
       "      <td>4848</td>\n",
       "      <td>00601</td>\n",
       "    </tr>\n",
       "    <tr>\n",
       "      <th>2</th>\n",
       "      <td>10406</td>\n",
       "      <td>00602</td>\n",
       "    </tr>\n",
       "    <tr>\n",
       "      <th>3</th>\n",
       "      <td>11712</td>\n",
       "      <td>00603</td>\n",
       "    </tr>\n",
       "    <tr>\n",
       "      <th>4</th>\n",
       "      <td>1869</td>\n",
       "      <td>00606</td>\n",
       "    </tr>\n",
       "    <tr>\n",
       "      <th>5</th>\n",
       "      <td>6857</td>\n",
       "      <td>00610</td>\n",
       "    </tr>\n",
       "  </tbody>\n",
       "</table>\n",
       "</div>"
      ],
      "text/plain": [
       "   no_hs_degree   code\n",
       "1          4848  00601\n",
       "2         10406  00602\n",
       "3         11712  00603\n",
       "4          1869  00606\n",
       "5          6857  00610"
      ]
     },
     "execution_count": 107,
     "metadata": {},
     "output_type": "execute_result"
    }
   ],
   "source": [
    "edu.head()"
   ]
  },
  {
   "cell_type": "code",
   "execution_count": 109,
   "metadata": {
    "collapsed": false
   },
   "outputs": [],
   "source": [
    "edu = edu[[1,0]]"
   ]
  },
  {
   "cell_type": "code",
   "execution_count": 110,
   "metadata": {
    "collapsed": false
   },
   "outputs": [
    {
     "data": {
      "text/plain": [
       "(33120, 5)"
      ]
     },
     "execution_count": 110,
     "metadata": {},
     "output_type": "execute_result"
    }
   ],
   "source": [
    "table.shape"
   ]
  },
  {
   "cell_type": "code",
   "execution_count": 111,
   "metadata": {
    "collapsed": false
   },
   "outputs": [],
   "source": [
    "table = pd.merge(table, edu, on=\"code\")"
   ]
  },
  {
   "cell_type": "code",
   "execution_count": 112,
   "metadata": {
    "collapsed": false
   },
   "outputs": [],
   "source": [
    "test = table.copy()"
   ]
  },
  {
   "cell_type": "code",
   "execution_count": 113,
   "metadata": {
    "collapsed": true
   },
   "outputs": [],
   "source": [
    "del df[\"Latitude\"], df[\"Longitude\"]"
   ]
  },
  {
   "cell_type": "code",
   "execution_count": 114,
   "metadata": {
    "collapsed": false
   },
   "outputs": [],
   "source": [
    "#success!\n",
    "w = pd.merge(df, test, on=\"code\")"
   ]
  },
  {
   "cell_type": "code",
   "execution_count": 115,
   "metadata": {
    "collapsed": false
   },
   "outputs": [
    {
     "data": {
      "text/html": [
       "<div>\n",
       "<table border=\"1\" class=\"dataframe\">\n",
       "  <thead>\n",
       "    <tr style=\"text-align: right;\">\n",
       "      <th></th>\n",
       "      <th>code</th>\n",
       "      <th>Estimate; Gini Index</th>\n",
       "      <th>Estimate; Total:</th>\n",
       "      <th>white_share</th>\n",
       "      <th>black_share</th>\n",
       "      <th>no_hs_degree</th>\n",
       "    </tr>\n",
       "  </thead>\n",
       "  <tbody>\n",
       "    <tr>\n",
       "      <th>0</th>\n",
       "      <td>00601</td>\n",
       "      <td>0.6001</td>\n",
       "      <td>18088</td>\n",
       "      <td>0.962406</td>\n",
       "      <td>0.009675</td>\n",
       "      <td>4848</td>\n",
       "    </tr>\n",
       "    <tr>\n",
       "      <th>1</th>\n",
       "      <td>00602</td>\n",
       "      <td>0.5136</td>\n",
       "      <td>40859</td>\n",
       "      <td>0.585403</td>\n",
       "      <td>0.026848</td>\n",
       "      <td>10406</td>\n",
       "    </tr>\n",
       "    <tr>\n",
       "      <th>2</th>\n",
       "      <td>00603</td>\n",
       "      <td>0.5498</td>\n",
       "      <td>53162</td>\n",
       "      <td>0.730014</td>\n",
       "      <td>0.035984</td>\n",
       "      <td>11712</td>\n",
       "    </tr>\n",
       "    <tr>\n",
       "      <th>3</th>\n",
       "      <td>00606</td>\n",
       "      <td>0.4844</td>\n",
       "      <td>6415</td>\n",
       "      <td>0.876228</td>\n",
       "      <td>0.024006</td>\n",
       "      <td>1869</td>\n",
       "    </tr>\n",
       "    <tr>\n",
       "      <th>4</th>\n",
       "      <td>00610</td>\n",
       "      <td>0.4530</td>\n",
       "      <td>28805</td>\n",
       "      <td>0.671272</td>\n",
       "      <td>0.034786</td>\n",
       "      <td>6857</td>\n",
       "    </tr>\n",
       "  </tbody>\n",
       "</table>\n",
       "</div>"
      ],
      "text/plain": [
       "    code Estimate; Gini Index Estimate; Total:  white_share  black_share  \\\n",
       "0  00601               0.6001            18088     0.962406     0.009675   \n",
       "1  00602               0.5136            40859     0.585403     0.026848   \n",
       "2  00603               0.5498            53162     0.730014     0.035984   \n",
       "3  00606               0.4844             6415     0.876228     0.024006   \n",
       "4  00610               0.4530            28805     0.671272     0.034786   \n",
       "\n",
       "   no_hs_degree  \n",
       "0          4848  \n",
       "1         10406  \n",
       "2         11712  \n",
       "3          1869  \n",
       "4          6857  "
      ]
     },
     "execution_count": 115,
     "metadata": {},
     "output_type": "execute_result"
    }
   ],
   "source": [
    "test.head()"
   ]
  },
  {
   "cell_type": "code",
   "execution_count": 116,
   "metadata": {
    "collapsed": false
   },
   "outputs": [
    {
     "data": {
      "text/plain": [
       "0.08760390974696264"
      ]
     },
     "execution_count": 116,
     "metadata": {},
     "output_type": "execute_result"
    }
   ],
   "source": [
    "w.target.mean()"
   ]
  },
  {
   "cell_type": "code",
   "execution_count": 117,
   "metadata": {
    "collapsed": false
   },
   "outputs": [],
   "source": [
    "\"\"\"Load in the census data on poverty\"\"\"\n",
    "poverty = pd.read_csv(\"/Users/georgemcintire/Downloads/aff_download (1)/ACS_14_5YR_S1701_with_ann.csv\", dtype=\"object\")"
   ]
  },
  {
   "cell_type": "code",
   "execution_count": 118,
   "metadata": {
    "collapsed": false
   },
   "outputs": [
    {
     "data": {
      "text/plain": [
       "(33121, 279)"
      ]
     },
     "execution_count": 118,
     "metadata": {},
     "output_type": "execute_result"
    }
   ],
   "source": [
    "poverty.shape"
   ]
  },
  {
   "cell_type": "code",
   "execution_count": 119,
   "metadata": {
    "collapsed": true
   },
   "outputs": [],
   "source": [
    "poverty_new_columns = dict(zip(poverty.columns, poverty.iloc[0,:]))"
   ]
  },
  {
   "cell_type": "code",
   "execution_count": 120,
   "metadata": {
    "collapsed": true
   },
   "outputs": [],
   "source": [
    "poverty.rename(columns=poverty_new_columns, inplace=True)"
   ]
  },
  {
   "cell_type": "code",
   "execution_count": 121,
   "metadata": {
    "collapsed": true
   },
   "outputs": [],
   "source": [
    "poverty.drop(0, inplace=True)"
   ]
  },
  {
   "cell_type": "code",
   "execution_count": 122,
   "metadata": {
    "collapsed": false
   },
   "outputs": [],
   "source": [
    "poverty.rename(columns={\"Id2\":\"code\"}, inplace=True)"
   ]
  },
  {
   "cell_type": "code",
   "execution_count": 126,
   "metadata": {
    "collapsed": false
   },
   "outputs": [],
   "source": [
    "zz = []\n",
    "for i in poverty[\"Percent below poverty level; Estimate; Population for whom poverty status is determined\"]:\n",
    "    try:\n",
    "        zz.append(float(i))\n",
    "    except:\n",
    "        pass"
   ]
  },
  {
   "cell_type": "code",
   "execution_count": 127,
   "metadata": {
    "collapsed": false
   },
   "outputs": [
    {
     "data": {
      "text/plain": [
       "15.520227544542918"
      ]
     },
     "execution_count": 127,
     "metadata": {},
     "output_type": "execute_result"
    }
   ],
   "source": [
    "np.mean(zz)"
   ]
  },
  {
   "cell_type": "code",
   "execution_count": 128,
   "metadata": {
    "collapsed": true
   },
   "outputs": [],
   "source": [
    "def fix(x):\n",
    "    if x == \"-\":\n",
    "        return str(np.mean(zz))\n",
    "    else:\n",
    "        return x"
   ]
  },
  {
   "cell_type": "code",
   "execution_count": 129,
   "metadata": {
    "collapsed": false
   },
   "outputs": [],
   "source": [
    "poverty[\"poverty_rate\"] = poverty[\"Percent below poverty level; Estimate; Population for whom poverty status is determined\"].apply(fix)"
   ]
  },
  {
   "cell_type": "code",
   "execution_count": 130,
   "metadata": {
    "collapsed": true
   },
   "outputs": [],
   "source": [
    "poverty[\"poverty_rate\"] = poverty[\"poverty_rate\"].astype(float)"
   ]
  },
  {
   "cell_type": "code",
   "execution_count": 131,
   "metadata": {
    "collapsed": false
   },
   "outputs": [],
   "source": [
    "poverty[\"pov_rate_150\"] = poverty[\"Total; Estimate; All Individuals below: - 150 percent of poverty level\"].astype(float)"
   ]
  },
  {
   "cell_type": "code",
   "execution_count": 132,
   "metadata": {
    "collapsed": false
   },
   "outputs": [],
   "source": [
    "poverty[\"pov_rate_150\"] = poverty[\"pov_rate_150\"]/poverty[\"Total; Estimate; Population for whom poverty status is determined\"].astype(float)"
   ]
  },
  {
   "cell_type": "code",
   "execution_count": 133,
   "metadata": {
    "collapsed": false
   },
   "outputs": [],
   "source": [
    "poverty[\"edu_attainment\"] = poverty[\"Total; Estimate; EDUCATIONAL ATTAINMENT - Population 25 years and over\"].astype(float)"
   ]
  },
  {
   "cell_type": "code",
   "execution_count": 135,
   "metadata": {
    "collapsed": false
   },
   "outputs": [
    {
     "data": {
      "text/html": [
       "<div>\n",
       "<table border=\"1\" class=\"dataframe\">\n",
       "  <thead>\n",
       "    <tr style=\"text-align: right;\">\n",
       "      <th></th>\n",
       "      <th>Id</th>\n",
       "      <th>code</th>\n",
       "      <th>Geography</th>\n",
       "      <th>Total; Estimate; Population for whom poverty status is determined</th>\n",
       "      <th>Total; Margin of Error; Population for whom poverty status is determined</th>\n",
       "      <th>Below poverty level; Estimate; Population for whom poverty status is determined</th>\n",
       "      <th>Below poverty level; Margin of Error; Population for whom poverty status is determined</th>\n",
       "      <th>Percent below poverty level; Estimate; Population for whom poverty status is determined</th>\n",
       "      <th>Percent below poverty level; Margin of Error; Population for whom poverty status is determined</th>\n",
       "      <th>Total; Estimate; AGE - Under 18 years</th>\n",
       "      <th>...</th>\n",
       "      <th>Percent below poverty level; Margin of Error; Did not work</th>\n",
       "      <th>Total; Estimate; PERCENT IMPUTED - Poverty status for individuals</th>\n",
       "      <th>Total; Margin of Error; PERCENT IMPUTED - Poverty status for individuals</th>\n",
       "      <th>Below poverty level; Estimate; PERCENT IMPUTED - Poverty status for individuals</th>\n",
       "      <th>Below poverty level; Margin of Error; PERCENT IMPUTED - Poverty status for individuals</th>\n",
       "      <th>Percent below poverty level; Estimate; PERCENT IMPUTED - Poverty status for individuals</th>\n",
       "      <th>Percent below poverty level; Margin of Error; PERCENT IMPUTED - Poverty status for individuals</th>\n",
       "      <th>poverty_rate</th>\n",
       "      <th>pov_rate_150</th>\n",
       "      <th>edu_attainment</th>\n",
       "    </tr>\n",
       "  </thead>\n",
       "  <tbody>\n",
       "    <tr>\n",
       "      <th>1</th>\n",
       "      <td>8600000US00601</td>\n",
       "      <td>00601</td>\n",
       "      <td>ZCTA5 00601</td>\n",
       "      <td>17914</td>\n",
       "      <td>289</td>\n",
       "      <td>10911</td>\n",
       "      <td>675</td>\n",
       "      <td>60.9</td>\n",
       "      <td>3.7</td>\n",
       "      <td>4227</td>\n",
       "      <td>...</td>\n",
       "      <td>4.4</td>\n",
       "      <td>33.6</td>\n",
       "      <td>(X)</td>\n",
       "      <td>(X)</td>\n",
       "      <td>(X)</td>\n",
       "      <td>(X)</td>\n",
       "      <td>(X)</td>\n",
       "      <td>60.9</td>\n",
       "      <td>0.742045</td>\n",
       "      <td>11857</td>\n",
       "    </tr>\n",
       "    <tr>\n",
       "      <th>2</th>\n",
       "      <td>8600000US00602</td>\n",
       "      <td>00602</td>\n",
       "      <td>ZCTA5 00602</td>\n",
       "      <td>40807</td>\n",
       "      <td>164</td>\n",
       "      <td>21724</td>\n",
       "      <td>1144</td>\n",
       "      <td>53.2</td>\n",
       "      <td>2.8</td>\n",
       "      <td>9000</td>\n",
       "      <td>...</td>\n",
       "      <td>5.7</td>\n",
       "      <td>12.3</td>\n",
       "      <td>(X)</td>\n",
       "      <td>(X)</td>\n",
       "      <td>(X)</td>\n",
       "      <td>(X)</td>\n",
       "      <td>(X)</td>\n",
       "      <td>53.2</td>\n",
       "      <td>0.679663</td>\n",
       "      <td>27644</td>\n",
       "    </tr>\n",
       "    <tr>\n",
       "      <th>3</th>\n",
       "      <td>8600000US00603</td>\n",
       "      <td>00603</td>\n",
       "      <td>ZCTA5 00603</td>\n",
       "      <td>51761</td>\n",
       "      <td>671</td>\n",
       "      <td>26027</td>\n",
       "      <td>1494</td>\n",
       "      <td>50.3</td>\n",
       "      <td>2.8</td>\n",
       "      <td>11785</td>\n",
       "      <td>...</td>\n",
       "      <td>3.6</td>\n",
       "      <td>13.1</td>\n",
       "      <td>(X)</td>\n",
       "      <td>(X)</td>\n",
       "      <td>(X)</td>\n",
       "      <td>(X)</td>\n",
       "      <td>(X)</td>\n",
       "      <td>50.3</td>\n",
       "      <td>0.648152</td>\n",
       "      <td>35069</td>\n",
       "    </tr>\n",
       "    <tr>\n",
       "      <th>4</th>\n",
       "      <td>8600000US00606</td>\n",
       "      <td>00606</td>\n",
       "      <td>ZCTA5 00606</td>\n",
       "      <td>6415</td>\n",
       "      <td>264</td>\n",
       "      <td>3778</td>\n",
       "      <td>400</td>\n",
       "      <td>58.9</td>\n",
       "      <td>6.0</td>\n",
       "      <td>1511</td>\n",
       "      <td>...</td>\n",
       "      <td>11.1</td>\n",
       "      <td>7.2</td>\n",
       "      <td>(X)</td>\n",
       "      <td>(X)</td>\n",
       "      <td>(X)</td>\n",
       "      <td>(X)</td>\n",
       "      <td>(X)</td>\n",
       "      <td>58.9</td>\n",
       "      <td>0.788620</td>\n",
       "      <td>4270</td>\n",
       "    </tr>\n",
       "    <tr>\n",
       "      <th>5</th>\n",
       "      <td>8600000US00610</td>\n",
       "      <td>00610</td>\n",
       "      <td>ZCTA5 00610</td>\n",
       "      <td>28727</td>\n",
       "      <td>165</td>\n",
       "      <td>14149</td>\n",
       "      <td>1137</td>\n",
       "      <td>49.3</td>\n",
       "      <td>4.0</td>\n",
       "      <td>6461</td>\n",
       "      <td>...</td>\n",
       "      <td>5.9</td>\n",
       "      <td>11.7</td>\n",
       "      <td>(X)</td>\n",
       "      <td>(X)</td>\n",
       "      <td>(X)</td>\n",
       "      <td>(X)</td>\n",
       "      <td>(X)</td>\n",
       "      <td>49.3</td>\n",
       "      <td>0.698715</td>\n",
       "      <td>19395</td>\n",
       "    </tr>\n",
       "  </tbody>\n",
       "</table>\n",
       "<p>5 rows × 282 columns</p>\n",
       "</div>"
      ],
      "text/plain": [
       "               Id   code    Geography  \\\n",
       "1  8600000US00601  00601  ZCTA5 00601   \n",
       "2  8600000US00602  00602  ZCTA5 00602   \n",
       "3  8600000US00603  00603  ZCTA5 00603   \n",
       "4  8600000US00606  00606  ZCTA5 00606   \n",
       "5  8600000US00610  00610  ZCTA5 00610   \n",
       "\n",
       "  Total; Estimate; Population for whom poverty status is determined  \\\n",
       "1                                              17914                  \n",
       "2                                              40807                  \n",
       "3                                              51761                  \n",
       "4                                               6415                  \n",
       "5                                              28727                  \n",
       "\n",
       "  Total; Margin of Error; Population for whom poverty status is determined  \\\n",
       "1                                                289                         \n",
       "2                                                164                         \n",
       "3                                                671                         \n",
       "4                                                264                         \n",
       "5                                                165                         \n",
       "\n",
       "  Below poverty level; Estimate; Population for whom poverty status is determined  \\\n",
       "1                                              10911                                \n",
       "2                                              21724                                \n",
       "3                                              26027                                \n",
       "4                                               3778                                \n",
       "5                                              14149                                \n",
       "\n",
       "  Below poverty level; Margin of Error; Population for whom poverty status is determined  \\\n",
       "1                                                675                                       \n",
       "2                                               1144                                       \n",
       "3                                               1494                                       \n",
       "4                                                400                                       \n",
       "5                                               1137                                       \n",
       "\n",
       "  Percent below poverty level; Estimate; Population for whom poverty status is determined  \\\n",
       "1                                               60.9                                        \n",
       "2                                               53.2                                        \n",
       "3                                               50.3                                        \n",
       "4                                               58.9                                        \n",
       "5                                               49.3                                        \n",
       "\n",
       "  Percent below poverty level; Margin of Error; Population for whom poverty status is determined  \\\n",
       "1                                                3.7                                               \n",
       "2                                                2.8                                               \n",
       "3                                                2.8                                               \n",
       "4                                                6.0                                               \n",
       "5                                                4.0                                               \n",
       "\n",
       "  Total; Estimate; AGE - Under 18 years      ...        \\\n",
       "1                                  4227      ...         \n",
       "2                                  9000      ...         \n",
       "3                                 11785      ...         \n",
       "4                                  1511      ...         \n",
       "5                                  6461      ...         \n",
       "\n",
       "  Percent below poverty level; Margin of Error; Did not work  \\\n",
       "1                                                4.4           \n",
       "2                                                5.7           \n",
       "3                                                3.6           \n",
       "4                                               11.1           \n",
       "5                                                5.9           \n",
       "\n",
       "  Total; Estimate; PERCENT IMPUTED - Poverty status for individuals  \\\n",
       "1                                               33.6                  \n",
       "2                                               12.3                  \n",
       "3                                               13.1                  \n",
       "4                                                7.2                  \n",
       "5                                               11.7                  \n",
       "\n",
       "  Total; Margin of Error; PERCENT IMPUTED - Poverty status for individuals  \\\n",
       "1                                                (X)                         \n",
       "2                                                (X)                         \n",
       "3                                                (X)                         \n",
       "4                                                (X)                         \n",
       "5                                                (X)                         \n",
       "\n",
       "  Below poverty level; Estimate; PERCENT IMPUTED - Poverty status for individuals  \\\n",
       "1                                                (X)                                \n",
       "2                                                (X)                                \n",
       "3                                                (X)                                \n",
       "4                                                (X)                                \n",
       "5                                                (X)                                \n",
       "\n",
       "  Below poverty level; Margin of Error; PERCENT IMPUTED - Poverty status for individuals  \\\n",
       "1                                                (X)                                       \n",
       "2                                                (X)                                       \n",
       "3                                                (X)                                       \n",
       "4                                                (X)                                       \n",
       "5                                                (X)                                       \n",
       "\n",
       "  Percent below poverty level; Estimate; PERCENT IMPUTED - Poverty status for individuals  \\\n",
       "1                                                (X)                                        \n",
       "2                                                (X)                                        \n",
       "3                                                (X)                                        \n",
       "4                                                (X)                                        \n",
       "5                                                (X)                                        \n",
       "\n",
       "  Percent below poverty level; Margin of Error; PERCENT IMPUTED - Poverty status for individuals  \\\n",
       "1                                                (X)                                               \n",
       "2                                                (X)                                               \n",
       "3                                                (X)                                               \n",
       "4                                                (X)                                               \n",
       "5                                                (X)                                               \n",
       "\n",
       "  poverty_rate pov_rate_150 edu_attainment  \n",
       "1         60.9     0.742045          11857  \n",
       "2         53.2     0.679663          27644  \n",
       "3         50.3     0.648152          35069  \n",
       "4         58.9     0.788620           4270  \n",
       "5         49.3     0.698715          19395  \n",
       "\n",
       "[5 rows x 282 columns]"
      ]
     },
     "execution_count": 135,
     "metadata": {},
     "output_type": "execute_result"
    }
   ],
   "source": [
    "poverty.head()"
   ]
  },
  {
   "cell_type": "code",
   "execution_count": 136,
   "metadata": {
    "collapsed": true
   },
   "outputs": [],
   "source": [
    "pov = poverty[[\"code\",\"poverty_rate\",\"pov_rate_150\",\"edu_attainment\"]].copy()"
   ]
  },
  {
   "cell_type": "code",
   "execution_count": 137,
   "metadata": {
    "collapsed": false
   },
   "outputs": [],
   "source": [
    "table = pd.merge(test, pov, on=\"code\")"
   ]
  },
  {
   "cell_type": "code",
   "execution_count": 138,
   "metadata": {
    "collapsed": false
   },
   "outputs": [],
   "source": [
    "income = pd.read_csv(\"/Users/georgemcintire/Downloads/aff_download (1)/ACS_14_5YR_S1902_with_ann.csv\", dtype=\"object\")"
   ]
  },
  {
   "cell_type": "code",
   "execution_count": 139,
   "metadata": {
    "collapsed": false
   },
   "outputs": [],
   "source": [
    "income_new_columns = dict(zip(income.columns, income.iloc[0,:]))"
   ]
  },
  {
   "cell_type": "code",
   "execution_count": 140,
   "metadata": {
    "collapsed": false
   },
   "outputs": [],
   "source": [
    "income.rename(columns=income_new_columns, inplace=True)\n",
    "income.rename(columns={\"Id2\":\"code\"}, inplace=True)"
   ]
  },
  {
   "cell_type": "code",
   "execution_count": 141,
   "metadata": {
    "collapsed": true
   },
   "outputs": [],
   "source": [
    "income.drop(0, inplace=True)"
   ]
  },
  {
   "cell_type": "code",
   "execution_count": 142,
   "metadata": {
    "collapsed": false
   },
   "outputs": [
    {
     "data": {
      "text/html": [
       "<div>\n",
       "<table border=\"1\" class=\"dataframe\">\n",
       "  <thead>\n",
       "    <tr style=\"text-align: right;\">\n",
       "      <th></th>\n",
       "      <th>Id</th>\n",
       "      <th>code</th>\n",
       "      <th>Geography</th>\n",
       "      <th>Total; Estimate; All households</th>\n",
       "      <th>Total; Margin of Error; All households</th>\n",
       "      <th>Mean income (dollars); Estimate; All households</th>\n",
       "      <th>Mean income (dollars); Margin of Error; All households</th>\n",
       "      <th>Total; Estimate; All households - With earnings</th>\n",
       "      <th>Total; Margin of Error; All households - With earnings</th>\n",
       "      <th>Mean income (dollars); Estimate; All households - With earnings</th>\n",
       "      <th>...</th>\n",
       "      <th>Mean income (dollars); Estimate; PERCENT IMPUTED - Household income in the past 12 months</th>\n",
       "      <th>Mean income (dollars); Margin of Error; PERCENT IMPUTED - Household income in the past 12 months</th>\n",
       "      <th>Total; Estimate; PERCENT IMPUTED - Family income in the past 12 months</th>\n",
       "      <th>Total; Margin of Error; PERCENT IMPUTED - Family income in the past 12 months</th>\n",
       "      <th>Mean income (dollars); Estimate; PERCENT IMPUTED - Family income in the past 12 months</th>\n",
       "      <th>Mean income (dollars); Margin of Error; PERCENT IMPUTED - Family income in the past 12 months</th>\n",
       "      <th>Total; Estimate; PERCENT IMPUTED - Individual income in the past 12 months</th>\n",
       "      <th>Total; Margin of Error; PERCENT IMPUTED - Individual income in the past 12 months</th>\n",
       "      <th>Mean income (dollars); Estimate; PERCENT IMPUTED - Individual income in the past 12 months</th>\n",
       "      <th>Mean income (dollars); Margin of Error; PERCENT IMPUTED - Individual income in the past 12 months</th>\n",
       "    </tr>\n",
       "  </thead>\n",
       "  <tbody>\n",
       "    <tr>\n",
       "      <th>1</th>\n",
       "      <td>8600000US00601</td>\n",
       "      <td>00601</td>\n",
       "      <td>ZCTA5 00601</td>\n",
       "      <td>5820</td>\n",
       "      <td>223</td>\n",
       "      <td>20330</td>\n",
       "      <td>2085</td>\n",
       "      <td>48.4</td>\n",
       "      <td>3.8</td>\n",
       "      <td>30191</td>\n",
       "      <td>...</td>\n",
       "      <td>(X)</td>\n",
       "      <td>(X)</td>\n",
       "      <td>45.2</td>\n",
       "      <td>(X)</td>\n",
       "      <td>(X)</td>\n",
       "      <td>(X)</td>\n",
       "      <td>30.3</td>\n",
       "      <td>(X)</td>\n",
       "      <td>(X)</td>\n",
       "      <td>(X)</td>\n",
       "    </tr>\n",
       "    <tr>\n",
       "      <th>2</th>\n",
       "      <td>8600000US00602</td>\n",
       "      <td>00602</td>\n",
       "      <td>ZCTA5 00602</td>\n",
       "      <td>13046</td>\n",
       "      <td>404</td>\n",
       "      <td>24905</td>\n",
       "      <td>1930</td>\n",
       "      <td>55.3</td>\n",
       "      <td>2.7</td>\n",
       "      <td>28141</td>\n",
       "      <td>...</td>\n",
       "      <td>(X)</td>\n",
       "      <td>(X)</td>\n",
       "      <td>12.7</td>\n",
       "      <td>(X)</td>\n",
       "      <td>(X)</td>\n",
       "      <td>(X)</td>\n",
       "      <td>9.6</td>\n",
       "      <td>(X)</td>\n",
       "      <td>(X)</td>\n",
       "      <td>(X)</td>\n",
       "    </tr>\n",
       "  </tbody>\n",
       "</table>\n",
       "<p>2 rows × 111 columns</p>\n",
       "</div>"
      ],
      "text/plain": [
       "               Id   code    Geography Total; Estimate; All households  \\\n",
       "1  8600000US00601  00601  ZCTA5 00601                            5820   \n",
       "2  8600000US00602  00602  ZCTA5 00602                           13046   \n",
       "\n",
       "  Total; Margin of Error; All households  \\\n",
       "1                                    223   \n",
       "2                                    404   \n",
       "\n",
       "  Mean income (dollars); Estimate; All households  \\\n",
       "1                                           20330   \n",
       "2                                           24905   \n",
       "\n",
       "  Mean income (dollars); Margin of Error; All households  \\\n",
       "1                                               2085       \n",
       "2                                               1930       \n",
       "\n",
       "  Total; Estimate; All households - With earnings  \\\n",
       "1                                            48.4   \n",
       "2                                            55.3   \n",
       "\n",
       "  Total; Margin of Error; All households - With earnings  \\\n",
       "1                                                3.8       \n",
       "2                                                2.7       \n",
       "\n",
       "  Mean income (dollars); Estimate; All households - With earnings  \\\n",
       "1                                              30191                \n",
       "2                                              28141                \n",
       "\n",
       "                                                 ...                                                 \\\n",
       "1                                                ...                                                  \n",
       "2                                                ...                                                  \n",
       "\n",
       "  Mean income (dollars); Estimate; PERCENT IMPUTED - Household income in the past 12 months  \\\n",
       "1                                                (X)                                          \n",
       "2                                                (X)                                          \n",
       "\n",
       "  Mean income (dollars); Margin of Error; PERCENT IMPUTED - Household income in the past 12 months  \\\n",
       "1                                                (X)                                                 \n",
       "2                                                (X)                                                 \n",
       "\n",
       "  Total; Estimate; PERCENT IMPUTED - Family income in the past 12 months  \\\n",
       "1                                               45.2                       \n",
       "2                                               12.7                       \n",
       "\n",
       "  Total; Margin of Error; PERCENT IMPUTED - Family income in the past 12 months  \\\n",
       "1                                                (X)                              \n",
       "2                                                (X)                              \n",
       "\n",
       "  Mean income (dollars); Estimate; PERCENT IMPUTED - Family income in the past 12 months  \\\n",
       "1                                                (X)                                       \n",
       "2                                                (X)                                       \n",
       "\n",
       "  Mean income (dollars); Margin of Error; PERCENT IMPUTED - Family income in the past 12 months  \\\n",
       "1                                                (X)                                              \n",
       "2                                                (X)                                              \n",
       "\n",
       "  Total; Estimate; PERCENT IMPUTED - Individual income in the past 12 months  \\\n",
       "1                                               30.3                           \n",
       "2                                                9.6                           \n",
       "\n",
       "  Total; Margin of Error; PERCENT IMPUTED - Individual income in the past 12 months  \\\n",
       "1                                                (X)                                  \n",
       "2                                                (X)                                  \n",
       "\n",
       "  Mean income (dollars); Estimate; PERCENT IMPUTED - Individual income in the past 12 months  \\\n",
       "1                                                (X)                                           \n",
       "2                                                (X)                                           \n",
       "\n",
       "  Mean income (dollars); Margin of Error; PERCENT IMPUTED - Individual income in the past 12 months  \n",
       "1                                                (X)                                                 \n",
       "2                                                (X)                                                 \n",
       "\n",
       "[2 rows x 111 columns]"
      ]
     },
     "execution_count": 142,
     "metadata": {},
     "output_type": "execute_result"
    }
   ],
   "source": [
    "income.head(2)"
   ]
  },
  {
   "cell_type": "code",
   "execution_count": 382,
   "metadata": {
    "collapsed": false
   },
   "outputs": [],
   "source": [
    "# income[\"mean_income\"] = income[\"Mean income (dollars); Estimate; All households\"].astype(float)"
   ]
  },
  {
   "cell_type": "code",
   "execution_count": 143,
   "metadata": {
    "collapsed": true
   },
   "outputs": [],
   "source": [
    "bb = []\n",
    "for i in income[\"Mean income (dollars); Estimate; All households\"]:\n",
    "    try:\n",
    "        bb.append(float(i))\n",
    "    except:\n",
    "        pass"
   ]
  },
  {
   "cell_type": "code",
   "execution_count": 147,
   "metadata": {
    "collapsed": true
   },
   "outputs": [],
   "source": [
    "def fix2(x):\n",
    "    if x == \"-\" or x == \"N\":\n",
    "        return str(np.mean(bb))\n",
    "    else:\n",
    "        return x"
   ]
  },
  {
   "cell_type": "code",
   "execution_count": 148,
   "metadata": {
    "collapsed": true
   },
   "outputs": [],
   "source": [
    "income[\"Mean income (dollars); Estimate; All households\"] = income[\"Mean income (dollars); Estimate; All households\"].apply(fix2)"
   ]
  },
  {
   "cell_type": "code",
   "execution_count": 149,
   "metadata": {
    "collapsed": false
   },
   "outputs": [],
   "source": [
    "income[\"mean_income\"] = income[\"Mean income (dollars); Estimate; All households\"].astype(float)"
   ]
  },
  {
   "cell_type": "code",
   "execution_count": 150,
   "metadata": {
    "collapsed": false
   },
   "outputs": [],
   "source": [
    "inc = income[[\"code\", \"mean_income\"]].copy()"
   ]
  },
  {
   "cell_type": "code",
   "execution_count": 151,
   "metadata": {
    "collapsed": false
   },
   "outputs": [],
   "source": [
    "table = pd.merge(table, inc, on=\"code\")"
   ]
  },
  {
   "cell_type": "code",
   "execution_count": 152,
   "metadata": {
    "collapsed": true
   },
   "outputs": [],
   "source": [
    "median_income = pd.read_csv(\"/Users/georgemcintire/Downloads/aff_download (1)/ACS_14_5YR_S1903_with_ann.csv\", dtype=\"object\")"
   ]
  },
  {
   "cell_type": "code",
   "execution_count": 153,
   "metadata": {
    "collapsed": false
   },
   "outputs": [
    {
     "data": {
      "text/html": [
       "<div>\n",
       "<table border=\"1\" class=\"dataframe\">\n",
       "  <thead>\n",
       "    <tr style=\"text-align: right;\">\n",
       "      <th></th>\n",
       "      <th>GEO.id</th>\n",
       "      <th>GEO.id2</th>\n",
       "      <th>GEO.display-label</th>\n",
       "      <th>HC01_EST_VC02</th>\n",
       "      <th>HC01_MOE_VC02</th>\n",
       "      <th>HC02_EST_VC02</th>\n",
       "      <th>HC02_MOE_VC02</th>\n",
       "      <th>HC01_EST_VC04</th>\n",
       "      <th>HC01_MOE_VC04</th>\n",
       "      <th>HC02_EST_VC04</th>\n",
       "      <th>...</th>\n",
       "      <th>HC02_EST_VC39</th>\n",
       "      <th>HC02_MOE_VC39</th>\n",
       "      <th>HC01_EST_VC40</th>\n",
       "      <th>HC01_MOE_VC40</th>\n",
       "      <th>HC02_EST_VC40</th>\n",
       "      <th>HC02_MOE_VC40</th>\n",
       "      <th>HC01_EST_VC41</th>\n",
       "      <th>HC01_MOE_VC41</th>\n",
       "      <th>HC02_EST_VC41</th>\n",
       "      <th>HC02_MOE_VC41</th>\n",
       "    </tr>\n",
       "  </thead>\n",
       "  <tbody>\n",
       "    <tr>\n",
       "      <th>0</th>\n",
       "      <td>Id</td>\n",
       "      <td>Id2</td>\n",
       "      <td>Geography</td>\n",
       "      <td>Total; Estimate; Households</td>\n",
       "      <td>Total; Margin of Error; Households</td>\n",
       "      <td>Median income (dollars); Estimate; Households</td>\n",
       "      <td>Median income (dollars); Margin of Error; Hous...</td>\n",
       "      <td>Total; Estimate; Households - One race-- - White</td>\n",
       "      <td>Total; Margin of Error; Households - One race-...</td>\n",
       "      <td>Median income (dollars); Estimate; Households ...</td>\n",
       "      <td>...</td>\n",
       "      <td>Median income (dollars); Estimate; PERCENT IMP...</td>\n",
       "      <td>Median income (dollars); Margin of Error; PERC...</td>\n",
       "      <td>Total; Estimate; PERCENT IMPUTED - Family inco...</td>\n",
       "      <td>Total; Margin of Error; PERCENT IMPUTED - Fami...</td>\n",
       "      <td>Median income (dollars); Estimate; PERCENT IMP...</td>\n",
       "      <td>Median income (dollars); Margin of Error; PERC...</td>\n",
       "      <td>Total; Estimate; PERCENT IMPUTED - Nonfamily i...</td>\n",
       "      <td>Total; Margin of Error; PERCENT IMPUTED - Nonf...</td>\n",
       "      <td>Median income (dollars); Estimate; PERCENT IMP...</td>\n",
       "      <td>Median income (dollars); Margin of Error; PERC...</td>\n",
       "    </tr>\n",
       "    <tr>\n",
       "      <th>1</th>\n",
       "      <td>8600000US00601</td>\n",
       "      <td>00601</td>\n",
       "      <td>ZCTA5 00601</td>\n",
       "      <td>5820</td>\n",
       "      <td>223</td>\n",
       "      <td>10833</td>\n",
       "      <td>1531</td>\n",
       "      <td>96.4</td>\n",
       "      <td>1.2</td>\n",
       "      <td>10848</td>\n",
       "      <td>...</td>\n",
       "      <td>(X)</td>\n",
       "      <td>(X)</td>\n",
       "      <td>45.2</td>\n",
       "      <td>(X)</td>\n",
       "      <td>(X)</td>\n",
       "      <td>(X)</td>\n",
       "      <td>33.1</td>\n",
       "      <td>(X)</td>\n",
       "      <td>(X)</td>\n",
       "      <td>(X)</td>\n",
       "    </tr>\n",
       "    <tr>\n",
       "      <th>2</th>\n",
       "      <td>8600000US00602</td>\n",
       "      <td>00602</td>\n",
       "      <td>ZCTA5 00602</td>\n",
       "      <td>13046</td>\n",
       "      <td>404</td>\n",
       "      <td>16353</td>\n",
       "      <td>977</td>\n",
       "      <td>58.4</td>\n",
       "      <td>2.8</td>\n",
       "      <td>15906</td>\n",
       "      <td>...</td>\n",
       "      <td>(X)</td>\n",
       "      <td>(X)</td>\n",
       "      <td>12.7</td>\n",
       "      <td>(X)</td>\n",
       "      <td>(X)</td>\n",
       "      <td>(X)</td>\n",
       "      <td>12.4</td>\n",
       "      <td>(X)</td>\n",
       "      <td>(X)</td>\n",
       "      <td>(X)</td>\n",
       "    </tr>\n",
       "    <tr>\n",
       "      <th>3</th>\n",
       "      <td>8600000US00603</td>\n",
       "      <td>00603</td>\n",
       "      <td>ZCTA5 00603</td>\n",
       "      <td>18020</td>\n",
       "      <td>490</td>\n",
       "      <td>16323</td>\n",
       "      <td>872</td>\n",
       "      <td>73.0</td>\n",
       "      <td>2.4</td>\n",
       "      <td>16006</td>\n",
       "      <td>...</td>\n",
       "      <td>(X)</td>\n",
       "      <td>(X)</td>\n",
       "      <td>19.6</td>\n",
       "      <td>(X)</td>\n",
       "      <td>(X)</td>\n",
       "      <td>(X)</td>\n",
       "      <td>13.9</td>\n",
       "      <td>(X)</td>\n",
       "      <td>(X)</td>\n",
       "      <td>(X)</td>\n",
       "    </tr>\n",
       "    <tr>\n",
       "      <th>4</th>\n",
       "      <td>8600000US00606</td>\n",
       "      <td>00606</td>\n",
       "      <td>ZCTA5 00606</td>\n",
       "      <td>1898</td>\n",
       "      <td>156</td>\n",
       "      <td>14138</td>\n",
       "      <td>2157</td>\n",
       "      <td>88.8</td>\n",
       "      <td>3.2</td>\n",
       "      <td>14773</td>\n",
       "      <td>...</td>\n",
       "      <td>(X)</td>\n",
       "      <td>(X)</td>\n",
       "      <td>14.3</td>\n",
       "      <td>(X)</td>\n",
       "      <td>(X)</td>\n",
       "      <td>(X)</td>\n",
       "      <td>10.4</td>\n",
       "      <td>(X)</td>\n",
       "      <td>(X)</td>\n",
       "      <td>(X)</td>\n",
       "    </tr>\n",
       "  </tbody>\n",
       "</table>\n",
       "<p>5 rows × 123 columns</p>\n",
       "</div>"
      ],
      "text/plain": [
       "           GEO.id GEO.id2 GEO.display-label                HC01_EST_VC02  \\\n",
       "0              Id     Id2         Geography  Total; Estimate; Households   \n",
       "1  8600000US00601   00601       ZCTA5 00601                         5820   \n",
       "2  8600000US00602   00602       ZCTA5 00602                        13046   \n",
       "3  8600000US00603   00603       ZCTA5 00603                        18020   \n",
       "4  8600000US00606   00606       ZCTA5 00606                         1898   \n",
       "\n",
       "                        HC01_MOE_VC02  \\\n",
       "0  Total; Margin of Error; Households   \n",
       "1                                 223   \n",
       "2                                 404   \n",
       "3                                 490   \n",
       "4                                 156   \n",
       "\n",
       "                                   HC02_EST_VC02  \\\n",
       "0  Median income (dollars); Estimate; Households   \n",
       "1                                          10833   \n",
       "2                                          16353   \n",
       "3                                          16323   \n",
       "4                                          14138   \n",
       "\n",
       "                                       HC02_MOE_VC02  \\\n",
       "0  Median income (dollars); Margin of Error; Hous...   \n",
       "1                                               1531   \n",
       "2                                                977   \n",
       "3                                                872   \n",
       "4                                               2157   \n",
       "\n",
       "                                      HC01_EST_VC04  \\\n",
       "0  Total; Estimate; Households - One race-- - White   \n",
       "1                                              96.4   \n",
       "2                                              58.4   \n",
       "3                                              73.0   \n",
       "4                                              88.8   \n",
       "\n",
       "                                       HC01_MOE_VC04  \\\n",
       "0  Total; Margin of Error; Households - One race-...   \n",
       "1                                                1.2   \n",
       "2                                                2.8   \n",
       "3                                                2.4   \n",
       "4                                                3.2   \n",
       "\n",
       "                                       HC02_EST_VC04  \\\n",
       "0  Median income (dollars); Estimate; Households ...   \n",
       "1                                              10848   \n",
       "2                                              15906   \n",
       "3                                              16006   \n",
       "4                                              14773   \n",
       "\n",
       "                         ...                          \\\n",
       "0                        ...                           \n",
       "1                        ...                           \n",
       "2                        ...                           \n",
       "3                        ...                           \n",
       "4                        ...                           \n",
       "\n",
       "                                       HC02_EST_VC39  \\\n",
       "0  Median income (dollars); Estimate; PERCENT IMP...   \n",
       "1                                                (X)   \n",
       "2                                                (X)   \n",
       "3                                                (X)   \n",
       "4                                                (X)   \n",
       "\n",
       "                                       HC02_MOE_VC39  \\\n",
       "0  Median income (dollars); Margin of Error; PERC...   \n",
       "1                                                (X)   \n",
       "2                                                (X)   \n",
       "3                                                (X)   \n",
       "4                                                (X)   \n",
       "\n",
       "                                       HC01_EST_VC40  \\\n",
       "0  Total; Estimate; PERCENT IMPUTED - Family inco...   \n",
       "1                                               45.2   \n",
       "2                                               12.7   \n",
       "3                                               19.6   \n",
       "4                                               14.3   \n",
       "\n",
       "                                       HC01_MOE_VC40  \\\n",
       "0  Total; Margin of Error; PERCENT IMPUTED - Fami...   \n",
       "1                                                (X)   \n",
       "2                                                (X)   \n",
       "3                                                (X)   \n",
       "4                                                (X)   \n",
       "\n",
       "                                       HC02_EST_VC40  \\\n",
       "0  Median income (dollars); Estimate; PERCENT IMP...   \n",
       "1                                                (X)   \n",
       "2                                                (X)   \n",
       "3                                                (X)   \n",
       "4                                                (X)   \n",
       "\n",
       "                                       HC02_MOE_VC40  \\\n",
       "0  Median income (dollars); Margin of Error; PERC...   \n",
       "1                                                (X)   \n",
       "2                                                (X)   \n",
       "3                                                (X)   \n",
       "4                                                (X)   \n",
       "\n",
       "                                       HC01_EST_VC41  \\\n",
       "0  Total; Estimate; PERCENT IMPUTED - Nonfamily i...   \n",
       "1                                               33.1   \n",
       "2                                               12.4   \n",
       "3                                               13.9   \n",
       "4                                               10.4   \n",
       "\n",
       "                                       HC01_MOE_VC41  \\\n",
       "0  Total; Margin of Error; PERCENT IMPUTED - Nonf...   \n",
       "1                                                (X)   \n",
       "2                                                (X)   \n",
       "3                                                (X)   \n",
       "4                                                (X)   \n",
       "\n",
       "                                       HC02_EST_VC41  \\\n",
       "0  Median income (dollars); Estimate; PERCENT IMP...   \n",
       "1                                                (X)   \n",
       "2                                                (X)   \n",
       "3                                                (X)   \n",
       "4                                                (X)   \n",
       "\n",
       "                                       HC02_MOE_VC41  \n",
       "0  Median income (dollars); Margin of Error; PERC...  \n",
       "1                                                (X)  \n",
       "2                                                (X)  \n",
       "3                                                (X)  \n",
       "4                                                (X)  \n",
       "\n",
       "[5 rows x 123 columns]"
      ]
     },
     "execution_count": 153,
     "metadata": {},
     "output_type": "execute_result"
    }
   ],
   "source": [
    "median_income.head()"
   ]
  },
  {
   "cell_type": "code",
   "execution_count": 154,
   "metadata": {
    "collapsed": true
   },
   "outputs": [],
   "source": [
    "median_new_col = dict(zip(median_income.columns, median_income.iloc[0,:]))\n",
    "median_income.rename(columns=median_new_col, inplace=True)\n",
    "median_income.rename(columns={\"Id2\":\"code\"}, inplace=True)\n",
    "median_income.drop(0, inplace=True)"
   ]
  },
  {
   "cell_type": "code",
   "execution_count": 161,
   "metadata": {
    "collapsed": false
   },
   "outputs": [],
   "source": [
    "ee = []\n",
    "for i in median_income[\"Median income (dollars); Estimate; Households\"]:\n",
    "    try:\n",
    "        ee.append(float(i))\n",
    "    except:\n",
    "        pass"
   ]
  },
  {
   "cell_type": "code",
   "execution_count": 162,
   "metadata": {
    "collapsed": true
   },
   "outputs": [],
   "source": [
    "def fix3(x):\n",
    "    if x == \"250,000\":\n",
    "        return \"250000\"\n",
    "    elif x == \"250,000+\":\n",
    "        return \"275000\"\n",
    "    elif x == \"2,500-\":\n",
    "        return \"2500\"\n",
    "    elif x == \"-\":\n",
    "        return np.mean(ee)\n",
    "    else:\n",
    "        return x"
   ]
  },
  {
   "cell_type": "code",
   "execution_count": 163,
   "metadata": {
    "collapsed": false
   },
   "outputs": [],
   "source": [
    "median_income[\"median_income\"] = median_income[\"Median income (dollars); Estimate; Households\"].apply(fix3)"
   ]
  },
  {
   "cell_type": "code",
   "execution_count": 164,
   "metadata": {
    "collapsed": false
   },
   "outputs": [],
   "source": [
    "median_income[\"median_income\"] = median_income[\"median_income\"].astype(float)"
   ]
  },
  {
   "cell_type": "code",
   "execution_count": 428,
   "metadata": {
    "collapsed": true
   },
   "outputs": [],
   "source": [
    "uu = []\n",
    "for i in median_income[\"median_income\"]:\n",
    "    try:\n",
    "        uu.append(float(i))\n",
    "    except:\n",
    "        pass"
   ]
  },
  {
   "cell_type": "code",
   "execution_count": 157,
   "metadata": {
    "collapsed": false
   },
   "outputs": [],
   "source": []
  },
  {
   "cell_type": "code",
   "execution_count": null,
   "metadata": {
    "collapsed": true
   },
   "outputs": [],
   "source": []
  },
  {
   "cell_type": "code",
   "execution_count": 432,
   "metadata": {
    "collapsed": false
   },
   "outputs": [],
   "source": [
    "# median_income[\"median_income\"]"
   ]
  },
  {
   "cell_type": "code",
   "execution_count": 165,
   "metadata": {
    "collapsed": false
   },
   "outputs": [],
   "source": [
    "med_inc = median_income[[\"code\", \"median_income\"]].copy()"
   ]
  },
  {
   "cell_type": "code",
   "execution_count": 166,
   "metadata": {
    "collapsed": false
   },
   "outputs": [],
   "source": [
    "table = pd.merge(table, med_inc, on=\"code\")"
   ]
  },
  {
   "cell_type": "code",
   "execution_count": 167,
   "metadata": {
    "collapsed": false
   },
   "outputs": [
    {
     "data": {
      "text/plain": [
       "(33120, 11)"
      ]
     },
     "execution_count": 167,
     "metadata": {},
     "output_type": "execute_result"
    }
   ],
   "source": [
    "table.shape"
   ]
  },
  {
   "cell_type": "code",
   "execution_count": 168,
   "metadata": {
    "collapsed": true
   },
   "outputs": [],
   "source": [
    "\"\"\"Read in and clean unemployment data\"\"\"\n",
    "un_rate = pd.read_csv(\"/Users/georgemcintire/Downloads/aff_download (1)/ACS_14_5YR_S2301_with_ann.csv\", dtype=\"object\")"
   ]
  },
  {
   "cell_type": "code",
   "execution_count": 169,
   "metadata": {
    "collapsed": false
   },
   "outputs": [],
   "source": [
    "un_new_col = dict(zip(un_rate.columns, un_rate.iloc[0,:]))\n",
    "un_rate.rename(columns=un_new_col, inplace=True)\n",
    "un_rate.rename(columns={\"Id2\":\"code\"}, inplace=True)\n",
    "# un_rate.drop(0, inplace=True)"
   ]
  },
  {
   "cell_type": "code",
   "execution_count": 170,
   "metadata": {
    "collapsed": false
   },
   "outputs": [],
   "source": [
    "un_rate.drop(0, inplace=True)"
   ]
  },
  {
   "cell_type": "code",
   "execution_count": 171,
   "metadata": {
    "collapsed": false
   },
   "outputs": [
    {
     "data": {
      "text/html": [
       "<div>\n",
       "<table border=\"1\" class=\"dataframe\">\n",
       "  <thead>\n",
       "    <tr style=\"text-align: right;\">\n",
       "      <th></th>\n",
       "      <th>Id</th>\n",
       "      <th>code</th>\n",
       "      <th>Geography</th>\n",
       "      <th>Total; Estimate; Population 16 years and over</th>\n",
       "      <th>Total; Margin of Error; Population 16 years and over</th>\n",
       "      <th>In labor force; Estimate; Population 16 years and over</th>\n",
       "      <th>In labor force; Margin of Error; Population 16 years and over</th>\n",
       "      <th>Employed; Estimate; Population 16 years and over</th>\n",
       "      <th>Employed; Margin of Error; Population 16 years and over</th>\n",
       "      <th>Unemployment rate; Estimate; Population 16 years and over</th>\n",
       "      <th>...</th>\n",
       "      <th>Unemployment rate; Estimate; EDUCATIONAL ATTAINMENT - Population 25 to 64 years - Bachelor's degree or higher</th>\n",
       "      <th>Unemployment rate; Margin of Error; EDUCATIONAL ATTAINMENT - Population 25 to 64 years - Bachelor's degree or higher</th>\n",
       "      <th>Total; Estimate; PERCENT IMPUTED - Employment status for population 16 years and over</th>\n",
       "      <th>Total; Margin of Error; PERCENT IMPUTED - Employment status for population 16 years and over</th>\n",
       "      <th>In labor force; Estimate; PERCENT IMPUTED - Employment status for population 16 years and over</th>\n",
       "      <th>In labor force; Margin of Error; PERCENT IMPUTED - Employment status for population 16 years and over</th>\n",
       "      <th>Employed; Estimate; PERCENT IMPUTED - Employment status for population 16 years and over</th>\n",
       "      <th>Employed; Margin of Error; PERCENT IMPUTED - Employment status for population 16 years and over</th>\n",
       "      <th>Unemployment rate; Estimate; PERCENT IMPUTED - Employment status for population 16 years and over</th>\n",
       "      <th>Unemployment rate; Margin of Error; PERCENT IMPUTED - Employment status for population 16 years and over</th>\n",
       "    </tr>\n",
       "  </thead>\n",
       "  <tbody>\n",
       "    <tr>\n",
       "      <th>1</th>\n",
       "      <td>8600000US00601</td>\n",
       "      <td>00601</td>\n",
       "      <td>ZCTA5 00601</td>\n",
       "      <td>14243</td>\n",
       "      <td>239</td>\n",
       "      <td>42.4</td>\n",
       "      <td>2.4</td>\n",
       "      <td>28.4</td>\n",
       "      <td>2.3</td>\n",
       "      <td>33.0</td>\n",
       "      <td>...</td>\n",
       "      <td>17.1</td>\n",
       "      <td>6.0</td>\n",
       "      <td>7.2</td>\n",
       "      <td>(X)</td>\n",
       "      <td>(X)</td>\n",
       "      <td>(X)</td>\n",
       "      <td>(X)</td>\n",
       "      <td>(X)</td>\n",
       "      <td>(X)</td>\n",
       "      <td>(X)</td>\n",
       "    </tr>\n",
       "    <tr>\n",
       "      <th>2</th>\n",
       "      <td>8600000US00602</td>\n",
       "      <td>00602</td>\n",
       "      <td>ZCTA5 00602</td>\n",
       "      <td>33023</td>\n",
       "      <td>204</td>\n",
       "      <td>47.4</td>\n",
       "      <td>1.9</td>\n",
       "      <td>34.1</td>\n",
       "      <td>1.8</td>\n",
       "      <td>27.8</td>\n",
       "      <td>...</td>\n",
       "      <td>15.6</td>\n",
       "      <td>4.7</td>\n",
       "      <td>3.8</td>\n",
       "      <td>(X)</td>\n",
       "      <td>(X)</td>\n",
       "      <td>(X)</td>\n",
       "      <td>(X)</td>\n",
       "      <td>(X)</td>\n",
       "      <td>(X)</td>\n",
       "      <td>(X)</td>\n",
       "    </tr>\n",
       "    <tr>\n",
       "      <th>3</th>\n",
       "      <td>8600000US00603</td>\n",
       "      <td>00603</td>\n",
       "      <td>ZCTA5 00603</td>\n",
       "      <td>42917</td>\n",
       "      <td>510</td>\n",
       "      <td>38.3</td>\n",
       "      <td>1.6</td>\n",
       "      <td>28.8</td>\n",
       "      <td>1.6</td>\n",
       "      <td>24.7</td>\n",
       "      <td>...</td>\n",
       "      <td>12.3</td>\n",
       "      <td>3.4</td>\n",
       "      <td>5.8</td>\n",
       "      <td>(X)</td>\n",
       "      <td>(X)</td>\n",
       "      <td>(X)</td>\n",
       "      <td>(X)</td>\n",
       "      <td>(X)</td>\n",
       "      <td>(X)</td>\n",
       "      <td>(X)</td>\n",
       "    </tr>\n",
       "    <tr>\n",
       "      <th>4</th>\n",
       "      <td>8600000US00606</td>\n",
       "      <td>00606</td>\n",
       "      <td>ZCTA5 00606</td>\n",
       "      <td>5087</td>\n",
       "      <td>239</td>\n",
       "      <td>36.8</td>\n",
       "      <td>5.0</td>\n",
       "      <td>33.4</td>\n",
       "      <td>4.6</td>\n",
       "      <td>9.2</td>\n",
       "      <td>...</td>\n",
       "      <td>0.0</td>\n",
       "      <td>12.1</td>\n",
       "      <td>3.6</td>\n",
       "      <td>(X)</td>\n",
       "      <td>(X)</td>\n",
       "      <td>(X)</td>\n",
       "      <td>(X)</td>\n",
       "      <td>(X)</td>\n",
       "      <td>(X)</td>\n",
       "      <td>(X)</td>\n",
       "    </tr>\n",
       "    <tr>\n",
       "      <th>5</th>\n",
       "      <td>8600000US00610</td>\n",
       "      <td>00610</td>\n",
       "      <td>ZCTA5 00610</td>\n",
       "      <td>23255</td>\n",
       "      <td>218</td>\n",
       "      <td>40.1</td>\n",
       "      <td>2.5</td>\n",
       "      <td>34.6</td>\n",
       "      <td>2.3</td>\n",
       "      <td>13.8</td>\n",
       "      <td>...</td>\n",
       "      <td>3.4</td>\n",
       "      <td>2.6</td>\n",
       "      <td>5.2</td>\n",
       "      <td>(X)</td>\n",
       "      <td>(X)</td>\n",
       "      <td>(X)</td>\n",
       "      <td>(X)</td>\n",
       "      <td>(X)</td>\n",
       "      <td>(X)</td>\n",
       "      <td>(X)</td>\n",
       "    </tr>\n",
       "  </tbody>\n",
       "</table>\n",
       "<p>5 rows × 243 columns</p>\n",
       "</div>"
      ],
      "text/plain": [
       "               Id   code    Geography  \\\n",
       "1  8600000US00601  00601  ZCTA5 00601   \n",
       "2  8600000US00602  00602  ZCTA5 00602   \n",
       "3  8600000US00603  00603  ZCTA5 00603   \n",
       "4  8600000US00606  00606  ZCTA5 00606   \n",
       "5  8600000US00610  00610  ZCTA5 00610   \n",
       "\n",
       "  Total; Estimate; Population 16 years and over  \\\n",
       "1                                         14243   \n",
       "2                                         33023   \n",
       "3                                         42917   \n",
       "4                                          5087   \n",
       "5                                         23255   \n",
       "\n",
       "  Total; Margin of Error; Population 16 years and over  \\\n",
       "1                                                239     \n",
       "2                                                204     \n",
       "3                                                510     \n",
       "4                                                239     \n",
       "5                                                218     \n",
       "\n",
       "  In labor force; Estimate; Population 16 years and over  \\\n",
       "1                                               42.4       \n",
       "2                                               47.4       \n",
       "3                                               38.3       \n",
       "4                                               36.8       \n",
       "5                                               40.1       \n",
       "\n",
       "  In labor force; Margin of Error; Population 16 years and over  \\\n",
       "1                                                2.4              \n",
       "2                                                1.9              \n",
       "3                                                1.6              \n",
       "4                                                5.0              \n",
       "5                                                2.5              \n",
       "\n",
       "  Employed; Estimate; Population 16 years and over  \\\n",
       "1                                             28.4   \n",
       "2                                             34.1   \n",
       "3                                             28.8   \n",
       "4                                             33.4   \n",
       "5                                             34.6   \n",
       "\n",
       "  Employed; Margin of Error; Population 16 years and over  \\\n",
       "1                                                2.3        \n",
       "2                                                1.8        \n",
       "3                                                1.6        \n",
       "4                                                4.6        \n",
       "5                                                2.3        \n",
       "\n",
       "  Unemployment rate; Estimate; Population 16 years and over  \\\n",
       "1                                               33.0          \n",
       "2                                               27.8          \n",
       "3                                               24.7          \n",
       "4                                                9.2          \n",
       "5                                               13.8          \n",
       "\n",
       "                                                    ...                                                     \\\n",
       "1                                                   ...                                                      \n",
       "2                                                   ...                                                      \n",
       "3                                                   ...                                                      \n",
       "4                                                   ...                                                      \n",
       "5                                                   ...                                                      \n",
       "\n",
       "  Unemployment rate; Estimate; EDUCATIONAL ATTAINMENT - Population 25 to 64 years - Bachelor's degree or higher  \\\n",
       "1                                               17.1                                                              \n",
       "2                                               15.6                                                              \n",
       "3                                               12.3                                                              \n",
       "4                                                0.0                                                              \n",
       "5                                                3.4                                                              \n",
       "\n",
       "  Unemployment rate; Margin of Error; EDUCATIONAL ATTAINMENT - Population 25 to 64 years - Bachelor's degree or higher  \\\n",
       "1                                                6.0                                                                     \n",
       "2                                                4.7                                                                     \n",
       "3                                                3.4                                                                     \n",
       "4                                               12.1                                                                     \n",
       "5                                                2.6                                                                     \n",
       "\n",
       "  Total; Estimate; PERCENT IMPUTED - Employment status for population 16 years and over  \\\n",
       "1                                                7.2                                      \n",
       "2                                                3.8                                      \n",
       "3                                                5.8                                      \n",
       "4                                                3.6                                      \n",
       "5                                                5.2                                      \n",
       "\n",
       "  Total; Margin of Error; PERCENT IMPUTED - Employment status for population 16 years and over  \\\n",
       "1                                                (X)                                             \n",
       "2                                                (X)                                             \n",
       "3                                                (X)                                             \n",
       "4                                                (X)                                             \n",
       "5                                                (X)                                             \n",
       "\n",
       "  In labor force; Estimate; PERCENT IMPUTED - Employment status for population 16 years and over  \\\n",
       "1                                                (X)                                               \n",
       "2                                                (X)                                               \n",
       "3                                                (X)                                               \n",
       "4                                                (X)                                               \n",
       "5                                                (X)                                               \n",
       "\n",
       "  In labor force; Margin of Error; PERCENT IMPUTED - Employment status for population 16 years and over  \\\n",
       "1                                                (X)                                                      \n",
       "2                                                (X)                                                      \n",
       "3                                                (X)                                                      \n",
       "4                                                (X)                                                      \n",
       "5                                                (X)                                                      \n",
       "\n",
       "  Employed; Estimate; PERCENT IMPUTED - Employment status for population 16 years and over  \\\n",
       "1                                                (X)                                         \n",
       "2                                                (X)                                         \n",
       "3                                                (X)                                         \n",
       "4                                                (X)                                         \n",
       "5                                                (X)                                         \n",
       "\n",
       "  Employed; Margin of Error; PERCENT IMPUTED - Employment status for population 16 years and over  \\\n",
       "1                                                (X)                                                \n",
       "2                                                (X)                                                \n",
       "3                                                (X)                                                \n",
       "4                                                (X)                                                \n",
       "5                                                (X)                                                \n",
       "\n",
       "  Unemployment rate; Estimate; PERCENT IMPUTED - Employment status for population 16 years and over  \\\n",
       "1                                                (X)                                                  \n",
       "2                                                (X)                                                  \n",
       "3                                                (X)                                                  \n",
       "4                                                (X)                                                  \n",
       "5                                                (X)                                                  \n",
       "\n",
       "  Unemployment rate; Margin of Error; PERCENT IMPUTED - Employment status for population 16 years and over  \n",
       "1                                                (X)                                                        \n",
       "2                                                (X)                                                        \n",
       "3                                                (X)                                                        \n",
       "4                                                (X)                                                        \n",
       "5                                                (X)                                                        \n",
       "\n",
       "[5 rows x 243 columns]"
      ]
     },
     "execution_count": 171,
     "metadata": {},
     "output_type": "execute_result"
    }
   ],
   "source": [
    "un_rate.head()"
   ]
  },
  {
   "cell_type": "code",
   "execution_count": 465,
   "metadata": {
    "collapsed": false
   },
   "outputs": [],
   "source": [
    "# un_rate[\"Unemployment rate; Estimate; Population 16 years and over\"].value_counts()"
   ]
  },
  {
   "cell_type": "code",
   "execution_count": 172,
   "metadata": {
    "collapsed": false
   },
   "outputs": [],
   "source": [
    "uu = []\n",
    "for i in un_rate[\"Unemployment rate; Estimate; Population 16 years and over\"]:\n",
    "    try:\n",
    "        uu.append(float(i))\n",
    "    except:\n",
    "        pass"
   ]
  },
  {
   "cell_type": "code",
   "execution_count": 173,
   "metadata": {
    "collapsed": true
   },
   "outputs": [],
   "source": [
    "def fix4(x):\n",
    "    if x == \"-\":\n",
    "        return str(np.mean(uu))\n",
    "    else:\n",
    "        return x"
   ]
  },
  {
   "cell_type": "code",
   "execution_count": 174,
   "metadata": {
    "collapsed": true
   },
   "outputs": [],
   "source": [
    "un_rate[\"un_rate\"] = un_rate[\"Unemployment rate; Estimate; Population 16 years and over\"].apply(fix4)"
   ]
  },
  {
   "cell_type": "code",
   "execution_count": 175,
   "metadata": {
    "collapsed": true
   },
   "outputs": [],
   "source": [
    "un_rate[\"un_rate\"] = un_rate[\"un_rate\"].astype(float)"
   ]
  },
  {
   "cell_type": "code",
   "execution_count": 176,
   "metadata": {
    "collapsed": true
   },
   "outputs": [],
   "source": [
    "ui = un_rate[[\"code\", \"un_rate\"]].copy()"
   ]
  },
  {
   "cell_type": "code",
   "execution_count": 177,
   "metadata": {
    "collapsed": false
   },
   "outputs": [],
   "source": [
    "table = pd.merge(table, ui, on=\"code\")"
   ]
  },
  {
   "cell_type": "code",
   "execution_count": 178,
   "metadata": {
    "collapsed": false
   },
   "outputs": [
    {
     "data": {
      "text/plain": [
       "(42151, 7)"
      ]
     },
     "execution_count": 178,
     "metadata": {},
     "output_type": "execute_result"
    }
   ],
   "source": [
    "df[df.isnull()==False].shape"
   ]
  },
  {
   "cell_type": "code",
   "execution_count": 179,
   "metadata": {
    "collapsed": false
   },
   "outputs": [
    {
     "data": {
      "text/plain": [
       "(42151, 7)"
      ]
     },
     "execution_count": 179,
     "metadata": {},
     "output_type": "execute_result"
    }
   ],
   "source": [
    "df.shape"
   ]
  },
  {
   "cell_type": "code",
   "execution_count": 180,
   "metadata": {
    "collapsed": false
   },
   "outputs": [],
   "source": [
    "table.dropna(inplace=True)"
   ]
  },
  {
   "cell_type": "code",
   "execution_count": 181,
   "metadata": {
    "collapsed": false
   },
   "outputs": [
    {
     "data": {
      "text/plain": [
       "(32609, 12)"
      ]
     },
     "execution_count": 181,
     "metadata": {},
     "output_type": "execute_result"
    }
   ],
   "source": [
    "table.shape"
   ]
  },
  {
   "cell_type": "code",
   "execution_count": 182,
   "metadata": {
    "collapsed": false
   },
   "outputs": [],
   "source": [
    "final = pd.merge(df, table, on=\"code\")"
   ]
  },
  {
   "cell_type": "code",
   "execution_count": 183,
   "metadata": {
    "collapsed": false
   },
   "outputs": [
    {
     "data": {
      "text/plain": [
       "code                     object\n",
       "target                  float64\n",
       "Place Name               object\n",
       "State                    object\n",
       "State Abbreviation       object\n",
       "County                   object\n",
       "zip_codes                object\n",
       "Estimate; Gini Index     object\n",
       "Estimate; Total:         object\n",
       "white_share             float64\n",
       "black_share             float64\n",
       "no_hs_degree            float64\n",
       "poverty_rate            float64\n",
       "pov_rate_150            float64\n",
       "edu_attainment          float64\n",
       "mean_income             float64\n",
       "median_income           float64\n",
       "un_rate                 float64\n",
       "dtype: object"
      ]
     },
     "execution_count": 183,
     "metadata": {},
     "output_type": "execute_result"
    }
   ],
   "source": [
    "final.dtypes"
   ]
  },
  {
   "cell_type": "code",
   "execution_count": 185,
   "metadata": {
    "collapsed": false
   },
   "outputs": [
    {
     "data": {
      "text/plain": [
       "(350, 18)"
      ]
     },
     "execution_count": 185,
     "metadata": {},
     "output_type": "execute_result"
    }
   ],
   "source": [
    "final[final[\"Estimate; Gini Index\"]== \"-\"].shape"
   ]
  },
  {
   "cell_type": "code",
   "execution_count": 186,
   "metadata": {
    "collapsed": true
   },
   "outputs": [],
   "source": [
    "gi = []\n",
    "\n",
    "\n",
    "for i in final[\"Estimate; Gini Index\"]:\n",
    "    try:\n",
    "        gi.append(float(i))\n",
    "    except:\n",
    "        pass\n",
    "    \n",
    "def fix_gini(x):\n",
    "    if x==\"-\":\n",
    "        return str(np.mean(gi))\n",
    "    else:\n",
    "        return x\n",
    "    \n",
    "final[\"gini\"] = final[\"Estimate; Gini Index\"].apply(fix_gini)"
   ]
  },
  {
   "cell_type": "code",
   "execution_count": 187,
   "metadata": {
    "collapsed": true
   },
   "outputs": [],
   "source": [
    "final[\"gini\"] = final[\"gini\"].astype(float)"
   ]
  },
  {
   "cell_type": "code",
   "execution_count": 188,
   "metadata": {
    "collapsed": false
   },
   "outputs": [],
   "source": [
    "final[\"pop\"] = final[\"Estimate; Total:\"].astype(float)"
   ]
  },
  {
   "cell_type": "code",
   "execution_count": 189,
   "metadata": {
    "collapsed": false
   },
   "outputs": [],
   "source": [
    "del final[\"Estimate; Gini Index\"], final[\"Estimate; Total:\"]"
   ]
  },
  {
   "cell_type": "code",
   "execution_count": 190,
   "metadata": {
    "collapsed": false
   },
   "outputs": [
    {
     "data": {
      "text/plain": [
       "(32333, 18)"
      ]
     },
     "execution_count": 190,
     "metadata": {},
     "output_type": "execute_result"
    }
   ],
   "source": [
    "final.shape"
   ]
  },
  {
   "cell_type": "code",
   "execution_count": 191,
   "metadata": {
    "collapsed": true
   },
   "outputs": [],
   "source": [
    "final.to_pickle(\"final.pkl\")"
   ]
  },
  {
   "cell_type": "code",
   "execution_count": 192,
   "metadata": {
    "collapsed": true
   },
   "outputs": [],
   "source": [
    "final.to_csv(\"final.csv\")"
   ]
  },
  {
   "cell_type": "code",
   "execution_count": 193,
   "metadata": {
    "collapsed": false
   },
   "outputs": [
    {
     "data": {
      "text/html": [
       "<div>\n",
       "<table border=\"1\" class=\"dataframe\">\n",
       "  <thead>\n",
       "    <tr style=\"text-align: right;\">\n",
       "      <th></th>\n",
       "      <th>code</th>\n",
       "      <th>target</th>\n",
       "      <th>Place Name</th>\n",
       "      <th>State</th>\n",
       "      <th>State Abbreviation</th>\n",
       "      <th>County</th>\n",
       "      <th>zip_codes</th>\n",
       "      <th>white_share</th>\n",
       "      <th>black_share</th>\n",
       "      <th>no_hs_degree</th>\n",
       "      <th>poverty_rate</th>\n",
       "      <th>pov_rate_150</th>\n",
       "      <th>edu_attainment</th>\n",
       "      <th>mean_income</th>\n",
       "      <th>median_income</th>\n",
       "      <th>un_rate</th>\n",
       "      <th>gini</th>\n",
       "      <th>pop</th>\n",
       "    </tr>\n",
       "  </thead>\n",
       "  <tbody>\n",
       "    <tr>\n",
       "      <th>0</th>\n",
       "      <td>89117</td>\n",
       "      <td>1</td>\n",
       "      <td>Las Vegas</td>\n",
       "      <td>Nevada</td>\n",
       "      <td>NV</td>\n",
       "      <td>Clark</td>\n",
       "      <td>89117</td>\n",
       "      <td>0.690471</td>\n",
       "      <td>0.071173</td>\n",
       "      <td>3919</td>\n",
       "      <td>11.6</td>\n",
       "      <td>0.190970</td>\n",
       "      <td>39569</td>\n",
       "      <td>76011</td>\n",
       "      <td>55095</td>\n",
       "      <td>9.7</td>\n",
       "      <td>0.4546</td>\n",
       "      <td>54234</td>\n",
       "    </tr>\n",
       "    <tr>\n",
       "      <th>1</th>\n",
       "      <td>93701</td>\n",
       "      <td>1</td>\n",
       "      <td>Fresno</td>\n",
       "      <td>California</td>\n",
       "      <td>CA</td>\n",
       "      <td>Fresno</td>\n",
       "      <td>93701</td>\n",
       "      <td>0.433630</td>\n",
       "      <td>0.061086</td>\n",
       "      <td>2953</td>\n",
       "      <td>60.8</td>\n",
       "      <td>0.759836</td>\n",
       "      <td>5469</td>\n",
       "      <td>25577</td>\n",
       "      <td>18553</td>\n",
       "      <td>21.6</td>\n",
       "      <td>0.4636</td>\n",
       "      <td>10788</td>\n",
       "    </tr>\n",
       "    <tr>\n",
       "      <th>2</th>\n",
       "      <td>82301</td>\n",
       "      <td>1</td>\n",
       "      <td>Rawlins</td>\n",
       "      <td>Wyoming</td>\n",
       "      <td>WY</td>\n",
       "      <td>Carbon</td>\n",
       "      <td>82301</td>\n",
       "      <td>0.888924</td>\n",
       "      <td>0.014690</td>\n",
       "      <td>833</td>\n",
       "      <td>15.8</td>\n",
       "      <td>0.209943</td>\n",
       "      <td>5566</td>\n",
       "      <td>67801</td>\n",
       "      <td>56863</td>\n",
       "      <td>4.0</td>\n",
       "      <td>0.3744</td>\n",
       "      <td>9462</td>\n",
       "    </tr>\n",
       "    <tr>\n",
       "      <th>3</th>\n",
       "      <td>95322</td>\n",
       "      <td>1</td>\n",
       "      <td>Gustine</td>\n",
       "      <td>California</td>\n",
       "      <td>CA</td>\n",
       "      <td>Merced</td>\n",
       "      <td>95322</td>\n",
       "      <td>0.890684</td>\n",
       "      <td>0.005271</td>\n",
       "      <td>1831</td>\n",
       "      <td>22.7</td>\n",
       "      <td>0.354739</td>\n",
       "      <td>5376</td>\n",
       "      <td>58920</td>\n",
       "      <td>40732</td>\n",
       "      <td>15.5</td>\n",
       "      <td>0.4844</td>\n",
       "      <td>8727</td>\n",
       "    </tr>\n",
       "    <tr>\n",
       "      <th>4</th>\n",
       "      <td>91770</td>\n",
       "      <td>1</td>\n",
       "      <td>Rosemead</td>\n",
       "      <td>California</td>\n",
       "      <td>CA</td>\n",
       "      <td>Los Angeles</td>\n",
       "      <td>91770</td>\n",
       "      <td>0.228632</td>\n",
       "      <td>0.002915</td>\n",
       "      <td>14959</td>\n",
       "      <td>19.0</td>\n",
       "      <td>0.342889</td>\n",
       "      <td>44374</td>\n",
       "      <td>61584</td>\n",
       "      <td>47078</td>\n",
       "      <td>12.9</td>\n",
       "      <td>0.4339</td>\n",
       "      <td>63119</td>\n",
       "    </tr>\n",
       "  </tbody>\n",
       "</table>\n",
       "</div>"
      ],
      "text/plain": [
       "    code  target Place Name       State State Abbreviation       County  \\\n",
       "0  89117       1  Las Vegas      Nevada                 NV        Clark   \n",
       "1  93701       1     Fresno  California                 CA       Fresno   \n",
       "2  82301       1    Rawlins     Wyoming                 WY       Carbon   \n",
       "3  95322       1    Gustine  California                 CA       Merced   \n",
       "4  91770       1   Rosemead  California                 CA  Los Angeles   \n",
       "\n",
       "  zip_codes  white_share  black_share  no_hs_degree  poverty_rate  \\\n",
       "0     89117     0.690471     0.071173          3919          11.6   \n",
       "1     93701     0.433630     0.061086          2953          60.8   \n",
       "2     82301     0.888924     0.014690           833          15.8   \n",
       "3     95322     0.890684     0.005271          1831          22.7   \n",
       "4     91770     0.228632     0.002915         14959          19.0   \n",
       "\n",
       "   pov_rate_150  edu_attainment  mean_income  median_income  un_rate    gini  \\\n",
       "0      0.190970           39569        76011          55095      9.7  0.4546   \n",
       "1      0.759836            5469        25577          18553     21.6  0.4636   \n",
       "2      0.209943            5566        67801          56863      4.0  0.3744   \n",
       "3      0.354739            5376        58920          40732     15.5  0.4844   \n",
       "4      0.342889           44374        61584          47078     12.9  0.4339   \n",
       "\n",
       "     pop  \n",
       "0  54234  \n",
       "1  10788  \n",
       "2   9462  \n",
       "3   8727  \n",
       "4  63119  "
      ]
     },
     "execution_count": 193,
     "metadata": {},
     "output_type": "execute_result"
    }
   ],
   "source": [
    "final.head()"
   ]
  },
  {
   "cell_type": "code",
   "execution_count": 194,
   "metadata": {
    "collapsed": false
   },
   "outputs": [
    {
     "data": {
      "text/html": [
       "<div>\n",
       "<table border=\"1\" class=\"dataframe\">\n",
       "  <thead>\n",
       "    <tr style=\"text-align: right;\">\n",
       "      <th></th>\n",
       "      <th>white_share</th>\n",
       "      <th>black_share</th>\n",
       "      <th>no_hs_degree</th>\n",
       "      <th>poverty_rate</th>\n",
       "      <th>pov_rate_150</th>\n",
       "      <th>edu_attainment</th>\n",
       "      <th>mean_income</th>\n",
       "      <th>median_income</th>\n",
       "      <th>un_rate</th>\n",
       "      <th>gini</th>\n",
       "      <th>pop</th>\n",
       "    </tr>\n",
       "    <tr>\n",
       "      <th>target</th>\n",
       "      <th></th>\n",
       "      <th></th>\n",
       "      <th></th>\n",
       "      <th></th>\n",
       "      <th></th>\n",
       "      <th></th>\n",
       "      <th></th>\n",
       "      <th></th>\n",
       "      <th></th>\n",
       "      <th></th>\n",
       "      <th></th>\n",
       "    </tr>\n",
       "  </thead>\n",
       "  <tbody>\n",
       "    <tr>\n",
       "      <th>0</th>\n",
       "      <td>0.856053</td>\n",
       "      <td>0.066806</td>\n",
       "      <td>662.490122</td>\n",
       "      <td>15.041375</td>\n",
       "      <td>0.253150</td>\n",
       "      <td>5181.590699</td>\n",
       "      <td>66681.241302</td>\n",
       "      <td>52904.999581</td>\n",
       "      <td>8.680016</td>\n",
       "      <td>0.406847</td>\n",
       "      <td>7846.083809</td>\n",
       "    </tr>\n",
       "    <tr>\n",
       "      <th>1</th>\n",
       "      <td>0.695598</td>\n",
       "      <td>0.166392</td>\n",
       "      <td>3107.811347</td>\n",
       "      <td>19.113192</td>\n",
       "      <td>0.301331</td>\n",
       "      <td>17875.296554</td>\n",
       "      <td>65467.747199</td>\n",
       "      <td>50106.299492</td>\n",
       "      <td>10.515767</td>\n",
       "      <td>0.441017</td>\n",
       "      <td>27964.415593</td>\n",
       "    </tr>\n",
       "  </tbody>\n",
       "</table>\n",
       "</div>"
      ],
      "text/plain": [
       "        white_share  black_share  no_hs_degree  poverty_rate  pov_rate_150  \\\n",
       "target                                                                       \n",
       "0          0.856053     0.066806    662.490122     15.041375      0.253150   \n",
       "1          0.695598     0.166392   3107.811347     19.113192      0.301331   \n",
       "\n",
       "        edu_attainment   mean_income  median_income    un_rate      gini  \\\n",
       "target                                                                     \n",
       "0          5181.590699  66681.241302   52904.999581   8.680016  0.406847   \n",
       "1         17875.296554  65467.747199   50106.299492  10.515767  0.441017   \n",
       "\n",
       "                 pop  \n",
       "target                \n",
       "0        7846.083809  \n",
       "1       27964.415593  "
      ]
     },
     "execution_count": 194,
     "metadata": {},
     "output_type": "execute_result"
    }
   ],
   "source": [
    "final.groupby(\"target\").mean()"
   ]
  },
  {
   "cell_type": "code",
   "execution_count": 195,
   "metadata": {
    "collapsed": false
   },
   "outputs": [
    {
     "data": {
      "text/html": [
       "<div>\n",
       "<table border=\"1\" class=\"dataframe\">\n",
       "  <thead>\n",
       "    <tr style=\"text-align: right;\">\n",
       "      <th></th>\n",
       "      <th>white_share</th>\n",
       "      <th>black_share</th>\n",
       "      <th>no_hs_degree</th>\n",
       "      <th>poverty_rate</th>\n",
       "      <th>pov_rate_150</th>\n",
       "      <th>edu_attainment</th>\n",
       "      <th>mean_income</th>\n",
       "      <th>median_income</th>\n",
       "      <th>un_rate</th>\n",
       "      <th>gini</th>\n",
       "      <th>pop</th>\n",
       "    </tr>\n",
       "    <tr>\n",
       "      <th>target</th>\n",
       "      <th></th>\n",
       "      <th></th>\n",
       "      <th></th>\n",
       "      <th></th>\n",
       "      <th></th>\n",
       "      <th></th>\n",
       "      <th></th>\n",
       "      <th></th>\n",
       "      <th></th>\n",
       "      <th></th>\n",
       "      <th></th>\n",
       "    </tr>\n",
       "  </thead>\n",
       "  <tbody>\n",
       "    <tr>\n",
       "      <th>0</th>\n",
       "      <td>0.938811</td>\n",
       "      <td>0.006462</td>\n",
       "      <td>188</td>\n",
       "      <td>12.5</td>\n",
       "      <td>0.229941</td>\n",
       "      <td>1560</td>\n",
       "      <td>60536</td>\n",
       "      <td>49010</td>\n",
       "      <td>7.5</td>\n",
       "      <td>0.4096</td>\n",
       "      <td>2308</td>\n",
       "    </tr>\n",
       "    <tr>\n",
       "      <th>1</th>\n",
       "      <td>0.762868</td>\n",
       "      <td>0.068408</td>\n",
       "      <td>2097</td>\n",
       "      <td>17.6</td>\n",
       "      <td>0.290878</td>\n",
       "      <td>16813</td>\n",
       "      <td>59935</td>\n",
       "      <td>46116</td>\n",
       "      <td>9.7</td>\n",
       "      <td>0.4363</td>\n",
       "      <td>26127</td>\n",
       "    </tr>\n",
       "  </tbody>\n",
       "</table>\n",
       "</div>"
      ],
      "text/plain": [
       "        white_share  black_share  no_hs_degree  poverty_rate  pov_rate_150  \\\n",
       "target                                                                       \n",
       "0          0.938811     0.006462           188          12.5      0.229941   \n",
       "1          0.762868     0.068408          2097          17.6      0.290878   \n",
       "\n",
       "        edu_attainment  mean_income  median_income  un_rate    gini    pop  \n",
       "target                                                                      \n",
       "0                 1560        60536          49010      7.5  0.4096   2308  \n",
       "1                16813        59935          46116      9.7  0.4363  26127  "
      ]
     },
     "execution_count": 195,
     "metadata": {},
     "output_type": "execute_result"
    }
   ],
   "source": [
    "final.groupby(\"target\").median()"
   ]
  },
  {
   "cell_type": "code",
   "execution_count": 197,
   "metadata": {
    "collapsed": true
   },
   "outputs": [],
   "source": [
    "final[\"pov_rate_150\"] = final[\"pov_rate_150\"]*100\n",
    "\n",
    "final[\"white_share\"] = final[\"white_share\"]*100\n",
    "final[\"black_share\"] = final[\"black_share\"]*100"
   ]
  },
  {
   "cell_type": "code",
   "execution_count": 198,
   "metadata": {
    "collapsed": true
   },
   "outputs": [],
   "source": [
    "final[\"no_hs_percent\"] = (final[\"no_hs_degree\"]*100)/final[\"pop\"]"
   ]
  },
  {
   "cell_type": "markdown",
   "metadata": {},
   "source": [
    "My data after a long and arduous process is finally clean and has all the appropriate features that I used in my logistic regression analysis in which I predict the occurrence of a police officer involved shooting in a given zip code."
   ]
  },
  {
   "cell_type": "code",
   "execution_count": 196,
   "metadata": {
    "collapsed": true
   },
   "outputs": [],
   "source": [
    "from sklearn.linear_model import LogisticRegression, LinearRegression\n",
    "from statsmodels.formula.api import Logit\n",
    "from sklearn.cross_validation import train_test_split\n",
    "from sklearn.metrics import accuracy_score\n",
    "from sklearn.metrics import roc_auc_score\n",
    "from sklearn.metrics import confusion_matrix, classification_report\n",
    "from sklearn.cross_validation import cross_val_score\n",
    "from sklearn.preprocessing import StandardScaler, scale\n",
    "from sklearn.metrics import roc_curve\n"
   ]
  },
  {
   "cell_type": "code",
   "execution_count": 199,
   "metadata": {
    "collapsed": false
   },
   "outputs": [
    {
     "data": {
      "text/html": [
       "<div>\n",
       "<table border=\"1\" class=\"dataframe\">\n",
       "  <thead>\n",
       "    <tr style=\"text-align: right;\">\n",
       "      <th></th>\n",
       "      <th>code</th>\n",
       "      <th>target</th>\n",
       "      <th>Place Name</th>\n",
       "      <th>State</th>\n",
       "      <th>State Abbreviation</th>\n",
       "      <th>County</th>\n",
       "      <th>zip_codes</th>\n",
       "      <th>white_share</th>\n",
       "      <th>black_share</th>\n",
       "      <th>no_hs_degree</th>\n",
       "      <th>poverty_rate</th>\n",
       "      <th>pov_rate_150</th>\n",
       "      <th>edu_attainment</th>\n",
       "      <th>mean_income</th>\n",
       "      <th>median_income</th>\n",
       "      <th>un_rate</th>\n",
       "      <th>gini</th>\n",
       "      <th>pop</th>\n",
       "      <th>no_hs_percent</th>\n",
       "    </tr>\n",
       "  </thead>\n",
       "  <tbody>\n",
       "    <tr>\n",
       "      <th>0</th>\n",
       "      <td>89117</td>\n",
       "      <td>1</td>\n",
       "      <td>Las Vegas</td>\n",
       "      <td>Nevada</td>\n",
       "      <td>NV</td>\n",
       "      <td>Clark</td>\n",
       "      <td>89117</td>\n",
       "      <td>69.047092</td>\n",
       "      <td>7.117306</td>\n",
       "      <td>3919</td>\n",
       "      <td>11.6</td>\n",
       "      <td>19.097010</td>\n",
       "      <td>39569</td>\n",
       "      <td>76011</td>\n",
       "      <td>55095</td>\n",
       "      <td>9.7</td>\n",
       "      <td>0.4546</td>\n",
       "      <td>54234</td>\n",
       "      <td>7.226094</td>\n",
       "    </tr>\n",
       "    <tr>\n",
       "      <th>1</th>\n",
       "      <td>93701</td>\n",
       "      <td>1</td>\n",
       "      <td>Fresno</td>\n",
       "      <td>California</td>\n",
       "      <td>CA</td>\n",
       "      <td>Fresno</td>\n",
       "      <td>93701</td>\n",
       "      <td>43.362996</td>\n",
       "      <td>6.108639</td>\n",
       "      <td>2953</td>\n",
       "      <td>60.8</td>\n",
       "      <td>75.983629</td>\n",
       "      <td>5469</td>\n",
       "      <td>25577</td>\n",
       "      <td>18553</td>\n",
       "      <td>21.6</td>\n",
       "      <td>0.4636</td>\n",
       "      <td>10788</td>\n",
       "      <td>27.373007</td>\n",
       "    </tr>\n",
       "    <tr>\n",
       "      <th>2</th>\n",
       "      <td>82301</td>\n",
       "      <td>1</td>\n",
       "      <td>Rawlins</td>\n",
       "      <td>Wyoming</td>\n",
       "      <td>WY</td>\n",
       "      <td>Carbon</td>\n",
       "      <td>82301</td>\n",
       "      <td>88.892412</td>\n",
       "      <td>1.469034</td>\n",
       "      <td>833</td>\n",
       "      <td>15.8</td>\n",
       "      <td>20.994282</td>\n",
       "      <td>5566</td>\n",
       "      <td>67801</td>\n",
       "      <td>56863</td>\n",
       "      <td>4.0</td>\n",
       "      <td>0.3744</td>\n",
       "      <td>9462</td>\n",
       "      <td>8.803636</td>\n",
       "    </tr>\n",
       "    <tr>\n",
       "      <th>3</th>\n",
       "      <td>95322</td>\n",
       "      <td>1</td>\n",
       "      <td>Gustine</td>\n",
       "      <td>California</td>\n",
       "      <td>CA</td>\n",
       "      <td>Merced</td>\n",
       "      <td>95322</td>\n",
       "      <td>89.068408</td>\n",
       "      <td>0.527100</td>\n",
       "      <td>1831</td>\n",
       "      <td>22.7</td>\n",
       "      <td>35.473866</td>\n",
       "      <td>5376</td>\n",
       "      <td>58920</td>\n",
       "      <td>40732</td>\n",
       "      <td>15.5</td>\n",
       "      <td>0.4844</td>\n",
       "      <td>8727</td>\n",
       "      <td>20.980864</td>\n",
       "    </tr>\n",
       "    <tr>\n",
       "      <th>4</th>\n",
       "      <td>91770</td>\n",
       "      <td>1</td>\n",
       "      <td>Rosemead</td>\n",
       "      <td>California</td>\n",
       "      <td>CA</td>\n",
       "      <td>Los Angeles</td>\n",
       "      <td>91770</td>\n",
       "      <td>22.863163</td>\n",
       "      <td>0.291513</td>\n",
       "      <td>14959</td>\n",
       "      <td>19.0</td>\n",
       "      <td>34.288919</td>\n",
       "      <td>44374</td>\n",
       "      <td>61584</td>\n",
       "      <td>47078</td>\n",
       "      <td>12.9</td>\n",
       "      <td>0.4339</td>\n",
       "      <td>63119</td>\n",
       "      <td>23.699678</td>\n",
       "    </tr>\n",
       "  </tbody>\n",
       "</table>\n",
       "</div>"
      ],
      "text/plain": [
       "    code  target Place Name       State State Abbreviation       County  \\\n",
       "0  89117       1  Las Vegas      Nevada                 NV        Clark   \n",
       "1  93701       1     Fresno  California                 CA       Fresno   \n",
       "2  82301       1    Rawlins     Wyoming                 WY       Carbon   \n",
       "3  95322       1    Gustine  California                 CA       Merced   \n",
       "4  91770       1   Rosemead  California                 CA  Los Angeles   \n",
       "\n",
       "  zip_codes  white_share  black_share  no_hs_degree  poverty_rate  \\\n",
       "0     89117    69.047092     7.117306          3919          11.6   \n",
       "1     93701    43.362996     6.108639          2953          60.8   \n",
       "2     82301    88.892412     1.469034           833          15.8   \n",
       "3     95322    89.068408     0.527100          1831          22.7   \n",
       "4     91770    22.863163     0.291513         14959          19.0   \n",
       "\n",
       "   pov_rate_150  edu_attainment  mean_income  median_income  un_rate    gini  \\\n",
       "0     19.097010           39569        76011          55095      9.7  0.4546   \n",
       "1     75.983629            5469        25577          18553     21.6  0.4636   \n",
       "2     20.994282            5566        67801          56863      4.0  0.3744   \n",
       "3     35.473866            5376        58920          40732     15.5  0.4844   \n",
       "4     34.288919           44374        61584          47078     12.9  0.4339   \n",
       "\n",
       "     pop  no_hs_percent  \n",
       "0  54234       7.226094  \n",
       "1  10788      27.373007  \n",
       "2   9462       8.803636  \n",
       "3   8727      20.980864  \n",
       "4  63119      23.699678  "
      ]
     },
     "execution_count": 199,
     "metadata": {},
     "output_type": "execute_result"
    }
   ],
   "source": [
    "final.head()"
   ]
  },
  {
   "cell_type": "code",
   "execution_count": 200,
   "metadata": {
    "collapsed": true
   },
   "outputs": [],
   "source": [
    "\"\"\"Here I scale the income variables\"\"\"\n",
    "final[\"mean_income_scale\"] = scale(final[\"mean_income\"])\n",
    "final[\"median_income_scale\"] = scale(final[\"median_income\"])"
   ]
  },
  {
   "cell_type": "code",
   "execution_count": 202,
   "metadata": {
    "collapsed": true
   },
   "outputs": [],
   "source": [
    "final[\"pop_scale\"] = scale(final[\"pop\"])\n",
    "final[\"no_hs_scale\"] = scale(final[\"no_hs_degree\"])"
   ]
  },
  {
   "cell_type": "code",
   "execution_count": null,
   "metadata": {
    "collapsed": false
   },
   "outputs": [],
   "source": []
  },
  {
   "cell_type": "code",
   "execution_count": 201,
   "metadata": {
    "collapsed": false
   },
   "outputs": [
    {
     "data": {
      "text/html": [
       "<div>\n",
       "<table border=\"1\" class=\"dataframe\">\n",
       "  <thead>\n",
       "    <tr style=\"text-align: right;\">\n",
       "      <th></th>\n",
       "      <th>code</th>\n",
       "      <th>target</th>\n",
       "      <th>Place Name</th>\n",
       "      <th>State</th>\n",
       "      <th>State Abbreviation</th>\n",
       "      <th>County</th>\n",
       "      <th>zip_codes</th>\n",
       "      <th>white_share</th>\n",
       "      <th>black_share</th>\n",
       "      <th>no_hs_degree</th>\n",
       "      <th>...</th>\n",
       "      <th>pov_rate_150</th>\n",
       "      <th>edu_attainment</th>\n",
       "      <th>mean_income</th>\n",
       "      <th>median_income</th>\n",
       "      <th>un_rate</th>\n",
       "      <th>gini</th>\n",
       "      <th>pop</th>\n",
       "      <th>no_hs_percent</th>\n",
       "      <th>mean_income_scale</th>\n",
       "      <th>median_income_scale</th>\n",
       "    </tr>\n",
       "  </thead>\n",
       "  <tbody>\n",
       "    <tr>\n",
       "      <th>0</th>\n",
       "      <td>89117</td>\n",
       "      <td>1</td>\n",
       "      <td>Las Vegas</td>\n",
       "      <td>Nevada</td>\n",
       "      <td>NV</td>\n",
       "      <td>Clark</td>\n",
       "      <td>89117</td>\n",
       "      <td>69.047092</td>\n",
       "      <td>7.117306</td>\n",
       "      <td>3919</td>\n",
       "      <td>...</td>\n",
       "      <td>19.097010</td>\n",
       "      <td>39569</td>\n",
       "      <td>76011</td>\n",
       "      <td>55095</td>\n",
       "      <td>9.7</td>\n",
       "      <td>0.4546</td>\n",
       "      <td>54234</td>\n",
       "      <td>7.226094</td>\n",
       "      <td>0.323957</td>\n",
       "      <td>0.108783</td>\n",
       "    </tr>\n",
       "    <tr>\n",
       "      <th>1</th>\n",
       "      <td>93701</td>\n",
       "      <td>1</td>\n",
       "      <td>Fresno</td>\n",
       "      <td>California</td>\n",
       "      <td>CA</td>\n",
       "      <td>Fresno</td>\n",
       "      <td>93701</td>\n",
       "      <td>43.362996</td>\n",
       "      <td>6.108639</td>\n",
       "      <td>2953</td>\n",
       "      <td>...</td>\n",
       "      <td>75.983629</td>\n",
       "      <td>5469</td>\n",
       "      <td>25577</td>\n",
       "      <td>18553</td>\n",
       "      <td>21.6</td>\n",
       "      <td>0.4636</td>\n",
       "      <td>10788</td>\n",
       "      <td>27.373007</td>\n",
       "      <td>-1.407253</td>\n",
       "      <td>-1.521251</td>\n",
       "    </tr>\n",
       "    <tr>\n",
       "      <th>2</th>\n",
       "      <td>82301</td>\n",
       "      <td>1</td>\n",
       "      <td>Rawlins</td>\n",
       "      <td>Wyoming</td>\n",
       "      <td>WY</td>\n",
       "      <td>Carbon</td>\n",
       "      <td>82301</td>\n",
       "      <td>88.892412</td>\n",
       "      <td>1.469034</td>\n",
       "      <td>833</td>\n",
       "      <td>...</td>\n",
       "      <td>20.994282</td>\n",
       "      <td>5566</td>\n",
       "      <td>67801</td>\n",
       "      <td>56863</td>\n",
       "      <td>4.0</td>\n",
       "      <td>0.3744</td>\n",
       "      <td>9462</td>\n",
       "      <td>8.803636</td>\n",
       "      <td>0.042138</td>\n",
       "      <td>0.187648</td>\n",
       "    </tr>\n",
       "    <tr>\n",
       "      <th>3</th>\n",
       "      <td>95322</td>\n",
       "      <td>1</td>\n",
       "      <td>Gustine</td>\n",
       "      <td>California</td>\n",
       "      <td>CA</td>\n",
       "      <td>Merced</td>\n",
       "      <td>95322</td>\n",
       "      <td>89.068408</td>\n",
       "      <td>0.527100</td>\n",
       "      <td>1831</td>\n",
       "      <td>...</td>\n",
       "      <td>35.473866</td>\n",
       "      <td>5376</td>\n",
       "      <td>58920</td>\n",
       "      <td>40732</td>\n",
       "      <td>15.5</td>\n",
       "      <td>0.4844</td>\n",
       "      <td>8727</td>\n",
       "      <td>20.980864</td>\n",
       "      <td>-0.262713</td>\n",
       "      <td>-0.531910</td>\n",
       "    </tr>\n",
       "    <tr>\n",
       "      <th>4</th>\n",
       "      <td>91770</td>\n",
       "      <td>1</td>\n",
       "      <td>Rosemead</td>\n",
       "      <td>California</td>\n",
       "      <td>CA</td>\n",
       "      <td>Los Angeles</td>\n",
       "      <td>91770</td>\n",
       "      <td>22.863163</td>\n",
       "      <td>0.291513</td>\n",
       "      <td>14959</td>\n",
       "      <td>...</td>\n",
       "      <td>34.288919</td>\n",
       "      <td>44374</td>\n",
       "      <td>61584</td>\n",
       "      <td>47078</td>\n",
       "      <td>12.9</td>\n",
       "      <td>0.4339</td>\n",
       "      <td>63119</td>\n",
       "      <td>23.699678</td>\n",
       "      <td>-0.171268</td>\n",
       "      <td>-0.248833</td>\n",
       "    </tr>\n",
       "  </tbody>\n",
       "</table>\n",
       "<p>5 rows × 21 columns</p>\n",
       "</div>"
      ],
      "text/plain": [
       "    code  target Place Name       State State Abbreviation       County  \\\n",
       "0  89117       1  Las Vegas      Nevada                 NV        Clark   \n",
       "1  93701       1     Fresno  California                 CA       Fresno   \n",
       "2  82301       1    Rawlins     Wyoming                 WY       Carbon   \n",
       "3  95322       1    Gustine  California                 CA       Merced   \n",
       "4  91770       1   Rosemead  California                 CA  Los Angeles   \n",
       "\n",
       "  zip_codes  white_share  black_share  no_hs_degree         ...           \\\n",
       "0     89117    69.047092     7.117306          3919         ...            \n",
       "1     93701    43.362996     6.108639          2953         ...            \n",
       "2     82301    88.892412     1.469034           833         ...            \n",
       "3     95322    89.068408     0.527100          1831         ...            \n",
       "4     91770    22.863163     0.291513         14959         ...            \n",
       "\n",
       "   pov_rate_150  edu_attainment  mean_income  median_income  un_rate    gini  \\\n",
       "0     19.097010           39569        76011          55095      9.7  0.4546   \n",
       "1     75.983629            5469        25577          18553     21.6  0.4636   \n",
       "2     20.994282            5566        67801          56863      4.0  0.3744   \n",
       "3     35.473866            5376        58920          40732     15.5  0.4844   \n",
       "4     34.288919           44374        61584          47078     12.9  0.4339   \n",
       "\n",
       "     pop  no_hs_percent  mean_income_scale  median_income_scale  \n",
       "0  54234       7.226094           0.323957             0.108783  \n",
       "1  10788      27.373007          -1.407253            -1.521251  \n",
       "2   9462       8.803636           0.042138             0.187648  \n",
       "3   8727      20.980864          -0.262713            -0.531910  \n",
       "4  63119      23.699678          -0.171268            -0.248833  \n",
       "\n",
       "[5 rows x 21 columns]"
      ]
     },
     "execution_count": 201,
     "metadata": {},
     "output_type": "execute_result"
    }
   ],
   "source": [
    "final.head()"
   ]
  },
  {
   "cell_type": "code",
   "execution_count": null,
   "metadata": {
    "collapsed": true
   },
   "outputs": [],
   "source": [
    "\n"
   ]
  },
  {
   "cell_type": "code",
   "execution_count": null,
   "metadata": {
    "collapsed": true
   },
   "outputs": [],
   "source": []
  },
  {
   "cell_type": "code",
   "execution_count": 203,
   "metadata": {
    "collapsed": true
   },
   "outputs": [],
   "source": [
    "#White_share, black_share, no_hs_degree_percent, poverty_rate, mean_income, un_rate, gini\n",
    "df1 = final[[\"target\", \"white_share\", \"black_share\", \"no_hs_percent\", \"poverty_rate\", \"mean_income_scale\", \"un_rate\", \"gini\", \"pop_scale\"]].copy()\n",
    "df2 = final[[\"target\", \"white_share\", \"black_share\", \"no_hs_percent\", \"poverty_rate\", \"median_income_scale\", \"un_rate\", \"gini\", \"pop_scale\"]].copy()"
   ]
  },
  {
   "cell_type": "code",
   "execution_count": 204,
   "metadata": {
    "collapsed": false
   },
   "outputs": [
    {
     "data": {
      "text/html": [
       "<div>\n",
       "<table border=\"1\" class=\"dataframe\">\n",
       "  <thead>\n",
       "    <tr style=\"text-align: right;\">\n",
       "      <th></th>\n",
       "      <th>target</th>\n",
       "      <th>white_share</th>\n",
       "      <th>black_share</th>\n",
       "      <th>no_hs_percent</th>\n",
       "      <th>poverty_rate</th>\n",
       "      <th>mean_income_scale</th>\n",
       "      <th>un_rate</th>\n",
       "      <th>gini</th>\n",
       "      <th>pop_scale</th>\n",
       "    </tr>\n",
       "  </thead>\n",
       "  <tbody>\n",
       "    <tr>\n",
       "      <th>0</th>\n",
       "      <td>1</td>\n",
       "      <td>69.047092</td>\n",
       "      <td>7.117306</td>\n",
       "      <td>7.226094</td>\n",
       "      <td>11.6</td>\n",
       "      <td>0.323957</td>\n",
       "      <td>9.7</td>\n",
       "      <td>0.4546</td>\n",
       "      <td>3.167906</td>\n",
       "    </tr>\n",
       "    <tr>\n",
       "      <th>1</th>\n",
       "      <td>1</td>\n",
       "      <td>43.362996</td>\n",
       "      <td>6.108639</td>\n",
       "      <td>27.373007</td>\n",
       "      <td>60.8</td>\n",
       "      <td>-1.407253</td>\n",
       "      <td>21.6</td>\n",
       "      <td>0.4636</td>\n",
       "      <td>0.081986</td>\n",
       "    </tr>\n",
       "    <tr>\n",
       "      <th>2</th>\n",
       "      <td>1</td>\n",
       "      <td>88.892412</td>\n",
       "      <td>1.469034</td>\n",
       "      <td>8.803636</td>\n",
       "      <td>15.8</td>\n",
       "      <td>0.042138</td>\n",
       "      <td>4.0</td>\n",
       "      <td>0.3744</td>\n",
       "      <td>-0.012198</td>\n",
       "    </tr>\n",
       "    <tr>\n",
       "      <th>3</th>\n",
       "      <td>1</td>\n",
       "      <td>89.068408</td>\n",
       "      <td>0.527100</td>\n",
       "      <td>20.980864</td>\n",
       "      <td>22.7</td>\n",
       "      <td>-0.262713</td>\n",
       "      <td>15.5</td>\n",
       "      <td>0.4844</td>\n",
       "      <td>-0.064404</td>\n",
       "    </tr>\n",
       "    <tr>\n",
       "      <th>4</th>\n",
       "      <td>1</td>\n",
       "      <td>22.863163</td>\n",
       "      <td>0.291513</td>\n",
       "      <td>23.699678</td>\n",
       "      <td>19.0</td>\n",
       "      <td>-0.171268</td>\n",
       "      <td>12.9</td>\n",
       "      <td>0.4339</td>\n",
       "      <td>3.798997</td>\n",
       "    </tr>\n",
       "  </tbody>\n",
       "</table>\n",
       "</div>"
      ],
      "text/plain": [
       "   target  white_share  black_share  no_hs_percent  poverty_rate  \\\n",
       "0       1    69.047092     7.117306       7.226094          11.6   \n",
       "1       1    43.362996     6.108639      27.373007          60.8   \n",
       "2       1    88.892412     1.469034       8.803636          15.8   \n",
       "3       1    89.068408     0.527100      20.980864          22.7   \n",
       "4       1    22.863163     0.291513      23.699678          19.0   \n",
       "\n",
       "   mean_income_scale  un_rate    gini  pop_scale  \n",
       "0           0.323957      9.7  0.4546   3.167906  \n",
       "1          -1.407253     21.6  0.4636   0.081986  \n",
       "2           0.042138      4.0  0.3744  -0.012198  \n",
       "3          -0.262713     15.5  0.4844  -0.064404  \n",
       "4          -0.171268     12.9  0.4339   3.798997  "
      ]
     },
     "execution_count": 204,
     "metadata": {},
     "output_type": "execute_result"
    }
   ],
   "source": [
    "df1.head()"
   ]
  },
  {
   "cell_type": "code",
   "execution_count": 205,
   "metadata": {
    "collapsed": true
   },
   "outputs": [],
   "source": [
    "x1 = df1.iloc[:,1:].copy()\n",
    "y1 = df1[[\"target\"]].copy()"
   ]
  },
  {
   "cell_type": "markdown",
   "metadata": {},
   "source": [
    "Here I begin my logistic regression analysis"
   ]
  },
  {
   "cell_type": "code",
   "execution_count": 206,
   "metadata": {
    "collapsed": true
   },
   "outputs": [],
   "source": [
    "log1 = Logit(y1, x1)"
   ]
  },
  {
   "cell_type": "code",
   "execution_count": 207,
   "metadata": {
    "collapsed": false
   },
   "outputs": [
    {
     "name": "stdout",
     "output_type": "stream",
     "text": [
      "Optimization terminated successfully.\n",
      "         Current function value: 0.239926\n",
      "         Iterations 7\n"
     ]
    }
   ],
   "source": [
    "log1 = log1.fit()"
   ]
  },
  {
   "cell_type": "code",
   "execution_count": 208,
   "metadata": {
    "collapsed": false
   },
   "outputs": [
    {
     "data": {
      "text/html": [
       "<table class=\"simpletable\">\n",
       "<caption>Logit Regression Results</caption>\n",
       "<tr>\n",
       "  <th>Dep. Variable:</th>      <td>target</td>      <th>  No. Observations:  </th>  <td> 32333</td> \n",
       "</tr>\n",
       "<tr>\n",
       "  <th>Model:</th>               <td>Logit</td>      <th>  Df Residuals:      </th>  <td> 32325</td> \n",
       "</tr>\n",
       "<tr>\n",
       "  <th>Method:</th>               <td>MLE</td>       <th>  Df Model:          </th>  <td>     7</td> \n",
       "</tr>\n",
       "<tr>\n",
       "  <th>Date:</th>          <td>Mon, 09 May 2016</td> <th>  Pseudo R-squ.:     </th>  <td>0.1999</td> \n",
       "</tr>\n",
       "<tr>\n",
       "  <th>Time:</th>              <td>14:56:10</td>     <th>  Log-Likelihood:    </th> <td> -7757.5</td>\n",
       "</tr>\n",
       "<tr>\n",
       "  <th>converged:</th>           <td>True</td>       <th>  LL-Null:           </th> <td> -9696.2</td>\n",
       "</tr>\n",
       "<tr>\n",
       "  <th> </th>                      <td> </td>        <th>  LLR p-value:       </th>  <td> 0.000</td> \n",
       "</tr>\n",
       "</table>\n",
       "<table class=\"simpletable\">\n",
       "<tr>\n",
       "          <td></td>             <th>coef</th>     <th>std err</th>      <th>z</th>      <th>P>|z|</th> <th>[95.0% Conf. Int.]</th> \n",
       "</tr>\n",
       "<tr>\n",
       "  <th>white_share</th>       <td>   -0.0266</td> <td>    0.001</td> <td>  -26.356</td> <td> 0.000</td> <td>   -0.029    -0.025</td>\n",
       "</tr>\n",
       "<tr>\n",
       "  <th>black_share</th>       <td>   -0.0072</td> <td>    0.001</td> <td>   -5.219</td> <td> 0.000</td> <td>   -0.010    -0.004</td>\n",
       "</tr>\n",
       "<tr>\n",
       "  <th>no_hs_percent</th>     <td>   -0.0167</td> <td>    0.004</td> <td>   -4.274</td> <td> 0.000</td> <td>   -0.024    -0.009</td>\n",
       "</tr>\n",
       "<tr>\n",
       "  <th>poverty_rate</th>      <td>    0.0038</td> <td>    0.003</td> <td>    1.403</td> <td> 0.161</td> <td>   -0.001     0.009</td>\n",
       "</tr>\n",
       "<tr>\n",
       "  <th>mean_income_scale</th> <td>   -0.3165</td> <td>    0.036</td> <td>   -8.720</td> <td> 0.000</td> <td>   -0.388    -0.245</td>\n",
       "</tr>\n",
       "<tr>\n",
       "  <th>un_rate</th>           <td>   -0.0210</td> <td>    0.004</td> <td>   -5.076</td> <td> 0.000</td> <td>   -0.029    -0.013</td>\n",
       "</tr>\n",
       "<tr>\n",
       "  <th>gini</th>              <td>   -0.4939</td> <td>    0.285</td> <td>   -1.730</td> <td> 0.084</td> <td>   -1.053     0.066</td>\n",
       "</tr>\n",
       "<tr>\n",
       "  <th>pop_scale</th>         <td>    0.8595</td> <td>    0.018</td> <td>   47.678</td> <td> 0.000</td> <td>    0.824     0.895</td>\n",
       "</tr>\n",
       "</table>"
      ],
      "text/plain": [
       "<class 'statsmodels.iolib.summary.Summary'>\n",
       "\"\"\"\n",
       "                           Logit Regression Results                           \n",
       "==============================================================================\n",
       "Dep. Variable:                 target   No. Observations:                32333\n",
       "Model:                          Logit   Df Residuals:                    32325\n",
       "Method:                           MLE   Df Model:                            7\n",
       "Date:                Mon, 09 May 2016   Pseudo R-squ.:                  0.1999\n",
       "Time:                        14:56:10   Log-Likelihood:                -7757.5\n",
       "converged:                       True   LL-Null:                       -9696.2\n",
       "                                        LLR p-value:                     0.000\n",
       "=====================================================================================\n",
       "                        coef    std err          z      P>|z|      [95.0% Conf. Int.]\n",
       "-------------------------------------------------------------------------------------\n",
       "white_share          -0.0266      0.001    -26.356      0.000        -0.029    -0.025\n",
       "black_share          -0.0072      0.001     -5.219      0.000        -0.010    -0.004\n",
       "no_hs_percent        -0.0167      0.004     -4.274      0.000        -0.024    -0.009\n",
       "poverty_rate          0.0038      0.003      1.403      0.161        -0.001     0.009\n",
       "mean_income_scale    -0.3165      0.036     -8.720      0.000        -0.388    -0.245\n",
       "un_rate              -0.0210      0.004     -5.076      0.000        -0.029    -0.013\n",
       "gini                 -0.4939      0.285     -1.730      0.084        -1.053     0.066\n",
       "pop_scale             0.8595      0.018     47.678      0.000         0.824     0.895\n",
       "=====================================================================================\n",
       "\"\"\""
      ]
     },
     "execution_count": 208,
     "metadata": {},
     "output_type": "execute_result"
    }
   ],
   "source": [
    "log1.summary()"
   ]
  },
  {
   "cell_type": "code",
   "execution_count": 209,
   "metadata": {
    "collapsed": true
   },
   "outputs": [],
   "source": [
    "x2 = df2.iloc[:,1:]\n",
    "y2 = df2[[\"target\"]]"
   ]
  },
  {
   "cell_type": "code",
   "execution_count": 210,
   "metadata": {
    "collapsed": false
   },
   "outputs": [
    {
     "name": "stdout",
     "output_type": "stream",
     "text": [
      "Optimization terminated successfully.\n",
      "         Current function value: 0.238390\n",
      "         Iterations 7\n"
     ]
    },
    {
     "data": {
      "text/html": [
       "<table class=\"simpletable\">\n",
       "<caption>Logit Regression Results</caption>\n",
       "<tr>\n",
       "  <th>Dep. Variable:</th>      <td>target</td>      <th>  No. Observations:  </th>  <td> 32333</td> \n",
       "</tr>\n",
       "<tr>\n",
       "  <th>Model:</th>               <td>Logit</td>      <th>  Df Residuals:      </th>  <td> 32325</td> \n",
       "</tr>\n",
       "<tr>\n",
       "  <th>Method:</th>               <td>MLE</td>       <th>  Df Model:          </th>  <td>     7</td> \n",
       "</tr>\n",
       "<tr>\n",
       "  <th>Date:</th>          <td>Mon, 09 May 2016</td> <th>  Pseudo R-squ.:     </th>  <td>0.2051</td> \n",
       "</tr>\n",
       "<tr>\n",
       "  <th>Time:</th>              <td>14:56:18</td>     <th>  Log-Likelihood:    </th> <td> -7707.9</td>\n",
       "</tr>\n",
       "<tr>\n",
       "  <th>converged:</th>           <td>True</td>       <th>  LL-Null:           </th> <td> -9696.2</td>\n",
       "</tr>\n",
       "<tr>\n",
       "  <th> </th>                      <td> </td>        <th>  LLR p-value:       </th>  <td> 0.000</td> \n",
       "</tr>\n",
       "</table>\n",
       "<table class=\"simpletable\">\n",
       "<tr>\n",
       "           <td></td>              <th>coef</th>     <th>std err</th>      <th>z</th>      <th>P>|z|</th> <th>[95.0% Conf. Int.]</th> \n",
       "</tr>\n",
       "<tr>\n",
       "  <th>white_share</th>         <td>   -0.0247</td> <td>    0.001</td> <td>  -24.391</td> <td> 0.000</td> <td>   -0.027    -0.023</td>\n",
       "</tr>\n",
       "<tr>\n",
       "  <th>black_share</th>         <td>   -0.0063</td> <td>    0.001</td> <td>   -4.576</td> <td> 0.000</td> <td>   -0.009    -0.004</td>\n",
       "</tr>\n",
       "<tr>\n",
       "  <th>no_hs_percent</th>       <td>   -0.0195</td> <td>    0.004</td> <td>   -4.965</td> <td> 0.000</td> <td>   -0.027    -0.012</td>\n",
       "</tr>\n",
       "<tr>\n",
       "  <th>poverty_rate</th>        <td>   -0.0016</td> <td>    0.003</td> <td>   -0.556</td> <td> 0.578</td> <td>   -0.007     0.004</td>\n",
       "</tr>\n",
       "<tr>\n",
       "  <th>median_income_scale</th> <td>   -0.4453</td> <td>    0.035</td> <td>  -12.599</td> <td> 0.000</td> <td>   -0.515    -0.376</td>\n",
       "</tr>\n",
       "<tr>\n",
       "  <th>un_rate</th>             <td>   -0.0182</td> <td>    0.004</td> <td>   -4.438</td> <td> 0.000</td> <td>   -0.026    -0.010</td>\n",
       "</tr>\n",
       "<tr>\n",
       "  <th>gini</th>                <td>   -0.7512</td> <td>    0.269</td> <td>   -2.794</td> <td> 0.005</td> <td>   -1.278    -0.224</td>\n",
       "</tr>\n",
       "<tr>\n",
       "  <th>pop_scale</th>           <td>    0.8870</td> <td>    0.018</td> <td>   48.395</td> <td> 0.000</td> <td>    0.851     0.923</td>\n",
       "</tr>\n",
       "</table>"
      ],
      "text/plain": [
       "<class 'statsmodels.iolib.summary.Summary'>\n",
       "\"\"\"\n",
       "                           Logit Regression Results                           \n",
       "==============================================================================\n",
       "Dep. Variable:                 target   No. Observations:                32333\n",
       "Model:                          Logit   Df Residuals:                    32325\n",
       "Method:                           MLE   Df Model:                            7\n",
       "Date:                Mon, 09 May 2016   Pseudo R-squ.:                  0.2051\n",
       "Time:                        14:56:18   Log-Likelihood:                -7707.9\n",
       "converged:                       True   LL-Null:                       -9696.2\n",
       "                                        LLR p-value:                     0.000\n",
       "=======================================================================================\n",
       "                          coef    std err          z      P>|z|      [95.0% Conf. Int.]\n",
       "---------------------------------------------------------------------------------------\n",
       "white_share            -0.0247      0.001    -24.391      0.000        -0.027    -0.023\n",
       "black_share            -0.0063      0.001     -4.576      0.000        -0.009    -0.004\n",
       "no_hs_percent          -0.0195      0.004     -4.965      0.000        -0.027    -0.012\n",
       "poverty_rate           -0.0016      0.003     -0.556      0.578        -0.007     0.004\n",
       "median_income_scale    -0.4453      0.035    -12.599      0.000        -0.515    -0.376\n",
       "un_rate                -0.0182      0.004     -4.438      0.000        -0.026    -0.010\n",
       "gini                   -0.7512      0.269     -2.794      0.005        -1.278    -0.224\n",
       "pop_scale               0.8870      0.018     48.395      0.000         0.851     0.923\n",
       "=======================================================================================\n",
       "\"\"\""
      ]
     },
     "execution_count": 210,
     "metadata": {},
     "output_type": "execute_result"
    }
   ],
   "source": [
    "log2 = Logit(y2, x2)\n",
    "log2 = log2.fit()\n",
    "log2.summary()"
   ]
  },
  {
   "cell_type": "code",
   "execution_count": 211,
   "metadata": {
    "collapsed": false
   },
   "outputs": [
    {
     "name": "stderr",
     "output_type": "stream",
     "text": [
      "/Users/georgemcintire/anaconda/lib/python2.7/site-packages/sklearn/utils/validation.py:515: DataConversionWarning: A column-vector y was passed when a 1d array was expected. Please change the shape of y to (n_samples, ), for example using ravel().\n",
      "  y = column_or_1d(y, warn=True)\n"
     ]
    },
    {
     "data": {
      "text/plain": [
       "0.91238054000556712"
      ]
     },
     "execution_count": 211,
     "metadata": {},
     "output_type": "execute_result"
    }
   ],
   "source": [
    "lr1 = LogisticRegression()\n",
    "lr1 = lr1.fit(x1, y1)\n",
    "lr1.score(x1, y1)"
   ]
  },
  {
   "cell_type": "code",
   "execution_count": 212,
   "metadata": {
    "collapsed": false
   },
   "outputs": [
    {
     "name": "stderr",
     "output_type": "stream",
     "text": [
      "/Users/georgemcintire/anaconda/lib/python2.7/site-packages/sklearn/utils/validation.py:515: DataConversionWarning: A column-vector y was passed when a 1d array was expected. Please change the shape of y to (n_samples, ), for example using ravel().\n",
      "  y = column_or_1d(y, warn=True)\n"
     ]
    },
    {
     "data": {
      "text/plain": [
       "0.91247332446726259"
      ]
     },
     "execution_count": 212,
     "metadata": {},
     "output_type": "execute_result"
    }
   ],
   "source": [
    "lr2 = LogisticRegression()\n",
    "lr2 = lr2.fit(x2, y2)\n",
    "lr2.score(x2, y2)"
   ]
  },
  {
   "cell_type": "code",
   "execution_count": 213,
   "metadata": {
    "collapsed": true
   },
   "outputs": [],
   "source": [
    "yrav = np.ravel(y1)"
   ]
  },
  {
   "cell_type": "code",
   "execution_count": 214,
   "metadata": {
    "collapsed": false
   },
   "outputs": [
    {
     "data": {
      "text/plain": [
       "0.91238054000556712"
      ]
     },
     "execution_count": 214,
     "metadata": {},
     "output_type": "execute_result"
    }
   ],
   "source": [
    "lr3 = LogisticRegression()\n",
    "lr3 = lr3.fit(x1, yrav)\n",
    "lr3.score(x1, yrav)"
   ]
  },
  {
   "cell_type": "code",
   "execution_count": 215,
   "metadata": {
    "collapsed": false
   },
   "outputs": [
    {
     "data": {
      "text/plain": [
       "target    0.088857\n",
       "dtype: float64"
      ]
     },
     "execution_count": 215,
     "metadata": {},
     "output_type": "execute_result"
    }
   ],
   "source": [
    "y1.mean()"
   ]
  },
  {
   "cell_type": "code",
   "execution_count": 216,
   "metadata": {
    "collapsed": false
   },
   "outputs": [],
   "source": [
    "x_train_1, x_test_1, y_train_1, y_test_1 = train_test_split(x1, np.ravel(y1), test_size=0.25)\n",
    "model = LogisticRegression(class_weight=\"balanced\")\n",
    "model = model.fit(x_train_1, y_train_1)"
   ]
  },
  {
   "cell_type": "code",
   "execution_count": 222,
   "metadata": {
    "collapsed": false
   },
   "outputs": [],
   "source": [
    "pred = model.predict(x_test_1)"
   ]
  },
  {
   "cell_type": "code",
   "execution_count": 220,
   "metadata": {
    "collapsed": false
   },
   "outputs": [
    {
     "data": {
      "text/plain": [
       "(8084,)"
      ]
     },
     "execution_count": 220,
     "metadata": {},
     "output_type": "execute_result"
    }
   ],
   "source": [
    "y_test_1.shape"
   ]
  },
  {
   "cell_type": "code",
   "execution_count": 221,
   "metadata": {
    "collapsed": false
   },
   "outputs": [
    {
     "data": {
      "text/plain": [
       "(32333,)"
      ]
     },
     "execution_count": 221,
     "metadata": {},
     "output_type": "execute_result"
    }
   ],
   "source": [
    "pred.shape"
   ]
  },
  {
   "cell_type": "code",
   "execution_count": 223,
   "metadata": {
    "collapsed": false
   },
   "outputs": [
    {
     "data": {
      "text/plain": [
       "['             precision    recall  f1-score   support',\n",
       " '',\n",
       " '        0.0       0.97      0.82      0.89      7386',\n",
       " '        1.0       0.28      0.76      0.41       698',\n",
       " '',\n",
       " 'avg / total       0.91      0.81      0.85      8084',\n",
       " '']"
      ]
     },
     "execution_count": 223,
     "metadata": {},
     "output_type": "execute_result"
    }
   ],
   "source": [
    "str(classification_report(y_test_1, pred)).split(\"\\n\")"
   ]
  },
  {
   "cell_type": "code",
   "execution_count": 224,
   "metadata": {
    "collapsed": true
   },
   "outputs": [],
   "source": [
    "x_train_2, x_test_2, y_train_2, y_test_2 = train_test_split(x1, np.ravel(y1), test_size=0.25)\n",
    "model2 = LogisticRegression()\n",
    "model2 = model2.fit(x_train_2, y_train_2)"
   ]
  },
  {
   "cell_type": "code",
   "execution_count": 232,
   "metadata": {
    "collapsed": false
   },
   "outputs": [],
   "source": [
    "prob2 = model2.predict_proba(x_test_2)[:,1]"
   ]
  },
  {
   "cell_type": "code",
   "execution_count": 226,
   "metadata": {
    "collapsed": true
   },
   "outputs": [],
   "source": [
    "pred2 = model2.predict(x_train_2)"
   ]
  },
  {
   "cell_type": "code",
   "execution_count": 227,
   "metadata": {
    "collapsed": true
   },
   "outputs": [],
   "source": [
    "def threshold(pred,t):\n",
    "    output = []\n",
    "    for i in pred[:,1]:\n",
    "        if i>=t:\n",
    "            output.append(1)\n",
    "        else:\n",
    "            output.append(0)\n",
    "    return np.asarray(output)"
   ]
  },
  {
   "cell_type": "code",
   "execution_count": 230,
   "metadata": {
    "collapsed": false
   },
   "outputs": [
    {
     "data": {
      "text/plain": [
       "array([ 0.03915789,  0.17204435,  0.02364571, ...,  0.04834391,\n",
       "        0.02792932,  0.16330033])"
      ]
     },
     "execution_count": 230,
     "metadata": {},
     "output_type": "execute_result"
    }
   ],
   "source": [
    "prob2"
   ]
  },
  {
   "cell_type": "code",
   "execution_count": 233,
   "metadata": {
    "collapsed": false
   },
   "outputs": [
    {
     "data": {
      "text/plain": [
       "0.85696883480999098"
      ]
     },
     "execution_count": 233,
     "metadata": {},
     "output_type": "execute_result"
    }
   ],
   "source": [
    "roc_auc_score(y_test_2, prob2)"
   ]
  },
  {
   "cell_type": "code",
   "execution_count": 235,
   "metadata": {
    "collapsed": false
   },
   "outputs": [
    {
     "data": {
      "text/plain": [
       "array([ 0.38666667,  0.70491803,  0.51260504,  0.4375    ,  0.55072464,\n",
       "        0.95121951,  0.56666667,  0.6744186 ,  0.4368932 ,  0.21925134])"
      ]
     },
     "execution_count": 235,
     "metadata": {},
     "output_type": "execute_result"
    }
   ],
   "source": [
    "cross_val_score(LogisticRegression(), x1, np.ravel(y1), scoring='precision', cv=10)"
   ]
  },
  {
   "cell_type": "code",
   "execution_count": 236,
   "metadata": {
    "collapsed": false
   },
   "outputs": [],
   "source": [
    "stuff = LogisticRegression()\n",
    "stuff = stuff.fit(x1, np.ravel(y1))\n",
    "stuff_pred = stuff.predict_proba(x1)"
   ]
  },
  {
   "cell_type": "code",
   "execution_count": 237,
   "metadata": {
    "collapsed": false
   },
   "outputs": [],
   "source": [
    "test_prob = model2.predict_proba(x_test_2)[:,1]"
   ]
  },
  {
   "cell_type": "code",
   "execution_count": 241,
   "metadata": {
    "collapsed": false
   },
   "outputs": [],
   "source": [
    "y_train_prob = model2.predict_proba(x_train_2)[:,1]"
   ]
  },
  {
   "cell_type": "code",
   "execution_count": 242,
   "metadata": {
    "collapsed": false
   },
   "outputs": [],
   "source": [
    "auc_train = roc_auc_score(y_train_2, y_train_prob)\n",
    "auc_test = roc_auc_score(y_test_2, test_prob)\n",
    "auc_diff = auc_train - auc_test\n"
   ]
  },
  {
   "cell_type": "code",
   "execution_count": 243,
   "metadata": {
    "collapsed": true
   },
   "outputs": [],
   "source": [
    "roc_train = roc_curve(y_train_2, y_train_prob)\n",
    "roc_test = roc_curve(y_test_2, test_prob)"
   ]
  },
  {
   "cell_type": "code",
   "execution_count": 244,
   "metadata": {
    "collapsed": false
   },
   "outputs": [
    {
     "data": {
      "text/plain": [
       "[<matplotlib.lines.Line2D at 0x139ed6150>]"
      ]
     },
     "execution_count": 244,
     "metadata": {},
     "output_type": "execute_result"
    },
    {
     "data": {
      "image/png": "[encoded data removed]",
      "text/plain": [
       "<matplotlib.figure.Figure at 0x126be5690>"
      ]
     },
     "metadata": {},
     "output_type": "display_data"
    }
   ],
   "source": [
    "plt.plot(roc_train[0], roc_train[1])"
   ]
  },
  {
   "cell_type": "code",
   "execution_count": 245,
   "metadata": {
    "collapsed": false
   },
   "outputs": [
    {
     "data": {
      "text/plain": [
       "[<matplotlib.lines.Line2D at 0x12c035790>]"
      ]
     },
     "execution_count": 245,
     "metadata": {},
     "output_type": "execute_result"
    },
    {
     "data": {
      "image/png": "[encoded data removed]",
      "text/plain": [
       "<matplotlib.figure.Figure at 0x13be07950>"
      ]
     },
     "metadata": {},
     "output_type": "display_data"
    }
   ],
   "source": [
    "plt.plot(roc_test[0], roc_test[1])"
   ]
  },
  {
   "cell_type": "code",
   "execution_count": 247,
   "metadata": {
    "collapsed": false
   },
   "outputs": [
    {
     "name": "stdout",
     "output_type": "stream",
     "text": [
      "Accuracy Scores\n",
      "[ 0.78849722  0.86889301  0.76035869  0.65635633  0.80791834  0.90906279\n",
      "  0.87658521  0.86235694  0.77358491  0.63501392]\n",
      "Accuracy Score mean\n",
      "0.793862735883\n",
      "\n",
      "________________________________________________________________________________________________ \n",
      "\n",
      "F1 Scores\n",
      "[ 0.26484018  0.24641834  0.2997543   0.21932115  0.21348315  0.23780488\n",
      "  0.19596542  0.18126888  0.23136247  0.17299578]\n",
      "F1 mean\n",
      "0.226321454195\n",
      "\n",
      "________________________________________________________________________________________________ \n",
      "\n",
      "Recall Scores\n",
      "[ 0.20138889  0.14930556  0.21180556  0.14634146  0.13240418  0.1358885\n",
      "  0.1184669   0.10452962  0.15679443  0.14285714]\n",
      "Recall mean\n",
      "0.149978222997\n",
      "\n",
      "________________________________________________________________________________________________ \n",
      "\n",
      "Precision Scores\n",
      "[ 0.38666667  0.70491803  0.51260504  0.4375      0.55072464  0.95121951\n",
      "  0.56666667  0.68181818  0.44117647  0.21989529]\n",
      "Precision mean\n",
      "0.545319049838\n"
     ]
    }
   ],
   "source": [
    "cv_scores = cross_val_score(LogisticRegression(class_weight=\"balanced\"), x1, np.ravel(y1), scoring='accuracy', cv=10)\n",
    "print \"Accuracy Scores\"\n",
    "print cv_scores\n",
    "print \"Accuracy Score mean\"\n",
    "print cv_scores.mean()\n",
    "print \"\\n\", \"________________________________________________________________________________________________\", \"\\n\"\n",
    "\n",
    "cv_scores_f1 = cross_val_score(LogisticRegression(), x1, np.ravel(y1), scoring='f1', cv=10)\n",
    "print \"F1 Scores\"\n",
    "print cv_scores_f1\n",
    "print \"F1 mean\"\n",
    "print cv_scores_f1.mean()\n",
    "\n",
    "print \"\\n\", \"________________________________________________________________________________________________\", \"\\n\"\n",
    "\n",
    "cv_scores_recall = cross_val_score(LogisticRegression(), x1, np.ravel(y1), scoring='recall', cv=10)\n",
    "print \"Recall Scores\"\n",
    "print cv_scores_recall\n",
    "print \"Recall mean\"\n",
    "print cv_scores_recall.mean()\n",
    "\n",
    "print \"\\n\", \"________________________________________________________________________________________________\",\"\\n\"\n",
    "\n",
    "cv_scores_precision = cross_val_score(LogisticRegression(), x1, np.ravel(y1), scoring='precision', cv=10)\n",
    "print \"Precision Scores\"\n",
    "print cv_scores_precision\n",
    "print \"Precision mean\"\n",
    "print cv_scores_precision.mean()"
   ]
  },
  {
   "cell_type": "code",
   "execution_count": 273,
   "metadata": {
    "collapsed": false
   },
   "outputs": [],
   "source": [
    "final[\"white_share_scale\"] = scale(final[\"white_share\"])\n",
    "final[\"no_hs_scale\"] = scale(final[\"no_hs_percent\"])\n",
    "final[\"poverty_rate_scale\"] = scale(final[\"poverty_rate\"])\n",
    "final[\"un_rate_scale\"] = scale(final[\"un_rate\"])\n",
    "dff = final[[\"target\", \"white_share_scale\", \"no_hs_scale\", \"median_income_scale\", \"poverty_rate_scale\", \"un_rate_scale\"]].copy()"
   ]
  },
  {
   "cell_type": "code",
   "execution_count": 274,
   "metadata": {
    "collapsed": false
   },
   "outputs": [],
   "source": [
    "yy = dff[\"target\"].copy()\n",
    "xx = dff[[\"white_share_scale\", \"no_hs_scale\",\"median_income_scale\", \"poverty_rate_scale\", \"un_rate_scale\"]].copy()\n",
    "yy = np.ravel(yy)"
   ]
  },
  {
   "cell_type": "code",
   "execution_count": 275,
   "metadata": {
    "collapsed": false
   },
   "outputs": [
    {
     "name": "stdout",
     "output_type": "stream",
     "text": [
      "Optimization terminated successfully.\n",
      "         Current function value: 0.685064\n",
      "         Iterations 4\n"
     ]
    },
    {
     "data": {
      "text/html": [
       "<table class=\"simpletable\">\n",
       "<caption>Logit Regression Results</caption>\n",
       "<tr>\n",
       "  <th>Dep. Variable:</th>         <td>y</td>        <th>  No. Observations:  </th>  <td> 32333</td> \n",
       "</tr>\n",
       "<tr>\n",
       "  <th>Model:</th>               <td>Logit</td>      <th>  Df Residuals:      </th>  <td> 32328</td> \n",
       "</tr>\n",
       "<tr>\n",
       "  <th>Method:</th>               <td>MLE</td>       <th>  Df Model:          </th>  <td>     4</td> \n",
       "</tr>\n",
       "<tr>\n",
       "  <th>Date:</th>          <td>Mon, 09 May 2016</td> <th>  Pseudo R-squ.:     </th>  <td>-1.284</td> \n",
       "</tr>\n",
       "<tr>\n",
       "  <th>Time:</th>              <td>15:18:58</td>     <th>  Log-Likelihood:    </th> <td> -22150.</td>\n",
       "</tr>\n",
       "<tr>\n",
       "  <th>converged:</th>           <td>True</td>       <th>  LL-Null:           </th> <td> -9696.2</td>\n",
       "</tr>\n",
       "<tr>\n",
       "  <th> </th>                      <td> </td>        <th>  LLR p-value:       </th>  <td> 1.000</td> \n",
       "</tr>\n",
       "</table>\n",
       "<table class=\"simpletable\">\n",
       "<tr>\n",
       "           <td></td>              <th>coef</th>     <th>std err</th>      <th>z</th>      <th>P>|z|</th> <th>[95.0% Conf. Int.]</th> \n",
       "</tr>\n",
       "<tr>\n",
       "  <th>white_share_scale</th>   <td>   -0.2541</td> <td>    0.013</td> <td>  -19.730</td> <td> 0.000</td> <td>   -0.279    -0.229</td>\n",
       "</tr>\n",
       "<tr>\n",
       "  <th>no_hs_scale</th>         <td>   -0.0101</td> <td>    0.013</td> <td>   -0.782</td> <td> 0.434</td> <td>   -0.035     0.015</td>\n",
       "</tr>\n",
       "<tr>\n",
       "  <th>median_income_scale</th> <td>    0.0005</td> <td>    0.014</td> <td>    0.033</td> <td> 0.974</td> <td>   -0.027     0.028</td>\n",
       "</tr>\n",
       "<tr>\n",
       "  <th>poverty_rate_scale</th>  <td>    0.0285</td> <td>    0.015</td> <td>    1.921</td> <td> 0.055</td> <td>   -0.001     0.058</td>\n",
       "</tr>\n",
       "<tr>\n",
       "  <th>un_rate_scale</th>       <td>   -0.0061</td> <td>    0.013</td> <td>   -0.487</td> <td> 0.626</td> <td>   -0.031     0.019</td>\n",
       "</tr>\n",
       "</table>"
      ],
      "text/plain": [
       "<class 'statsmodels.iolib.summary.Summary'>\n",
       "\"\"\"\n",
       "                           Logit Regression Results                           \n",
       "==============================================================================\n",
       "Dep. Variable:                      y   No. Observations:                32333\n",
       "Model:                          Logit   Df Residuals:                    32328\n",
       "Method:                           MLE   Df Model:                            4\n",
       "Date:                Mon, 09 May 2016   Pseudo R-squ.:                  -1.284\n",
       "Time:                        15:18:58   Log-Likelihood:                -22150.\n",
       "converged:                       True   LL-Null:                       -9696.2\n",
       "                                        LLR p-value:                     1.000\n",
       "=======================================================================================\n",
       "                          coef    std err          z      P>|z|      [95.0% Conf. Int.]\n",
       "---------------------------------------------------------------------------------------\n",
       "white_share_scale      -0.2541      0.013    -19.730      0.000        -0.279    -0.229\n",
       "no_hs_scale            -0.0101      0.013     -0.782      0.434        -0.035     0.015\n",
       "median_income_scale     0.0005      0.014      0.033      0.974        -0.027     0.028\n",
       "poverty_rate_scale      0.0285      0.015      1.921      0.055        -0.001     0.058\n",
       "un_rate_scale          -0.0061      0.013     -0.487      0.626        -0.031     0.019\n",
       "=======================================================================================\n",
       "\"\"\""
      ]
     },
     "execution_count": 275,
     "metadata": {},
     "output_type": "execute_result"
    }
   ],
   "source": [
    "logg = Logit(yy,xx)\n",
    "logg = logg.fit()\n",
    "logg.summary()"
   ]
  },
  {
   "cell_type": "code",
   "execution_count": 276,
   "metadata": {
    "collapsed": false
   },
   "outputs": [
    {
     "data": {
      "text/plain": [
       "0.91083413231064236"
      ]
     },
     "execution_count": 276,
     "metadata": {},
     "output_type": "execute_result"
    }
   ],
   "source": [
    "lg = LogisticRegression()\n",
    "lg = lg.fit(xx,yy)\n",
    "lg.score(xx,yy)"
   ]
  },
  {
   "cell_type": "code",
   "execution_count": 277,
   "metadata": {
    "collapsed": false
   },
   "outputs": [],
   "source": [
    "cof = pd.DataFrame(zip(xx.columns, np.transpose(lg.coef_)), columns=[\"coef\", \"value\"])"
   ]
  },
  {
   "cell_type": "code",
   "execution_count": 278,
   "metadata": {
    "collapsed": false
   },
   "outputs": [],
   "source": [
    "e= [i[0,] for i in cof.value]"
   ]
  },
  {
   "cell_type": "code",
   "execution_count": 279,
   "metadata": {
    "collapsed": false
   },
   "outputs": [],
   "source": [
    "e = list(e)"
   ]
  },
  {
   "cell_type": "code",
   "execution_count": 280,
   "metadata": {
    "collapsed": false
   },
   "outputs": [],
   "source": [
    "e = np.asarray(e)"
   ]
  },
  {
   "cell_type": "code",
   "execution_count": 281,
   "metadata": {
    "collapsed": true
   },
   "outputs": [],
   "source": [
    "cof[\"value\"] = e"
   ]
  },
  {
   "cell_type": "code",
   "execution_count": 282,
   "metadata": {
    "collapsed": false
   },
   "outputs": [
    {
     "data": {
      "text/plain": [
       "0   -0.532984\n",
       "1   -0.015939\n",
       "2    0.031405\n",
       "3    0.082725\n",
       "4   -0.036767\n",
       "Name: value, dtype: float64"
      ]
     },
     "execution_count": 282,
     "metadata": {},
     "output_type": "execute_result"
    }
   ],
   "source": [
    "cof.value.astype(float, inplace=True)"
   ]
  },
  {
   "cell_type": "code",
   "execution_count": 283,
   "metadata": {
    "collapsed": false
   },
   "outputs": [
    {
     "data": {
      "text/plain": [
       "coef      object\n",
       "value    float64\n",
       "dtype: object"
      ]
     },
     "execution_count": 283,
     "metadata": {},
     "output_type": "execute_result"
    }
   ],
   "source": [
    "cof.dtypes"
   ]
  },
  {
   "cell_type": "code",
   "execution_count": 284,
   "metadata": {
    "collapsed": false
   },
   "outputs": [],
   "source": [
    "from math import e"
   ]
  },
  {
   "cell_type": "code",
   "execution_count": 285,
   "metadata": {
    "collapsed": false
   },
   "outputs": [],
   "source": [
    "cof[\"e\"] = np.e**cof[\"value\"]"
   ]
  },
  {
   "cell_type": "code",
   "execution_count": 286,
   "metadata": {
    "collapsed": false
   },
   "outputs": [
    {
     "data": {
      "text/html": [
       "<div>\n",
       "<table border=\"1\" class=\"dataframe\">\n",
       "  <thead>\n",
       "    <tr style=\"text-align: right;\">\n",
       "      <th></th>\n",
       "      <th>coef</th>\n",
       "      <th>value</th>\n",
       "      <th>e</th>\n",
       "    </tr>\n",
       "  </thead>\n",
       "  <tbody>\n",
       "    <tr>\n",
       "      <th>0</th>\n",
       "      <td>white_share_scale</td>\n",
       "      <td>-0.532984</td>\n",
       "      <td>0.586851</td>\n",
       "    </tr>\n",
       "    <tr>\n",
       "      <th>1</th>\n",
       "      <td>no_hs_scale</td>\n",
       "      <td>-0.015939</td>\n",
       "      <td>0.984187</td>\n",
       "    </tr>\n",
       "    <tr>\n",
       "      <th>2</th>\n",
       "      <td>median_income_scale</td>\n",
       "      <td>0.031405</td>\n",
       "      <td>1.031904</td>\n",
       "    </tr>\n",
       "    <tr>\n",
       "      <th>3</th>\n",
       "      <td>poverty_rate_scale</td>\n",
       "      <td>0.082725</td>\n",
       "      <td>1.086243</td>\n",
       "    </tr>\n",
       "    <tr>\n",
       "      <th>4</th>\n",
       "      <td>un_rate_scale</td>\n",
       "      <td>-0.036767</td>\n",
       "      <td>0.963901</td>\n",
       "    </tr>\n",
       "  </tbody>\n",
       "</table>\n",
       "</div>"
      ],
      "text/plain": [
       "                  coef     value         e\n",
       "0    white_share_scale -0.532984  0.586851\n",
       "1          no_hs_scale -0.015939  0.984187\n",
       "2  median_income_scale  0.031405  1.031904\n",
       "3   poverty_rate_scale  0.082725  1.086243\n",
       "4        un_rate_scale -0.036767  0.963901"
      ]
     },
     "execution_count": 286,
     "metadata": {},
     "output_type": "execute_result"
    }
   ],
   "source": [
    "cof"
   ]
  },
  {
   "cell_type": "code",
   "execution_count": 287,
   "metadata": {
    "collapsed": true
   },
   "outputs": [],
   "source": [
    "# lg = LogisticRegression()\n",
    "# lg = lg.fit(xx,yy)\n",
    "# lg.score(xx,yy)\n",
    "\n",
    "\n",
    "def log_reg_sklearn(table):\n",
    "    x = table.iloc[:,1:]\n",
    "    y = table[[0]]\n",
    "    y = np.ravel(y)\n",
    "    model = LogisticRegression(class_weight=\"balanced\")\n",
    "    model = model.fit(x,y)\n",
    "    df = pd.DataFrame(zip(x.columns, np.transpose(model.coef_)), columns=[\"coef\", \"value\"])\n",
    "    f = np.asarray([i[0,] for i in df.value])\n",
    "    df[\"value\"] = f\n",
    "    df[\"e\"] = np.e**f\n",
    "    return df\n",
    "    "
   ]
  },
  {
   "cell_type": "code",
   "execution_count": 288,
   "metadata": {
    "collapsed": false
   },
   "outputs": [
    {
     "data": {
      "text/html": [
       "<div>\n",
       "<table border=\"1\" class=\"dataframe\">\n",
       "  <thead>\n",
       "    <tr style=\"text-align: right;\">\n",
       "      <th></th>\n",
       "      <th>coef</th>\n",
       "      <th>value</th>\n",
       "      <th>e</th>\n",
       "    </tr>\n",
       "  </thead>\n",
       "  <tbody>\n",
       "    <tr>\n",
       "      <th>0</th>\n",
       "      <td>white_share_scale</td>\n",
       "      <td>-0.701208</td>\n",
       "      <td>0.495986</td>\n",
       "    </tr>\n",
       "    <tr>\n",
       "      <th>1</th>\n",
       "      <td>no_hs_scale</td>\n",
       "      <td>-0.051208</td>\n",
       "      <td>0.950081</td>\n",
       "    </tr>\n",
       "    <tr>\n",
       "      <th>2</th>\n",
       "      <td>median_income_scale</td>\n",
       "      <td>0.054823</td>\n",
       "      <td>1.056354</td>\n",
       "    </tr>\n",
       "    <tr>\n",
       "      <th>3</th>\n",
       "      <td>poverty_rate_scale</td>\n",
       "      <td>0.140622</td>\n",
       "      <td>1.150989</td>\n",
       "    </tr>\n",
       "    <tr>\n",
       "      <th>4</th>\n",
       "      <td>un_rate_scale</td>\n",
       "      <td>0.002458</td>\n",
       "      <td>1.002461</td>\n",
       "    </tr>\n",
       "  </tbody>\n",
       "</table>\n",
       "</div>"
      ],
      "text/plain": [
       "                  coef     value         e\n",
       "0    white_share_scale -0.701208  0.495986\n",
       "1          no_hs_scale -0.051208  0.950081\n",
       "2  median_income_scale  0.054823  1.056354\n",
       "3   poverty_rate_scale  0.140622  1.150989\n",
       "4        un_rate_scale  0.002458  1.002461"
      ]
     },
     "execution_count": 288,
     "metadata": {},
     "output_type": "execute_result"
    }
   ],
   "source": [
    "log_reg_sklearn(dff)"
   ]
  },
  {
   "cell_type": "code",
   "execution_count": 289,
   "metadata": {
    "collapsed": false
   },
   "outputs": [],
   "source": [
    "fd = dff.copy()"
   ]
  },
  {
   "cell_type": "code",
   "execution_count": 290,
   "metadata": {
    "collapsed": false
   },
   "outputs": [
    {
     "data": {
      "text/html": [
       "<div>\n",
       "<table border=\"1\" class=\"dataframe\">\n",
       "  <thead>\n",
       "    <tr style=\"text-align: right;\">\n",
       "      <th></th>\n",
       "      <th>target</th>\n",
       "      <th>white_share_scale</th>\n",
       "      <th>no_hs_scale</th>\n",
       "      <th>median_income_scale</th>\n",
       "      <th>poverty_rate_scale</th>\n",
       "      <th>un_rate_scale</th>\n",
       "    </tr>\n",
       "  </thead>\n",
       "  <tbody>\n",
       "    <tr>\n",
       "      <th>0</th>\n",
       "      <td>1</td>\n",
       "      <td>-0.730828</td>\n",
       "      <td>-0.314910</td>\n",
       "      <td>0.108783</td>\n",
       "      <td>-0.316877</td>\n",
       "      <td>0.115866</td>\n",
       "    </tr>\n",
       "    <tr>\n",
       "      <th>1</th>\n",
       "      <td>1</td>\n",
       "      <td>-1.971253</td>\n",
       "      <td>2.385235</td>\n",
       "      <td>-1.521251</td>\n",
       "      <td>3.782409</td>\n",
       "      <td>1.724995</td>\n",
       "    </tr>\n",
       "    <tr>\n",
       "      <th>2</th>\n",
       "      <td>1</td>\n",
       "      <td>0.227611</td>\n",
       "      <td>-0.103484</td>\n",
       "      <td>0.187648</td>\n",
       "      <td>0.033062</td>\n",
       "      <td>-0.654893</td>\n",
       "    </tr>\n",
       "    <tr>\n",
       "      <th>3</th>\n",
       "      <td>1</td>\n",
       "      <td>0.236111</td>\n",
       "      <td>1.528542</td>\n",
       "      <td>-0.531910</td>\n",
       "      <td>0.607962</td>\n",
       "      <td>0.900148</td>\n",
       "    </tr>\n",
       "    <tr>\n",
       "      <th>4</th>\n",
       "      <td>1</td>\n",
       "      <td>-2.961301</td>\n",
       "      <td>1.892925</td>\n",
       "      <td>-0.248833</td>\n",
       "      <td>0.299683</td>\n",
       "      <td>0.548573</td>\n",
       "    </tr>\n",
       "  </tbody>\n",
       "</table>\n",
       "</div>"
      ],
      "text/plain": [
       "   target  white_share_scale  no_hs_scale  median_income_scale  \\\n",
       "0       1          -0.730828    -0.314910             0.108783   \n",
       "1       1          -1.971253     2.385235            -1.521251   \n",
       "2       1           0.227611    -0.103484             0.187648   \n",
       "3       1           0.236111     1.528542            -0.531910   \n",
       "4       1          -2.961301     1.892925            -0.248833   \n",
       "\n",
       "   poverty_rate_scale  un_rate_scale  \n",
       "0           -0.316877       0.115866  \n",
       "1            3.782409       1.724995  \n",
       "2            0.033062      -0.654893  \n",
       "3            0.607962       0.900148  \n",
       "4            0.299683       0.548573  "
      ]
     },
     "execution_count": 290,
     "metadata": {},
     "output_type": "execute_result"
    }
   ],
   "source": [
    "fd.head()"
   ]
  },
  {
   "cell_type": "code",
   "execution_count": 292,
   "metadata": {
    "collapsed": false
   },
   "outputs": [
    {
     "data": {
      "text/html": [
       "<div>\n",
       "<table border=\"1\" class=\"dataframe\">\n",
       "  <thead>\n",
       "    <tr style=\"text-align: right;\">\n",
       "      <th></th>\n",
       "      <th>white_share_scale</th>\n",
       "      <th>no_hs_scale</th>\n",
       "      <th>median_income_scale</th>\n",
       "      <th>poverty_rate_scale</th>\n",
       "      <th>un_rate_scale</th>\n",
       "    </tr>\n",
       "    <tr>\n",
       "      <th>target</th>\n",
       "      <th></th>\n",
       "      <th></th>\n",
       "      <th></th>\n",
       "      <th></th>\n",
       "      <th></th>\n",
       "    </tr>\n",
       "  </thead>\n",
       "  <tbody>\n",
       "    <tr>\n",
       "      <th>0</th>\n",
       "      <td>0.468539</td>\n",
       "      <td>-0.226692</td>\n",
       "      <td>-0.162652</td>\n",
       "      <td>-0.241890</td>\n",
       "      <td>-0.181620</td>\n",
       "    </tr>\n",
       "    <tr>\n",
       "      <th>1</th>\n",
       "      <td>-0.381185</td>\n",
       "      <td>0.010536</td>\n",
       "      <td>-0.291745</td>\n",
       "      <td>0.183036</td>\n",
       "      <td>0.115866</td>\n",
       "    </tr>\n",
       "  </tbody>\n",
       "</table>\n",
       "</div>"
      ],
      "text/plain": [
       "        white_share_scale  no_hs_scale  median_income_scale  \\\n",
       "target                                                        \n",
       "0                0.468539    -0.226692            -0.162652   \n",
       "1               -0.381185     0.010536            -0.291745   \n",
       "\n",
       "        poverty_rate_scale  un_rate_scale  \n",
       "target                                     \n",
       "0                -0.241890      -0.181620  \n",
       "1                 0.183036       0.115866  "
      ]
     },
     "execution_count": 292,
     "metadata": {},
     "output_type": "execute_result"
    }
   ],
   "source": [
    "dff.groupby(\"target\").median()"
   ]
  },
  {
   "cell_type": "code",
   "execution_count": 293,
   "metadata": {
    "collapsed": true
   },
   "outputs": [],
   "source": [
    "def pred_log(table):\n",
    "    x = table.iloc[:,1:]\n",
    "    y = table[[0]]\n",
    "    y = np.ravel(y)\n",
    "    model = LogisticRegression(class_weight=\"balanced\")\n",
    "    model = model.fit(x,y)\n",
    "    df = pd.DataFrame(zip(x.columns, np.transpose(model.coef_)), columns=[\"coef\", \"value\"])\n",
    "    f = np.asarray([i[0,] for i in df.value])\n",
    "    df[\"value\"] = f\n",
    "    df[\"e\"] = np.e**f\n",
    "    return df"
   ]
  },
  {
   "cell_type": "code",
   "execution_count": 919,
   "metadata": {
    "collapsed": false
   },
   "outputs": [],
   "source": [
    "# p"
   ]
  },
  {
   "cell_type": "code",
   "execution_count": null,
   "metadata": {
    "collapsed": true
   },
   "outputs": [],
   "source": []
  }
 ],
 "metadata": {
  "kernelspec": {
   "display_name": "Python 2",
   "language": "python",
   "name": "python2"
  },
  "language_info": {
   "codemirror_mode": {
    "name": "ipython",
    "version": 2
   },
   "file_extension": ".py",
   "mimetype": "text/x-python",
   "name": "python",
   "nbconvert_exporter": "python",
   "pygments_lexer": "ipython2",
   "version": "2.7.11"
  }
 },
 "nbformat": 4,
 "nbformat_minor": 0
}
